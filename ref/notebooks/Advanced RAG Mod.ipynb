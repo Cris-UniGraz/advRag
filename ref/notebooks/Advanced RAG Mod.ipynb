{
 "cells": [
  {
   "cell_type": "code",
   "execution_count": 462,
   "id": "daa847c7-ffc1-4f40-8159-745d52c0809c",
   "metadata": {},
   "outputs": [],
   "source": [
    "EMBEDDING_MODEL_NAME = 'deutsche-telekom/gbert-large-paraphrase-cosine'"
   ]
  },
  {
   "cell_type": "code",
   "execution_count": 463,
   "id": "c6ed4779-582b-44c0-aa1c-7778b25a93a3",
   "metadata": {},
   "outputs": [],
   "source": [
    "### SECTION 1.1 Load PDF files"
   ]
  },
  {
   "cell_type": "code",
   "execution_count": 464,
   "id": "95d8b20f-b701-4155-b4e7-6481cf221995",
   "metadata": {},
   "outputs": [],
   "source": [
    "import fitz  # PyMuPDF\n",
    "from langchain.docstore.document import Document\n",
    "import docx\n",
    "import openpyxl\n",
    "import os\n",
    "\n",
    "def load_documents(files):\n",
    "    \"\"\"\n",
    "    Loads documents from PDF, DOCX, and XLSX files.\n",
    "\n",
    "    Parameters:\n",
    "    - files: A string representing a single file path or a list of strings representing multiple file paths.\n",
    "\n",
    "    Returns:\n",
    "    - A list of Document objects loaded from the provided files.\n",
    "\n",
    "    Raises:\n",
    "    - FileNotFoundError: If any of the provided file paths do not exist.\n",
    "    - Exception: For any other issues encountered during file loading.\n",
    "    \"\"\"\n",
    "    if not isinstance(files, list):\n",
    "        files = [files]  # Ensure 'files' is always a list\n",
    "\n",
    "    documents = []\n",
    "    for file_path in files:\n",
    "        try:\n",
    "            file_extension = os.path.splitext(file_path)[1].lower()\n",
    "            if file_extension == '.pdf':\n",
    "                documents.extend(load_pdf(file_path))\n",
    "            elif file_extension == '.docx':\n",
    "                documents.extend(load_docx(file_path))\n",
    "            elif file_extension == '.xlsx':\n",
    "                documents.extend(load_xlsx(file_path))\n",
    "            else:\n",
    "                print(f\"Unsupported file type: {file_extension}\")\n",
    "        except FileNotFoundError as e:\n",
    "            print(f\"File not found: {e.filename}\")\n",
    "            raise\n",
    "        except Exception as e:\n",
    "            print(f\"An error occurred while loading {file_path}: {e}\")\n",
    "            raise\n",
    "\n",
    "    return documents\n",
    "\n",
    "def load_docx(file_path):\n",
    "    \"\"\"\n",
    "    Loads text from a DOCX file.\n",
    "    \"\"\"\n",
    "    doc = docx.Document(file_path)\n",
    "    text = \"\\n\".join([paragraph.text for paragraph in doc.paragraphs])\n",
    "    text = clean_extra_whitespace(text)\n",
    "    text = group_broken_paragraphs(text)\n",
    "    return [Document(page_content=text, metadata={\"source\": file_path})]\n",
    "\n",
    "def load_xlsx(file_path):\n",
    "    \"\"\"\n",
    "    Loads text from an XLSX file.\n",
    "    \"\"\"\n",
    "    wb = openpyxl.load_workbook(file_path)\n",
    "    text = \"\"\n",
    "    for sheet in wb.sheetnames:\n",
    "        ws = wb[sheet]\n",
    "        for row in ws.iter_rows(values_only=True):\n",
    "            text += \" \".join([str(cell) for cell in row if cell is not None]) + \"\\n\"\n",
    "    text = clean_extra_whitespace(text)\n",
    "    text = group_broken_paragraphs(text)\n",
    "    return [Document(page_content=text, metadata={\"source\": file_path})]\n",
    "    \n",
    "def load_pdf(file_path):\n",
    "    \"\"\"\n",
    "    Loads documents from a PDF file using PyMuPDF.\n",
    "\n",
    "    Parameters:\n",
    "    - file_path: A string representing the path to the PDF file.\n",
    "\n",
    "    Returns:\n",
    "    - A list containing a single Document object loaded from the provided PDF file.\n",
    "\n",
    "    Raises:\n",
    "    - FileNotFoundError: If the provided file path does not exist.\n",
    "    - Exception: For any other issues encountered during file loading.\n",
    "\n",
    "    The function applies post-processing steps such as cleaning extra whitespace and grouping broken paragraphs.\n",
    "    \"\"\"\n",
    "    try:\n",
    "        # Open the PDF file\n",
    "        doc = fitz.open(file_path)\n",
    "        text = \"\"\n",
    "        # Extract text from each page\n",
    "        for page_num in range(len(doc)):\n",
    "            page = doc.load_page(page_num)\n",
    "            text += page.get_text(\"text\")\n",
    "\n",
    "        # Apply post-processing steps\n",
    "        text = clean_extra_whitespace(text)\n",
    "        text = group_broken_paragraphs(text)\n",
    "\n",
    "        # Create a Document object\n",
    "        document = Document(\n",
    "            page_content=text,\n",
    "            metadata={\"source\": file_path}\n",
    "        )\n",
    "        return [document]\n",
    "    except FileNotFoundError:\n",
    "        print(f\"File not found: {file_path}\")\n",
    "        raise\n",
    "    except Exception as e:\n",
    "        print(f\"An error occurred while loading {file_path}: {e}\")\n",
    "        raise\n",
    "\n",
    "def clean_extra_whitespace(text):\n",
    "    \"\"\"\n",
    "    Cleans extra whitespace from the provided text.\n",
    "\n",
    "    Parameters:\n",
    "    - text: A string representing the text to be cleaned.\n",
    "\n",
    "    Returns:\n",
    "    - A string with extra whitespace removed.\n",
    "    \"\"\"\n",
    "    return ' '.join(text.split())\n",
    "\n",
    "def group_broken_paragraphs(text):\n",
    "    \"\"\"\n",
    "    Groups broken paragraphs in the provided text.\n",
    "\n",
    "    Parameters:\n",
    "    - text: A string representing the text to be processed.\n",
    "\n",
    "    Returns:\n",
    "    - A string with broken paragraphs grouped.\n",
    "    \"\"\"\n",
    "    return text.replace(\"\\n\", \" \").replace(\"\\r\", \" \")\n"
   ]
  },
  {
   "cell_type": "code",
   "execution_count": 465,
   "id": "7dbdaba1-d49b-4073-a935-d9b4122eedef",
   "metadata": {},
   "outputs": [
    {
     "name": "stdout",
     "output_type": "stream",
     "text": [
      "['C:/Pruebas/RAG Search/demo_docu/Ansuchen Bildungskarenz.docx', 'C:/Pruebas/RAG Search/demo_docu/Broschuere_Int-Mitarbeitende_2023_WEB.pdf', 'C:/Pruebas/RAG Search/demo_docu/BV_Sonderurlaube_2014-02.pdf', 'C:/Pruebas/RAG Search/demo_docu/BV_Sonderurlaube_Dienstverhinderungen.pdf', 'C:/Pruebas/RAG Search/demo_docu/Doku-An-Abwesenheit-Corona-Krise.xlsx', 'C:/Pruebas/RAG Search/demo_docu/Papamonat_Frühkarenzurlaub_für_Väter.pdf']\n"
     ]
    }
   ],
   "source": [
    "directory = \"C:/Pruebas/RAG Search/demo_docu\"\n",
    "# Get all files in the directory\n",
    "files = os.listdir(directory)\n",
    "# Filter out PDF, DOCX, and XLSX files\n",
    "document_files = [f\"{directory}/{file}\" for file in files if file.endswith(('.pdf', '.docx', '.xlsx'))]\n",
    "print(document_files)"
   ]
  },
  {
   "cell_type": "code",
   "execution_count": 466,
   "id": "741ff86d-a95a-4bcb-a4d8-9b4ddacfad65",
   "metadata": {},
   "outputs": [],
   "source": [
    "documents = load_documents(files=document_files)"
   ]
  },
  {
   "cell_type": "code",
   "execution_count": 467,
   "id": "00900bb7-4a10-4bce-bcfe-bbde44300a29",
   "metadata": {},
   "outputs": [
    {
     "data": {
      "text/plain": [
       "6"
      ]
     },
     "execution_count": 467,
     "metadata": {},
     "output_type": "execute_result"
    }
   ],
   "source": [
    "len(documents)"
   ]
  },
  {
   "cell_type": "code",
   "execution_count": 290,
   "id": "54aeb403-eca3-485f-abc8-c286e53caf7a",
   "metadata": {},
   "outputs": [],
   "source": [
    "### SECTION 1.3 Experimenting with Chunk Sizes using RecursiveCharacterTextSplitter\n",
    "\n",
    "#### Introduction\n",
    "#We are exploring the effects of various chunk sizes on text segmentation using the RecursiveCharacterTextSplitter from Langchain. This experiment is designed to refine our methods for optimally dividing text.\n",
    "\n",
    "#### Parameters Explained\n",
    "#- **Chunk Size**: This parameter sets the length of each text chunk, typically measured in characters. We begin with a predetermined chunk size to monitor how the text is segmented.\n",
    "#- **Chunk Overlap**: This allows for a slight overlap between consecutive chunks to prevent ideas from being split across two chunks. Initially, the overlap is set to 10% of the chunk size, but adjustments may lead to different results.\n",
    "\n",
    "#### Purpose\n",
    "#The objective of this experiment is to investigate how varying chunk size and overlap affect text division. By testing different configurations, we seek to discover a strategy that maintains the coherence of ideas while effectively segmenting the text.\n"
   ]
  },
  {
   "cell_type": "code",
   "execution_count": 291,
   "id": "741d0ca5-169c-44fd-b857-d9b6b4061df9",
   "metadata": {},
   "outputs": [],
   "source": [
    "def split_documents(\n",
    "    chunk_size: int,\n",
    "    knowledge_base,\n",
    "    tokenizer_name= EMBEDDING_MODEL_NAME,\n",
    "):\n",
    "    \"\"\"\n",
    "    Splits documents into chunks of maximum size `chunk_size` tokens, using a specified tokenizer.\n",
    "\n",
    "    Parameters:\n",
    "    - chunk_size: The maximum number of tokens for each chunk.\n",
    "    - knowledge_base: A list of LangchainDocument objects to be split.\n",
    "    - tokenizer_name: (Optional) The name of the tokenizer to use. Defaults to `EMBEDDING_MODEL_NAME`.\n",
    "\n",
    "    Returns:\n",
    "    - A list of LangchainDocument objects, each representing a chunk. Duplicates are removed based on `page_content`.\n",
    "\n",
    "    Raises:\n",
    "    - ImportError: If necessary modules for tokenization are not available.\n",
    "    \"\"\"\n",
    "    text_splitter = RecursiveCharacterTextSplitter.from_huggingface_tokenizer(\n",
    "        AutoTokenizer.from_pretrained(tokenizer_name),\n",
    "        chunk_size=chunk_size,\n",
    "        chunk_overlap=int(chunk_size / 10),\n",
    "        add_start_index=True,\n",
    "        strip_whitespace=True,\n",
    "    )\n",
    "\n",
    "    docs_processed = (text_splitter.split_documents([doc]) for doc in knowledge_base)\n",
    "    # Flatten list and remove duplicates more efficiently\n",
    "    unique_texts = set()\n",
    "    docs_processed_unique = []\n",
    "    for doc_chunk in docs_processed:\n",
    "        for doc in doc_chunk:\n",
    "            if doc.page_content not in unique_texts:\n",
    "                unique_texts.add(doc.page_content)\n",
    "                docs_processed_unique.append(doc)\n",
    "\n",
    "    return docs_processed_unique"
   ]
  },
  {
   "cell_type": "code",
   "execution_count": 292,
   "id": "d89f64b8-f84b-47a9-aeeb-cbf335daf826",
   "metadata": {},
   "outputs": [
    {
     "name": "stdout",
     "output_type": "stream",
     "text": [
      "Number of chunks: 88\n"
     ]
    }
   ],
   "source": [
    "from langchain.text_splitter import RecursiveCharacterTextSplitter\n",
    "from transformers import AutoTokenizer\n",
    "\n",
    "docs_processed = split_documents(\n",
    "    512,  # We choose a chunk size adapted to our model\n",
    "    documents,\n",
    "    tokenizer_name=EMBEDDING_MODEL_NAME,\n",
    ")\n",
    "\n",
    "print(f\"Number of chunks: {len(docs_processed)}\")"
   ]
  },
  {
   "cell_type": "code",
   "execution_count": 293,
   "id": "3503aa35-bb2b-4ea6-97c0-b485dbe363ef",
   "metadata": {},
   "outputs": [],
   "source": [
    "#### SECTION 1.4 The Embedding Model"
   ]
  },
  {
   "cell_type": "code",
   "execution_count": 294,
   "id": "00799f2c-c856-4c3f-a2bc-b5b3c2e7e5ef",
   "metadata": {},
   "outputs": [],
   "source": [
    "from langchain_huggingface import HuggingFaceEmbeddings\n",
    "from tqdm.autonotebook import tqdm, trange\n",
    "\n",
    "embedding_model = HuggingFaceEmbeddings(model_name=\"deutsche-telekom/gbert-large-paraphrase-cosine\")"
   ]
  },
  {
   "cell_type": "code",
   "execution_count": 295,
   "id": "f0885a24-5550-420a-814f-795625d49120",
   "metadata": {},
   "outputs": [
    {
     "data": {
      "text/plain": [
       "HuggingFaceEmbeddings(client=SentenceTransformer(\n",
       "  (0): Transformer({'max_seq_length': 512, 'do_lower_case': False}) with Transformer model: BertModel \n",
       "  (1): Pooling({'word_embedding_dimension': 1024, 'pooling_mode_cls_token': False, 'pooling_mode_mean_tokens': True, 'pooling_mode_max_tokens': False, 'pooling_mode_mean_sqrt_len_tokens': False, 'pooling_mode_weightedmean_tokens': False, 'pooling_mode_lasttoken': False, 'include_prompt': True})\n",
       "), model_name='deutsche-telekom/gbert-large-paraphrase-cosine', cache_folder=None, model_kwargs={}, encode_kwargs={}, multi_process=False, show_progress=False)"
      ]
     },
     "execution_count": 295,
     "metadata": {},
     "output_type": "execute_result"
    }
   ],
   "source": [
    "embedding_model"
   ]
  },
  {
   "cell_type": "code",
   "execution_count": 296,
   "id": "a820a77d-5b80-49f9-98b3-90fe4c88d5e3",
   "metadata": {},
   "outputs": [],
   "source": [
    "### Vector Store"
   ]
  },
  {
   "cell_type": "code",
   "execution_count": 297,
   "id": "4cc83890-594f-446f-b563-e75c221cd92a",
   "metadata": {},
   "outputs": [],
   "source": [
    "# Ruta a la carpeta local con archivos PDF, DOCX y XLSX\n",
    "#folder_path = \"C:/Pruebas/RAG Search/demo_docu_3\" #\"C:/Users/hernandc/RAG Test/RAG Advanced/data\" #\"C:/Pruebas/RAG Search/Documentos\" #demo_docu_2\" #demo_docu\" #Documentos\"\n",
    "\n",
    "# Lista para almacenar los datos de todos los documentos\n",
    "data = []"
   ]
  },
  {
   "cell_type": "code",
   "execution_count": 298,
   "id": "8d589bfa-4f28-4adf-ae8e-631bc23fc66b",
   "metadata": {},
   "outputs": [
    {
     "name": "stderr",
     "output_type": "stream",
     "text": [
      "DEBUG:pymilvus.milvus_client.milvus_client:Created new connection using: 49be3e3606f9475eaecf3110cd6e11d4\n",
      "Procesando documentos: 100%|█████████████████████████████████████████████████████████████████| 168/168 [00:00<?, ?it/s]\n",
      "Insertando documentos en Milvus: 100%|███████████████████████████████████████████████| 168/168 [03:12<00:00,  1.15s/it]\n"
     ]
    }
   ],
   "source": [
    "from langchain.text_splitter import RecursiveCharacterTextSplitter\n",
    "from tqdm import tqdm\n",
    "#from langchain.vectorstores.milvus import Milvus\n",
    "from langchain_milvus import Milvus\n",
    "from pymilvus import MilvusClient\n",
    "import os\n",
    "\n",
    "# Inicializar el cliente de Milvus\n",
    "client = MilvusClient()\n",
    "\n",
    "# Nombre de la colección\n",
    "COLLECTION_NAME = \"uni_test_5_2\" #\"uni_test\" \"rag_milvus_webinar\"\n",
    "\n",
    "# Verificar si la colección ya existe\n",
    "if client.has_collection(COLLECTION_NAME):\n",
    "    print(f\"Cargando la colección existente: {COLLECTION_NAME}\")\n",
    "\n",
    "    # Crear una lista para almacenar los documentos procesados\n",
    "else:\n",
    "    text_splitter = RecursiveCharacterTextSplitter(\n",
    "        chunk_size=512,  # the maximum number of characters in a chunk: we selected this value arbitrarily\n",
    "        chunk_overlap=100,  # the number of characters to overlap between chunks\n",
    "        add_start_index=True,  # If `True`, includes chunk's start index in metadata\n",
    "        strip_whitespace=True,  # If `True`, strips whitespace from the start and end of every document\n",
    "    )\n",
    "    all_splits = text_splitter.split_documents(docs_processed)\n",
    "\n",
    "    docs_processed = []\n",
    "    \n",
    "    # Iterar sobre los documentos y mostrar el progreso\n",
    "    for doc in tqdm(all_splits, desc=\"Procesando documentos\"):\n",
    "        docs_processed.append(doc)\n",
    "\n",
    "    # Supongamos que Milvus.from_documents permite la inserción en lotes\n",
    "    batch_size = 1  # Tamaño del lote\n",
    "    num_batches = len(docs_processed) // batch_size + (1 if len(docs_processed) % batch_size != 0 else 0)\n",
    "\n",
    "    # Crear el vectorstore con los documentos procesados en lotes\n",
    "    for i in tqdm(range(num_batches), desc=\"Insertando documentos en Milvus\"):\n",
    "        batch = docs_processed[i * batch_size:(i + 1) * batch_size]\n",
    "        Milvus.from_documents(documents=batch, embedding=embedding_model, collection_name=COLLECTION_NAME)\n",
    "\n",
    "vectorstore = Milvus(collection_name=COLLECTION_NAME, embedding_function=embedding_model)"
   ]
  },
  {
   "cell_type": "code",
   "execution_count": 299,
   "id": "57d43ba2-7b9d-4682-a378-d200c620f787",
   "metadata": {},
   "outputs": [],
   "source": [
    "retriever = vectorstore.as_retriever()"
   ]
  },
  {
   "cell_type": "code",
   "execution_count": 300,
   "id": "b0c663cb-6a77-4133-91d1-a349eb6d80a6",
   "metadata": {},
   "outputs": [
    {
     "data": {
      "text/plain": [
       "[Document(metadata={'source': 'C:/Pruebas/RAG Search/demo_docu/BV_Sonderurlaube_Dienstverhinderungen.pdf', 'start_index': 0, 'pk': 451633302904136616}, page_content='Abs. 2 Arbeitsruhegesetz [ARG]) für die gemäß ihren religiösen Vorschriften festgelegten Feiertage die unbedingt erforderliche freie Zeit unter Fortzahlung des Entgeltes im Höchstausmaß von zwei Arbeitstagen pro Kalenderjahr zwei Arbeitstagen pro Kalenderjahr zwei Arbeitstagen pro Kalenderjahr zwei Arbeitstagen pro Kalenderjahr. Diese Feiertage sind vom/von der Dienstnehmer/in unverzüglich nach Abschluss des Arbeitsvertrages (bzw bei bestehenden Dienst- /Arbeitsverhältnissen innerhalb eines Monats nach'),\n",
       " Document(metadata={'source': 'C:/Pruebas/RAG Search/demo_docu/BV_Sonderurlaube_Dienstverhinderungen.pdf', 'start_index': 0, 'pk': 451633302904136612}, page_content='f. f. f. f. Teilnahme an der Bestattung naher Angehöriger, die nicht im gemeinsamen Haushalt gelebt haben ein Arbeitstag ein Arbeitstag ein Arbeitstag ein Arbeitstag Seite 5 von 7 g. g. g. g. Teilnahme an der Bestattung der Eltern des Ehepartners/eingetragenen Partners/Lebensgefährten ein Arbeitstag ein Arbeitstag ein Arbeitstag ein Arbeitstag h. h. h. h. Wohnungswechsel zwei Arbeitstage zwei Arbeitstage zwei Arbeitstage zwei Arbeitstage i. i. i. i. Dienstnehmer/innen, die einer staatlich anerkannten'),\n",
       " Document(metadata={'source': 'C:/Pruebas/RAG Search/demo_docu/Papamonat_Frühkarenzurlaub_für_Väter.pdf', 'start_index': 0, 'pk': 451633302904136680}, page_content='– zusätzlich zur Karenz – den Frühkarenzurlaub oder sogenannten „Papamonat“ beantragen. Dabei handelt es sich um einen bis zu vierwöchigen unbezahlten Urlaub, der von der Geburt des Kindes bis längstens zum Ende des Mutterschutzes in Anspruch genommen werden kann. Der Sozialversicherungsschutz bleibt aufrecht. Im März des Vorjahres haben Rektorin Christa Neuper, Isabelle Pircher (Betriebsrat für das allgemeine Universitätspersonal) und Ingo Kropac (Betriebsrat für das wissenschaftliche Universitätspersonal)'),\n",
       " Document(metadata={'source': 'C:/Pruebas/RAG Search/demo_docu/Papamonat_Frühkarenzurlaub_für_Väter.pdf', 'start_index': 0, 'pk': 451633302904136684}, page_content='und Vertragsbedienstete bestand diese Regelung bereits. „Väterkarenz und Papamonat sind Teile des universitären Schwerpunktprogrammes ,Work-Life-Balance‘, das die Vereinbarkeit von Beruf, Kinderbetreuung, Familie und Pflege umfasst“, erklärt Vizerektorin Renate Dworczak. Ein Uni-Mitarbeiter, der die Möglichkeit der Väterkarenz genutzt hat, ist Jakob Putz, am Foto mit Sohn Philipp. „Als wir erfahren haben, dass wir ein Kind bekommen, stand es für mich fest, zuhause zu bleiben“, erzählt der Mitarbeiter vom')]"
      ]
     },
     "execution_count": 300,
     "metadata": {},
     "output_type": "execute_result"
    }
   ],
   "source": [
    "#similar_chunks = retriever.get_relevant_documents(query=\"﻿﻿Mein Vater ist gestorben, wie viel Tage Sonderurlaub bekomme ich?\")\n",
    "similar_chunks = retriever.invoke(input=\"﻿﻿Mein Vater ist gestorben, wie viel Tage Sonderurlaub bekomme ich?\")\n",
    "similar_chunks"
   ]
  },
  {
   "cell_type": "code",
   "execution_count": 301,
   "id": "ee97a96f-e9f2-43fc-ac65-dd84915427cd",
   "metadata": {},
   "outputs": [
    {
     "name": "stdout",
     "output_type": "stream",
     "text": [
      "--------------------------------- chunk # 0 -------------------------------------\n",
      "Abs. 2 Arbeitsruhegesetz [ARG]) für die gemäß ihren religiösen Vorschriften festgelegten Feiertage die unbedingt erforderliche freie Zeit unter Fortzahlung des Entgeltes im Höchstausmaß von zwei Arbeitstagen pro Kalenderjahr zwei Arbeitstagen pro Kalenderjahr zwei Arbeitstagen pro Kalenderjahr zwei Arbeitstagen pro Kalenderjahr. Diese Feiertage sind vom/von der Dienstnehmer/in unverzüglich nach Abschluss des Arbeitsvertrages (bzw bei bestehenden Dienst- /Arbeitsverhältnissen innerhalb eines Monats nach\n",
      "--------------------------------- chunk # 1 -------------------------------------\n",
      "f. f. f. f. Teilnahme an der Bestattung naher Angehöriger, die nicht im gemeinsamen Haushalt gelebt haben ein Arbeitstag ein Arbeitstag ein Arbeitstag ein Arbeitstag Seite 5 von 7 g. g. g. g. Teilnahme an der Bestattung der Eltern des Ehepartners/eingetragenen Partners/Lebensgefährten ein Arbeitstag ein Arbeitstag ein Arbeitstag ein Arbeitstag h. h. h. h. Wohnungswechsel zwei Arbeitstage zwei Arbeitstage zwei Arbeitstage zwei Arbeitstage i. i. i. i. Dienstnehmer/innen, die einer staatlich anerkannten\n",
      "--------------------------------- chunk # 2 -------------------------------------\n",
      "– zusätzlich zur Karenz – den Frühkarenzurlaub oder sogenannten „Papamonat“ beantragen. Dabei handelt es sich um einen bis zu vierwöchigen unbezahlten Urlaub, der von der Geburt des Kindes bis längstens zum Ende des Mutterschutzes in Anspruch genommen werden kann. Der Sozialversicherungsschutz bleibt aufrecht. Im März des Vorjahres haben Rektorin Christa Neuper, Isabelle Pircher (Betriebsrat für das allgemeine Universitätspersonal) und Ingo Kropac (Betriebsrat für das wissenschaftliche Universitätspersonal)\n",
      "--------------------------------- chunk # 3 -------------------------------------\n",
      "und Vertragsbedienstete bestand diese Regelung bereits. „Väterkarenz und Papamonat sind Teile des universitären Schwerpunktprogrammes ,Work-Life-Balance‘, das die Vereinbarkeit von Beruf, Kinderbetreuung, Familie und Pflege umfasst“, erklärt Vizerektorin Renate Dworczak. Ein Uni-Mitarbeiter, der die Möglichkeit der Väterkarenz genutzt hat, ist Jakob Putz, am Foto mit Sohn Philipp. „Als wir erfahren haben, dass wir ein Kind bekommen, stand es für mich fest, zuhause zu bleiben“, erzählt der Mitarbeiter vom\n"
     ]
    }
   ],
   "source": [
    "for i, chunks in enumerate(similar_chunks):\n",
    "    print(f\"--------------------------------- chunk # {i} -------------------------------------\")\n",
    "    print(chunks.page_content)"
   ]
  },
  {
   "cell_type": "code",
   "execution_count": 302,
   "id": "dacb840b-ddda-4258-95ee-c43e93e64a11",
   "metadata": {},
   "outputs": [],
   "source": [
    "def retrieve_context(query, retriever):\n",
    "    \"\"\"\n",
    "    Retrieves and reranks documents relevant to a given query.\n",
    "\n",
    "    Parameters:\n",
    "    - query: The search query as a string.\n",
    "    - retriever: An instance of a Retriever class used to fetch initial documents.\n",
    "\n",
    "    Returns:\n",
    "    - A list of reranked documents deemed relevant to the query.\n",
    "\n",
    "    \"\"\"\n",
    "    retrieved_docs = retriever.invoke(input=query)\n",
    "\n",
    "    return retrieved_docs"
   ]
  },
  {
   "cell_type": "code",
   "execution_count": 303,
   "id": "e929bffb-2c40-473d-9d19-db4a5d776292",
   "metadata": {},
   "outputs": [],
   "source": [
    "### SECTION 1.5 Putting Everything Together"
   ]
  },
  {
   "cell_type": "code",
   "execution_count": 304,
   "id": "e0c1a1e5-e7ed-4b79-94d7-5e67a1fcd085",
   "metadata": {},
   "outputs": [],
   "source": [
    "### Using AZURE OPENAI API\n",
    "\n",
    "#Moving forward, we will be using both openai LLM and Embedding model."
   ]
  },
  {
   "cell_type": "code",
   "execution_count": 305,
   "id": "986e1352-c727-4da2-acd9-aa3698ed659d",
   "metadata": {},
   "outputs": [],
   "source": [
    "from langchain.prompts import ChatPromptTemplate\n",
    "prompt_template = ChatPromptTemplate.from_template(\n",
    "        (\n",
    "            \"Bitte beantworte die folgende Anfrage auf der Grundlage des angegebenen `Kontext`, der auf die Anfrage folgt.\\n\"\n",
    "            \"Wenn du die Antwort nicht weißt, dann sag einfach 'Ich weiß es nicht'.\\n\"\n",
    "            \"Anfrage: {question}\\n\"\n",
    "            \"Kontext: ```{context}```\\n\"\n",
    "        )\n",
    "    )"
   ]
  },
  {
   "cell_type": "code",
   "execution_count": 306,
   "id": "3c87c90c-6d29-4662-8f37-a9d76b3610a5",
   "metadata": {},
   "outputs": [
    {
     "data": {
      "text/plain": [
       "True"
      ]
     },
     "execution_count": 306,
     "metadata": {},
     "output_type": "execute_result"
    }
   ],
   "source": [
    "from dotenv import load_dotenv\n",
    "import os\n",
    "from pathlib import Path\n",
    "\n",
    "dotenv_path = Path(r'C:\\Users\\hernandc\\RAG Test\\apikeys.env')\n",
    "load_dotenv(dotenv_path=dotenv_path)"
   ]
  },
  {
   "cell_type": "code",
   "execution_count": 307,
   "id": "672a2d22-cda9-4d06-bb8f-5b2d12649a05",
   "metadata": {},
   "outputs": [],
   "source": [
    "from openai import AzureOpenAI\n",
    "\n",
    "# Configurar el cliente de Azure OpenAI\n",
    "client = AzureOpenAI(\n",
    "    api_key=os.getenv(\"AZURE_OPENAI_API_KEY\"),  \n",
    "    api_version=\"2023-05-15\",\n",
    "    azure_endpoint=os.getenv(\"AZURE_OPENAI_ENDPOINT\")\n",
    ")\n",
    "\n",
    "AZURE_OPENAI_MODEL = \"gpt-4-turbo\" # \"gpt-4\"  # Reemplaza esto con el nombre de tu despliegue de GPT-4 en Azure"
   ]
  },
  {
   "cell_type": "code",
   "execution_count": 308,
   "id": "842a6fb2-051a-40e6-9357-225076c75d68",
   "metadata": {},
   "outputs": [],
   "source": [
    "from langchain_core.runnables import RunnablePassthrough\n",
    "from langchain_core.output_parsers import StrOutputParser\n",
    "from langchain.schema import HumanMessage\n",
    "\n",
    "def azure_openai_call(prompt):\n",
    "    # Si el prompt es un objeto HumanMessage, extraemos su contenido\n",
    "    if isinstance(prompt, HumanMessage):\n",
    "        prompt_content = prompt.content\n",
    "    else:\n",
    "        prompt_content = str(prompt)\n",
    "    \n",
    "    response = client.chat.completions.create(\n",
    "        model=AZURE_OPENAI_MODEL,\n",
    "        messages=[\n",
    "            {\"role\": \"system\", \"content\": \"You are a helpful assistant.\"},\n",
    "            {\"role\": \"user\", \"content\": prompt_content}\n",
    "        ]\n",
    "    )\n",
    "    return response.choices[0].message.content\n",
    "\n",
    "llm = (lambda x: azure_openai_call(x))  # Envolver la llamada en una función lambda\n",
    "chain = prompt_template | llm | StrOutputParser()"
   ]
  },
  {
   "cell_type": "code",
   "execution_count": 309,
   "id": "ba89e99a-ba9f-4c60-8204-4205018653e3",
   "metadata": {},
   "outputs": [],
   "source": [
    "query = \"Wer ist der Rektor der Universität Graz und in welchem Jahr wurde er geboren?\"\n",
    "\n",
    "context = retrieve_context(\n",
    "        query, retriever=retriever,\n",
    "    )"
   ]
  },
  {
   "cell_type": "code",
   "execution_count": 310,
   "id": "cad28085-bebc-4de7-ba03-6623df276388",
   "metadata": {},
   "outputs": [
    {
     "data": {
      "text/plain": [
       "[Document(metadata={'start_index': 0, 'pk': 451633302904136368, 'source': 'C:/Pruebas/RAG Search/demo_docu/Broschuere_Int-Mitarbeitende_2023_WEB.pdf'}, page_content='um Ihr Arbeitsverhältnis 12 Häufig gestellte Fragen 14 Services & Infos im Überblick Ein Überblick für den Start 16 Über die Uni Graz © Uni Graz/Konstantinov 5 Über die Universität Die Universität Graz, gegründet 1585, ist Österreichs zweitälteste Universität und eine der größten des Landes. Zahlreiche herausragende Wissenschafter:innen, unter ihnen sechs Nobelpreisträger, haben hier gelehrt und geforscht. Mit rund 30.000 Studierenden und 4.500 Mitarbeitenden trägt sie entscheidend zum pulsierenden Leben'),\n",
       " Document(metadata={'start_index': 417, 'pk': 451633302904136390, 'source': 'C:/Pruebas/RAG Search/demo_docu/Broschuere_Int-Mitarbeitende_2023_WEB.pdf'}, page_content='am Institut für Öffentliches Recht und Politikwissenschaft und leitete bis September 2022 die Abteilung Finanzen, Personal und Recht der Universität für Weiterbildung Krems. © Uni Graz/WildundWunderbar © Uni Graz/WildundWunderbar Organigramm FAKULTÄTEN* UNIRAT Der Unirat besteht aus 9'),\n",
       " Document(metadata={'start_index': 0, 'pk': 451633302904136376, 'source': 'C:/Pruebas/RAG Search/demo_docu/Broschuere_Int-Mitarbeitende_2023_WEB.pdf'}, page_content='Graz. Seine beruflichen Stationen führten ihn unter anderem ins Europäische Parlament in Brüssel, in die Steiermärki\\xad sche Landesregierung, 2002 ins Bundeskanzleramt, mit den Schwerpunkten Wirtschaft und Forschung, sowie 2007 als Director of Public Affairs zur AVL List GmbH in Graz. 2011 wurde Riedler Vizerektor, im Dezember 2021 geschäftsfüh\\xad render Rektor der Universität Graz. Seit Oktober 2022 ist er Rektor. Vizerektor für Forschung Univ.-Prof. Dr. Joachim Reidl Joachim Reidl ist seit 2007'),\n",
       " Document(metadata={'start_index': 400, 'pk': 451633302904136494, 'source': 'C:/Pruebas/RAG Search/demo_docu/Broschuere_Int-Mitarbeitende_2023_WEB.pdf'}, page_content='akgl.uni-graz.at Universitätsbibliothek ub.uni-graz.at Studienabteilung +43 316 380 1162 / 2192 zulassung.international@uni-graz.at 17 Early stage researchers (PhDs & PostDocs) Der Universität Graz ist die Unterstützung, Aus- und Weiterbildung ihrer „early stage researcher“')]"
      ]
     },
     "execution_count": 310,
     "metadata": {},
     "output_type": "execute_result"
    }
   ],
   "source": [
    "context"
   ]
  },
  {
   "cell_type": "code",
   "execution_count": 311,
   "id": "c47f984b-1635-4106-91ff-ed8066dbf23e",
   "metadata": {},
   "outputs": [],
   "source": [
    "text = \"\"\n",
    "for ch in context:\n",
    "    text += ch.page_content"
   ]
  },
  {
   "cell_type": "code",
   "execution_count": 312,
   "id": "efdafdbb-07cf-4de0-b952-b9c19d878c61",
   "metadata": {},
   "outputs": [
    {
     "name": "stdout",
     "output_type": "stream",
     "text": [
      "um Ihr Arbeitsverhältnis 12 Häufig gestellte Fragen 14 Services & Infos im Überblick Ein Überblick für den Start 16 Über die Uni Graz © Uni Graz/Konstantinov 5 Über die Universität Die Universität Graz, gegründet 1585, ist Österreichs zweitälteste Universität und eine der größten des Landes. Zahlreiche herausragende Wissenschafter:innen, unter ihnen sechs Nobelpreisträger, haben hier gelehrt und geforscht. Mit rund 30.000 Studierenden und 4.500 Mitarbeitenden trägt sie entscheidend zum pulsierenden Lebenam Institut für Öffentliches Recht und Politikwissenschaft und leitete bis September 2022 die Abteilung Finanzen, Personal und Recht der Universität für Weiterbildung Krems. © Uni Graz/WildundWunderbar © Uni Graz/WildundWunderbar Organigramm FAKULTÄTEN* UNIRAT Der Unirat besteht aus 9Graz. Seine beruflichen Stationen führten ihn unter anderem ins Europäische Parlament in Brüssel, in die Steiermärki­ sche Landesregierung, 2002 ins Bundeskanzleramt, mit den Schwerpunkten Wirtschaft und Forschung, sowie 2007 als Director of Public Affairs zur AVL List GmbH in Graz. 2011 wurde Riedler Vizerektor, im Dezember 2021 geschäftsfüh­ render Rektor der Universität Graz. Seit Oktober 2022 ist er Rektor. Vizerektor für Forschung Univ.-Prof. Dr. Joachim Reidl Joachim Reidl ist seit 2007akgl.uni-graz.at Universitätsbibliothek ub.uni-graz.at Studienabteilung +43 316 380 1162 / 2192 zulassung.international@uni-graz.at 17 Early stage researchers (PhDs & PostDocs) Der Universität Graz ist die Unterstützung, Aus- und Weiterbildung ihrer „early stage researcher“\n"
     ]
    }
   ],
   "source": [
    "print(text)"
   ]
  },
  {
   "cell_type": "code",
   "execution_count": 313,
   "id": "8b2086aa-2ae8-4784-a482-383ab7e5c632",
   "metadata": {},
   "outputs": [
    {
     "name": "stdout",
     "output_type": "stream",
     "text": [
      "\u001b[32;1m\u001b[1;3m[chain/start]\u001b[0m \u001b[1m[chain:RunnableSequence] Entering Chain run with input:\n",
      "\u001b[0m[inputs]\n",
      "\u001b[32;1m\u001b[1;3m[chain/start]\u001b[0m \u001b[1m[chain:RunnableSequence > prompt:ChatPromptTemplate] Entering Prompt run with input:\n",
      "\u001b[0m[inputs]\n",
      "\u001b[36;1m\u001b[1;3m[chain/end]\u001b[0m \u001b[1m[chain:RunnableSequence > prompt:ChatPromptTemplate] [1ms] Exiting Prompt run with output:\n",
      "\u001b[0m[outputs]\n",
      "\u001b[32;1m\u001b[1;3m[chain/start]\u001b[0m \u001b[1m[chain:RunnableSequence > chain:RunnableLambda] Entering Chain run with input:\n",
      "\u001b[0m[inputs]\n",
      "\u001b[36;1m\u001b[1;3m[chain/end]\u001b[0m \u001b[1m[chain:RunnableSequence > chain:RunnableLambda] [2.09s] Exiting Chain run with output:\n",
      "\u001b[0m{\n",
      "  \"output\": \"Auf Grundlage des Kontextes, lässt sich die Anfrage wie folgt beantworten:\\n\\nDer Rektor der Universität Graz ist seit Oktober 2022 Peter Riedler. Das Geburtsjahr von Peter Riedler wird im Kontext jedoch nicht angegeben.\\n\\nDaher lautet die vollständige Antwort: Peter Riedler ist seit Oktober 2022 der Rektor der Universität Graz. Sein Geburtsjahr ist im gegebenen Kontext nicht enthalten.\"\n",
      "}\n",
      "\u001b[32;1m\u001b[1;3m[chain/start]\u001b[0m \u001b[1m[chain:RunnableSequence > parser:StrOutputParser] Entering Parser run with input:\n",
      "\u001b[0m{\n",
      "  \"input\": \"Auf Grundlage des Kontextes, lässt sich die Anfrage wie folgt beantworten:\\n\\nDer Rektor der Universität Graz ist seit Oktober 2022 Peter Riedler. Das Geburtsjahr von Peter Riedler wird im Kontext jedoch nicht angegeben.\\n\\nDaher lautet die vollständige Antwort: Peter Riedler ist seit Oktober 2022 der Rektor der Universität Graz. Sein Geburtsjahr ist im gegebenen Kontext nicht enthalten.\"\n",
      "}\n",
      "\u001b[36;1m\u001b[1;3m[chain/end]\u001b[0m \u001b[1m[chain:RunnableSequence > parser:StrOutputParser] [0ms] Exiting Parser run with output:\n",
      "\u001b[0m{\n",
      "  \"output\": \"Auf Grundlage des Kontextes, lässt sich die Anfrage wie folgt beantworten:\\n\\nDer Rektor der Universität Graz ist seit Oktober 2022 Peter Riedler. Das Geburtsjahr von Peter Riedler wird im Kontext jedoch nicht angegeben.\\n\\nDaher lautet die vollständige Antwort: Peter Riedler ist seit Oktober 2022 der Rektor der Universität Graz. Sein Geburtsjahr ist im gegebenen Kontext nicht enthalten.\"\n",
      "}\n",
      "\u001b[36;1m\u001b[1;3m[chain/end]\u001b[0m \u001b[1m[chain:RunnableSequence] [2.10s] Exiting Chain run with output:\n",
      "\u001b[0m{\n",
      "  \"output\": \"Auf Grundlage des Kontextes, lässt sich die Anfrage wie folgt beantworten:\\n\\nDer Rektor der Universität Graz ist seit Oktober 2022 Peter Riedler. Das Geburtsjahr von Peter Riedler wird im Kontext jedoch nicht angegeben.\\n\\nDaher lautet die vollständige Antwort: Peter Riedler ist seit Oktober 2022 der Rektor der Universität Graz. Sein Geburtsjahr ist im gegebenen Kontext nicht enthalten.\"\n",
      "}\n"
     ]
    }
   ],
   "source": [
    "response = chain.invoke({\"context\": context, \"question\": query})"
   ]
  },
  {
   "cell_type": "code",
   "execution_count": 314,
   "id": "cd0f632c-ae32-4299-a946-8d67d2ddf45d",
   "metadata": {},
   "outputs": [
    {
     "name": "stdout",
     "output_type": "stream",
     "text": [
      "Auf Grundlage des Kontextes, lässt sich die Anfrage wie folgt beantworten:\n",
      "\n",
      "Der Rektor der Universität Graz ist seit Oktober 2022 Peter Riedler. Das Geburtsjahr von Peter Riedler wird im Kontext jedoch nicht angegeben.\n",
      "\n",
      "Daher lautet die vollständige Antwort: Peter Riedler ist seit Oktober 2022 der Rektor der Universität Graz. Sein Geburtsjahr ist im gegebenen Kontext nicht enthalten.\n"
     ]
    }
   ],
   "source": [
    "print(response)"
   ]
  },
  {
   "cell_type": "code",
   "execution_count": 315,
   "id": "32240b88-9b0e-467e-9933-8ee091dc70aa",
   "metadata": {},
   "outputs": [],
   "source": [
    "## SECTION 2.1 Reranking\n",
    "\n",
    "#In this section we will look into different re-ranking techniques that you can use in your RAG applications\n",
    "\n",
    "#Based on this gist: https://gist.github.com/virattt/bf13f748c6b4763b6c6215c8659c02f6"
   ]
  },
  {
   "cell_type": "code",
   "execution_count": 316,
   "id": "51c16501-6d7a-4c10-91ac-853660447640",
   "metadata": {},
   "outputs": [],
   "source": [
    "#from langchain.vectorstores import Chroma\n",
    "from langchain_milvus import Milvus\n",
    "\n",
    "def get_retriever(embedding_model, collection_name, top_k=10):\n",
    "    \"\"\"\n",
    "    Initializes a retriever object to fetch the top_k most relevant documents based on cosine similarity.\n",
    "\n",
    "    Parameters:\n",
    "    - docs: A list of documents to be indexed and retrieved.\n",
    "    - embedding_model: The embedding model to use for generating document embeddings.\n",
    "    - top_k: The number of top relevant documents to retrieve. Defaults to 3.\n",
    "\n",
    "    Returns:\n",
    "    - A retriever object configured to retrieve the top_k relevant documents.\n",
    "\n",
    "    Raises:\n",
    "    - ValueError: If any input parameter is invalid.\n",
    "    \"\"\"\n",
    "    # Example of parameter validation (optional)\n",
    "    if top_k < 1:\n",
    "        raise ValueError(\"top_k must be at least 1\")\n",
    "\n",
    "    try:\n",
    "        vector_store = Milvus(collection_name=collection_name, embedding_function=embedding_model)\n",
    "\n",
    "        retriever = vector_store.as_retriever(k=top_k)\n",
    "        # retriever.k = top_k\n",
    "\n",
    "        return retriever\n",
    "    except Exception as e:\n",
    "        print(f\"An error occurred while initializing the retriever: {e}\")\n",
    "        raise"
   ]
  },
  {
   "cell_type": "code",
   "execution_count": 317,
   "id": "a632c213-7c42-401c-b12d-188bb138fccf",
   "metadata": {},
   "outputs": [],
   "source": [
    "retriever_rerank = get_retriever(embedding_model, collection_name=COLLECTION_NAME, top_k=10)"
   ]
  },
  {
   "cell_type": "code",
   "execution_count": 318,
   "id": "095f8cb5-d2c2-4a16-943f-f58c12aa590e",
   "metadata": {},
   "outputs": [
    {
     "data": {
      "text/plain": [
       "VectorStoreRetriever(tags=['Milvus', 'HuggingFaceEmbeddings'], vectorstore=<langchain_milvus.vectorstores.milvus.Milvus object at 0x000001DA9BB8C910>)"
      ]
     },
     "execution_count": 318,
     "metadata": {},
     "output_type": "execute_result"
    }
   ],
   "source": [
    "retriever_rerank"
   ]
  },
  {
   "cell_type": "code",
   "execution_count": 319,
   "id": "8bca385e-0b24-4fc9-993a-00ed0cf35c6d",
   "metadata": {},
   "outputs": [],
   "source": [
    "query = \"Wer ist der Rektor der Universität Graz und in welchem Jahr wurde er geboren?\"\n",
    "similar_chunks = retrieve_context(\n",
    "        query, retriever=retriever_rerank,\n",
    "    )"
   ]
  },
  {
   "cell_type": "code",
   "execution_count": 320,
   "id": "32544295-2ab6-40cf-803d-5850492d8ddb",
   "metadata": {},
   "outputs": [
    {
     "data": {
      "text/plain": [
       "[Document(metadata={'source': 'C:/Pruebas/RAG Search/demo_docu/Broschuere_Int-Mitarbeitende_2023_WEB.pdf', 'start_index': 0, 'pk': 451633302904136368}, page_content='um Ihr Arbeitsverhältnis 12 Häufig gestellte Fragen 14 Services & Infos im Überblick Ein Überblick für den Start 16 Über die Uni Graz © Uni Graz/Konstantinov 5 Über die Universität Die Universität Graz, gegründet 1585, ist Österreichs zweitälteste Universität und eine der größten des Landes. Zahlreiche herausragende Wissenschafter:innen, unter ihnen sechs Nobelpreisträger, haben hier gelehrt und geforscht. Mit rund 30.000 Studierenden und 4.500 Mitarbeitenden trägt sie entscheidend zum pulsierenden Leben'),\n",
       " Document(metadata={'source': 'C:/Pruebas/RAG Search/demo_docu/Broschuere_Int-Mitarbeitende_2023_WEB.pdf', 'start_index': 417, 'pk': 451633302904136390}, page_content='am Institut für Öffentliches Recht und Politikwissenschaft und leitete bis September 2022 die Abteilung Finanzen, Personal und Recht der Universität für Weiterbildung Krems. © Uni Graz/WildundWunderbar © Uni Graz/WildundWunderbar Organigramm FAKULTÄTEN* UNIRAT Der Unirat besteht aus 9'),\n",
       " Document(metadata={'source': 'C:/Pruebas/RAG Search/demo_docu/Broschuere_Int-Mitarbeitende_2023_WEB.pdf', 'start_index': 0, 'pk': 451633302904136376}, page_content='Graz. Seine beruflichen Stationen führten ihn unter anderem ins Europäische Parlament in Brüssel, in die Steiermärki\\xad sche Landesregierung, 2002 ins Bundeskanzleramt, mit den Schwerpunkten Wirtschaft und Forschung, sowie 2007 als Director of Public Affairs zur AVL List GmbH in Graz. 2011 wurde Riedler Vizerektor, im Dezember 2021 geschäftsfüh\\xad render Rektor der Universität Graz. Seit Oktober 2022 ist er Rektor. Vizerektor für Forschung Univ.-Prof. Dr. Joachim Reidl Joachim Reidl ist seit 2007'),\n",
       " Document(metadata={'source': 'C:/Pruebas/RAG Search/demo_docu/Broschuere_Int-Mitarbeitende_2023_WEB.pdf', 'start_index': 400, 'pk': 451633302904136494}, page_content='akgl.uni-graz.at Universitätsbibliothek ub.uni-graz.at Studienabteilung +43 316 380 1162 / 2192 zulassung.international@uni-graz.at 17 Early stage researchers (PhDs & PostDocs) Der Universität Graz ist die Unterstützung, Aus- und Weiterbildung ihrer „early stage researcher“')]"
      ]
     },
     "execution_count": 320,
     "metadata": {},
     "output_type": "execute_result"
    }
   ],
   "source": [
    "similar_chunks"
   ]
  },
  {
   "cell_type": "code",
   "execution_count": 321,
   "id": "1fe72543-7394-418b-9319-f799983c86e5",
   "metadata": {},
   "outputs": [
    {
     "name": "stdout",
     "output_type": "stream",
     "text": [
      "--------------------------------- chunk # 0 -------------------------------------\n",
      "um Ihr Arbeitsverhältnis 12 Häufig gestellte Fragen 14 Services & Infos im Überblick Ein Überblick für den Start 16 Über die Uni Graz © Uni Graz/Konstantinov 5 Über die Universität Die Universität Graz, gegründet 1585, ist Österreichs zweitälteste Universität und eine der größten des Landes. Zahlreiche herausragende Wissenschafter:innen, unter ihnen sechs Nobelpreisträger, haben hier gelehrt und geforscht. Mit rund 30.000 Studierenden und 4.500 Mitarbeitenden trägt sie entscheidend zum pulsierenden Leben\n",
      "--------------------------------- chunk # 1 -------------------------------------\n",
      "am Institut für Öffentliches Recht und Politikwissenschaft und leitete bis September 2022 die Abteilung Finanzen, Personal und Recht der Universität für Weiterbildung Krems. © Uni Graz/WildundWunderbar © Uni Graz/WildundWunderbar Organigramm FAKULTÄTEN* UNIRAT Der Unirat besteht aus 9\n",
      "--------------------------------- chunk # 2 -------------------------------------\n",
      "Graz. Seine beruflichen Stationen führten ihn unter anderem ins Europäische Parlament in Brüssel, in die Steiermärki­ sche Landesregierung, 2002 ins Bundeskanzleramt, mit den Schwerpunkten Wirtschaft und Forschung, sowie 2007 als Director of Public Affairs zur AVL List GmbH in Graz. 2011 wurde Riedler Vizerektor, im Dezember 2021 geschäftsfüh­ render Rektor der Universität Graz. Seit Oktober 2022 ist er Rektor. Vizerektor für Forschung Univ.-Prof. Dr. Joachim Reidl Joachim Reidl ist seit 2007\n",
      "--------------------------------- chunk # 3 -------------------------------------\n",
      "akgl.uni-graz.at Universitätsbibliothek ub.uni-graz.at Studienabteilung +43 316 380 1162 / 2192 zulassung.international@uni-graz.at 17 Early stage researchers (PhDs & PostDocs) Der Universität Graz ist die Unterstützung, Aus- und Weiterbildung ihrer „early stage researcher“\n"
     ]
    }
   ],
   "source": [
    "for i, chunks in enumerate(similar_chunks):\n",
    "    print(f\"--------------------------------- chunk # {i} -------------------------------------\")\n",
    "    print(chunks.page_content[:800])"
   ]
  },
  {
   "cell_type": "code",
   "execution_count": 322,
   "id": "6bf10ce7-d588-40b9-801e-4419a9d593d3",
   "metadata": {},
   "outputs": [],
   "source": [
    "####  SECTION 2.1.2 Rerank using custom german Reranking Model: https://huggingface.co/deepset/gbert-base-germandpr-reranking"
   ]
  },
  {
   "cell_type": "code",
   "execution_count": 323,
   "id": "99b513d8-be0e-4d23-a48e-8bc22465bfea",
   "metadata": {},
   "outputs": [],
   "source": [
    "from transformers import AutoTokenizer, AutoModel\n",
    "\n",
    "# Load the tokenizer and the model\n",
    "RERANKING_MODEL_NAME = \"deepset/gbert-base-germandpr-reranking\"\n",
    "tokenizer = AutoTokenizer.from_pretrained(RERANKING_MODEL_NAME)\n",
    "model = AutoModel.from_pretrained(RERANKING_MODEL_NAME)"
   ]
  },
  {
   "cell_type": "code",
   "execution_count": 324,
   "id": "5be0fff7-5caf-471e-b051-b1ef9339f31c",
   "metadata": {},
   "outputs": [],
   "source": [
    "#### NOTE: This run was on CPU, GPU will be much faster."
   ]
  },
  {
   "cell_type": "code",
   "execution_count": 325,
   "id": "750c0edd-4fb4-4d8b-a5f9-07e04c1429da",
   "metadata": {},
   "outputs": [
    {
     "name": "stdout",
     "output_type": "stream",
     "text": [
      "Took 1.1533102989196777 seconds to re-rank documents with gbert-base-germandpr-reranking.\n"
     ]
    }
   ],
   "source": [
    "import torch\n",
    "\n",
    "start = time.time()\n",
    "scores = []\n",
    "\n",
    "# Function to compute MaxSim\n",
    "def maxsim(query_embedding, document_embedding):\n",
    "    # Expand dimensions for broadcasting\n",
    "    # Query: [batch_size, query_length, embedding_size] -> [batch_size, query_length, 1, embedding_size]\n",
    "    # Document: [batch_size, doc_length, embedding_size] -> [batch_size, 1, doc_length, embedding_size]\n",
    "    expanded_query = query_embedding.unsqueeze(2)\n",
    "    expanded_doc = document_embedding.unsqueeze(1)\n",
    "\n",
    "    # Compute cosine similarity across the embedding dimension\n",
    "    sim_matrix = torch.nn.functional.cosine_similarity(expanded_query, expanded_doc, dim=-1)\n",
    "\n",
    "    # Take the maximum similarity for each query token (across all document tokens)\n",
    "    # sim_matrix shape: [batch_size, query_length, doc_length]\n",
    "    max_sim_scores, _ = torch.max(sim_matrix, dim=2)\n",
    "\n",
    "    # Average these maximum scores across all query tokens\n",
    "    avg_max_sim = torch.mean(max_sim_scores, dim=1)\n",
    "    return avg_max_sim\n",
    "\n",
    "# Encode the query\n",
    "query_encoding = tokenizer(query, return_tensors='pt')\n",
    "query_embedding = model(**query_encoding).last_hidden_state.mean(dim=1)\n",
    "\n",
    "# Get score for each document\n",
    "for document in similar_chunks:\n",
    "    document_encoding = tokenizer(document.page_content, return_tensors='pt', truncation=True, max_length=512)\n",
    "    document_embedding = model(**document_encoding).last_hidden_state\n",
    "\n",
    "    # Calculate MaxSim score\n",
    "    score = maxsim(query_embedding.unsqueeze(0), document_embedding)\n",
    "    scores.append({\n",
    "        \"score\": score.item(),\n",
    "        \"document\": document.page_content,\n",
    "    })\n",
    "\n",
    "print(f\"Took {time.time() - start} seconds to re-rank documents with gbert-base-germandpr-reranking.\")"
   ]
  },
  {
   "cell_type": "code",
   "execution_count": 326,
   "id": "bd795495-83ae-4d2c-9a2a-9b96fdb7bb63",
   "metadata": {},
   "outputs": [
    {
     "name": "stdout",
     "output_type": "stream",
     "text": [
      "[\n",
      "  {\n",
      "    \"score\": 0.6068548560142517,\n",
      "    \"document\": \"Graz. Seine beruflichen Stationen f\\u00fchrten ihn unter anderem ins Europ\\u00e4ische Parlament in Br\\u00fcssel, in die Steierm\\u00e4rki\\u00ad sche Landesregierung, 2002 ins Bundeskanzleramt, mit den Schwerpunkten Wirtschaft und Forschung, sowie 2007 als Director of Public Affairs zur AVL List GmbH in Graz. 2011 wurde Riedler Vizerektor, im Dezember 2021 gesch\\u00e4ftsf\\u00fch\\u00ad render Rektor der Universit\\u00e4t Graz. Seit Oktober 2022 ist er Rektor. Vizerektor f\\u00fcr Forschung Univ.-Prof. Dr. Joachim Reidl Joachim Reidl ist seit 2007\"\n",
      "  },\n",
      "  {\n",
      "    \"score\": 0.5806236267089844,\n",
      "    \"document\": \"akgl.uni-graz.at Universit\\u00e4tsbibliothek ub.uni-graz.at Studienabteilung +43 316 380 1162 / 2192 zulassung.international@uni-graz.at 17 Early stage researchers (PhDs & PostDocs) Der Universit\\u00e4t Graz ist die Unterst\\u00fctzung, Aus- und Weiterbildung ihrer \\u201eearly stage researcher\\u201c\"\n",
      "  },\n",
      "  {\n",
      "    \"score\": 0.5791711807250977,\n",
      "    \"document\": \"um Ihr Arbeitsverh\\u00e4ltnis 12 H\\u00e4ufig gestellte Fragen 14 Services & Infos im \\u00dcberblick Ein \\u00dcberblick f\\u00fcr den Start 16 \\u00dcber die Uni Graz \\u00a9 Uni Graz/Konstantinov 5 \\u00dcber die Universit\\u00e4t Die Universit\\u00e4t Graz, gegr\\u00fcndet 1585, ist \\u00d6sterreichs zweit\\u00e4lteste Universit\\u00e4t und eine der gr\\u00f6\\u00dften des Landes. Zahlreiche herausragende Wissenschafter:innen, unter ihnen sechs Nobelpreistr\\u00e4ger, haben hier gelehrt und geforscht. Mit rund 30.000 Studierenden und 4.500 Mitarbeitenden tr\\u00e4gt sie entscheidend zum pulsierenden Leben\"\n",
      "  },\n",
      "  {\n",
      "    \"score\": 0.5730658769607544,\n",
      "    \"document\": \"am Institut f\\u00fcr \\u00d6ffentliches Recht und Politikwissenschaft und leitete bis September 2022 die Abteilung Finanzen, Personal und Recht der Universit\\u00e4t f\\u00fcr Weiterbildung Krems. \\u00a9 Uni Graz/WildundWunderbar \\u00a9 Uni Graz/WildundWunderbar Organigramm FAKULT\\u00c4TEN* UNIRAT Der Unirat besteht aus 9\"\n",
      "  }\n",
      "]\n"
     ]
    }
   ],
   "source": [
    "import json\n",
    "\n",
    "# Sort the scores by highest to lowest and print\n",
    "sorted_data = sorted(scores, key=lambda x: x['score'], reverse=True)\n",
    "print(json.dumps(sorted_data, indent=2))"
   ]
  },
  {
   "cell_type": "code",
   "execution_count": 327,
   "id": "4071971b-17d9-4080-be5a-8a93091841e8",
   "metadata": {},
   "outputs": [],
   "source": [
    "####  SECTION 2.1.3 Rerank using Cohere"
   ]
  },
  {
   "cell_type": "code",
   "execution_count": 328,
   "id": "0c9990e3-0846-44c6-a5ff-0d6be305ecaa",
   "metadata": {},
   "outputs": [],
   "source": [
    "import cohere\n",
    "\n",
    "# Get your cohere API key on: www.cohere.com\n",
    "co = cohere.Client(os.getenv(\"COHERE_API_KEY\"))\n",
    "#co = cohere.Client(userdata.get(\"COHERE_API_KEY\"))\n",
    "\n",
    "documents = [f\"{doc.page_content}\" for doc in similar_chunks]"
   ]
  },
  {
   "cell_type": "code",
   "execution_count": 329,
   "id": "5b1d7659-9ea0-40e8-abd8-65930457f1f3",
   "metadata": {},
   "outputs": [
    {
     "name": "stdout",
     "output_type": "stream",
     "text": [
      "['um Ihr Arbeitsverhältnis 12 Häufig gestellte Fragen 14 Services & Infos im Überblick Ein Überblick für den Start 16 Über die Uni Graz © Uni Graz/Konstantinov 5 Über die Universität Die Universität Graz, gegründet 1585, ist Österreichs zweitälteste Universität und eine der größten des Landes. Zahlreiche herausragende Wissenschafter:innen, unter ihnen sechs Nobelpreisträger, haben hier gelehrt und geforscht. Mit rund 30.000 Studierenden und 4.500 Mitarbeitenden trägt sie entscheidend zum pulsierenden Leben', 'am Institut für Öffentliches Recht und Politikwissenschaft und leitete bis September 2022 die Abteilung Finanzen, Personal und Recht der Universität für Weiterbildung Krems. © Uni Graz/WildundWunderbar © Uni Graz/WildundWunderbar Organigramm FAKULTÄTEN* UNIRAT Der Unirat besteht aus 9', 'Graz. Seine beruflichen Stationen führten ihn unter anderem ins Europäische Parlament in Brüssel, in die Steiermärki\\xad sche Landesregierung, 2002 ins Bundeskanzleramt, mit den Schwerpunkten Wirtschaft und Forschung, sowie 2007 als Director of Public Affairs zur AVL List GmbH in Graz. 2011 wurde Riedler Vizerektor, im Dezember 2021 geschäftsfüh\\xad render Rektor der Universität Graz. Seit Oktober 2022 ist er Rektor. Vizerektor für Forschung Univ.-Prof. Dr. Joachim Reidl Joachim Reidl ist seit 2007', 'akgl.uni-graz.at Universitätsbibliothek ub.uni-graz.at Studienabteilung +43 316 380 1162 / 2192 zulassung.international@uni-graz.at 17 Early stage researchers (PhDs & PostDocs) Der Universität Graz ist die Unterstützung, Aus- und Weiterbildung ihrer „early stage researcher“']\n"
     ]
    }
   ],
   "source": [
    "print(documents)"
   ]
  },
  {
   "cell_type": "code",
   "execution_count": 330,
   "id": "b9632728-bcfe-4d43-89a9-db1db1ee79c0",
   "metadata": {},
   "outputs": [
    {
     "name": "stdout",
     "output_type": "stream",
     "text": [
      "Took 0.33408427238464355 seconds to re-rank documents with Cohere.\n"
     ]
    }
   ],
   "source": [
    "import time\n",
    "\n",
    "# Example query and passages\n",
    "start = time.time()\n",
    "\n",
    "results = co.rerank(query=query,\n",
    "                    documents=documents,\n",
    "                    top_n=4,\n",
    "                    model=\"rerank-multilingual-v3.0\", #\"rerank-english-v3.0\",\n",
    "                    return_documents=True)\n",
    "print(f\"Took {time.time() - start} seconds to re-rank documents with Cohere.\")"
   ]
  },
  {
   "cell_type": "code",
   "execution_count": 331,
   "id": "b8bd8fea-727a-4e8a-b768-e2c8d9618f58",
   "metadata": {},
   "outputs": [
    {
     "data": {
      "text/plain": [
       "[RerankResponseResultsItem(document=RerankResponseResultsItemDocument(text='Graz. Seine beruflichen Stationen führten ihn unter anderem ins Europäische Parlament in Brüssel, in die Steiermärki\\xad sche Landesregierung, 2002 ins Bundeskanzleramt, mit den Schwerpunkten Wirtschaft und Forschung, sowie 2007 als Director of Public Affairs zur AVL List GmbH in Graz. 2011 wurde Riedler Vizerektor, im Dezember 2021 geschäftsfüh\\xad render Rektor der Universität Graz. Seit Oktober 2022 ist er Rektor. Vizerektor für Forschung Univ.-Prof. Dr. Joachim Reidl Joachim Reidl ist seit 2007'), index=2, relevance_score=0.23265865),\n",
       " RerankResponseResultsItem(document=RerankResponseResultsItemDocument(text='um Ihr Arbeitsverhältnis 12 Häufig gestellte Fragen 14 Services & Infos im Überblick Ein Überblick für den Start 16 Über die Uni Graz © Uni Graz/Konstantinov 5 Über die Universität Die Universität Graz, gegründet 1585, ist Österreichs zweitälteste Universität und eine der größten des Landes. Zahlreiche herausragende Wissenschafter:innen, unter ihnen sechs Nobelpreisträger, haben hier gelehrt und geforscht. Mit rund 30.000 Studierenden und 4.500 Mitarbeitenden trägt sie entscheidend zum pulsierenden Leben'), index=0, relevance_score=0.012383785),\n",
       " RerankResponseResultsItem(document=RerankResponseResultsItemDocument(text='am Institut für Öffentliches Recht und Politikwissenschaft und leitete bis September 2022 die Abteilung Finanzen, Personal und Recht der Universität für Weiterbildung Krems. © Uni Graz/WildundWunderbar © Uni Graz/WildundWunderbar Organigramm FAKULTÄTEN* UNIRAT Der Unirat besteht aus 9'), index=1, relevance_score=0.0004673481),\n",
       " RerankResponseResultsItem(document=RerankResponseResultsItemDocument(text='akgl.uni-graz.at Universitätsbibliothek ub.uni-graz.at Studienabteilung +43 316 380 1162 / 2192 zulassung.international@uni-graz.at 17 Early stage researchers (PhDs & PostDocs) Der Universität Graz ist die Unterstützung, Aus- und Weiterbildung ihrer „early stage researcher“'), index=3, relevance_score=3.7931623e-05)]"
      ]
     },
     "execution_count": 331,
     "metadata": {},
     "output_type": "execute_result"
    }
   ],
   "source": [
    "results.results"
   ]
  },
  {
   "cell_type": "code",
   "execution_count": 332,
   "id": "2a78c857-0cfa-4676-a057-6769d3db205e",
   "metadata": {},
   "outputs": [
    {
     "name": "stdout",
     "output_type": "stream",
     "text": [
      "Document Rank: 1, Document Index: 2, Relevance Score: 0.23\n",
      "Document: Graz. Seine beruflichen Stationen führten ihn unter anderem ins Europäische Parlament in Brüssel, in die Steiermärki­ sche Landesregierung, 2002 ins Bundeskanzleramt, mit den Schwerpunkten Wirtschaft und Forschung, sowie 2007 als Director of Public Affairs zur AVL List GmbH in Graz. 2011 wurde Riedler Vizerektor, im Dezember 2021 geschäftsfüh­ render Rektor der Universität Graz. Seit Oktober 2022 ist er Rektor. Vizerektor für Forschung Univ.-Prof. Dr. Joachim Reidl Joachim Reidl ist seit 2007\n",
      "------------------------------------------------------------------------------\n",
      "Document Rank: 2, Document Index: 0, Relevance Score: 0.01\n",
      "Document: um Ihr Arbeitsverhältnis 12 Häufig gestellte Fragen 14 Services & Infos im Überblick Ein Überblick für den Start 16 Über die Uni Graz © Uni Graz/Konstantinov 5 Über die Universität Die Universität Graz, gegründet 1585, ist Österreichs zweitälteste Universität und eine der größten des Landes. Zahlreiche herausragende Wissenschafter:innen, unter ihnen sechs Nobelpreisträger, haben hier gelehrt und geforscht. Mit rund 30.000 Studierenden und 4.500 Mitarbeitenden trägt sie entscheidend zum pulsierenden Leben\n",
      "------------------------------------------------------------------------------\n",
      "Document Rank: 3, Document Index: 1, Relevance Score: 0.00\n",
      "Document: am Institut für Öffentliches Recht und Politikwissenschaft und leitete bis September 2022 die Abteilung Finanzen, Personal und Recht der Universität für Weiterbildung Krems. © Uni Graz/WildundWunderbar © Uni Graz/WildundWunderbar Organigramm FAKULTÄTEN* UNIRAT Der Unirat besteht aus 9\n",
      "------------------------------------------------------------------------------\n",
      "Document Rank: 4, Document Index: 3, Relevance Score: 0.00\n",
      "Document: akgl.uni-graz.at Universitätsbibliothek ub.uni-graz.at Studienabteilung +43 316 380 1162 / 2192 zulassung.international@uni-graz.at 17 Early stage researchers (PhDs & PostDocs) Der Universität Graz ist die Unterstützung, Aus- und Weiterbildung ihrer „early stage researcher“\n",
      "------------------------------------------------------------------------------\n"
     ]
    }
   ],
   "source": [
    "for idx, r in enumerate(results.results):\n",
    "  print(f\"Document Rank: {idx + 1}, Document Index: {r.index}, Relevance Score: {r.relevance_score:.2f}\")\n",
    "  print(f\"Document: {r.document.text}\")\n",
    "  print(f\"------------------------------------------------------------------------------\")"
   ]
  },
  {
   "cell_type": "code",
   "execution_count": 333,
   "id": "7e9f44cc-3bfb-403d-bf91-570858bc5174",
   "metadata": {},
   "outputs": [],
   "source": [
    "## SECTION 3 Query Expansion\n",
    "\n",
    "#- Query Decomposition\n",
    "#- Multi-query Retrieval"
   ]
  },
  {
   "cell_type": "code",
   "execution_count": 334,
   "id": "b251caa0-396d-43cc-b45f-cb49cbb849f7",
   "metadata": {},
   "outputs": [],
   "source": [
    "from langchain.prompts import ChatPromptTemplate\n",
    "\n",
    "# Decomposition\n",
    "template = \"\"\"Du bist ein hilfreicher Assistent, der mehrere Unterfragen zu einer Eingangsfrage erstellt.\n",
    "Das Ziel ist es, die Eingabe in eine Reihe von Unterproblemen/Unterfragen zu zerlegen, die isoliert beantwortet werden können.\n",
    "Generiere mehrere Suchanfragen mit Bezug zu: {Frage}\n",
    "Ausgabe (5 Abfragen):\"\"\"\n",
    "\n",
    "decomposition_prompt = ChatPromptTemplate.from_template(template)"
   ]
  },
  {
   "cell_type": "code",
   "execution_count": 335,
   "id": "0e5e6b95-424e-41c8-add2-9a6e93f4073e",
   "metadata": {},
   "outputs": [],
   "source": [
    "from langchain_openai import AzureChatOpenAI\n",
    "\n",
    "llm = AzureChatOpenAI(\n",
    "    openai_api_version=\"2023-05-15\",\n",
    "    azure_endpoint=os.getenv(\"AZURE_OPENAI_ENDPOINT\"),\n",
    "    openai_api_key=os.getenv(\"AZURE_OPENAI_API_KEY\")\n",
    ")"
   ]
  },
  {
   "cell_type": "code",
   "execution_count": 336,
   "id": "3e3e31b7-c7a7-4120-85eb-cce5c6518fd5",
   "metadata": {},
   "outputs": [
    {
     "data": {
      "text/plain": [
       "'Wer ist der Rektor der Universität Graz und in welchem Jahr wurde er geboren?'"
      ]
     },
     "execution_count": 336,
     "metadata": {},
     "output_type": "execute_result"
    }
   ],
   "source": [
    "query"
   ]
  },
  {
   "cell_type": "code",
   "execution_count": 337,
   "id": "157a9ab9-1fde-4321-8e08-5312164dffb1",
   "metadata": {},
   "outputs": [
    {
     "name": "stdout",
     "output_type": "stream",
     "text": [
      "\u001b[32;1m\u001b[1;3m[chain/start]\u001b[0m \u001b[1m[chain:RunnableSequence] Entering Chain run with input:\n",
      "\u001b[0m{\n",
      "  \"Frage\": \"Wer ist der Rektor der Universität Graz und in welchem Jahr wurde er geboren?\"\n",
      "}\n",
      "\u001b[32;1m\u001b[1;3m[chain/start]\u001b[0m \u001b[1m[chain:RunnableSequence > prompt:ChatPromptTemplate] Entering Prompt run with input:\n",
      "\u001b[0m{\n",
      "  \"Frage\": \"Wer ist der Rektor der Universität Graz und in welchem Jahr wurde er geboren?\"\n",
      "}\n",
      "\u001b[36;1m\u001b[1;3m[chain/end]\u001b[0m \u001b[1m[chain:RunnableSequence > prompt:ChatPromptTemplate] [0ms] Exiting Prompt run with output:\n",
      "\u001b[0m[outputs]\n",
      "\u001b[32;1m\u001b[1;3m[llm/start]\u001b[0m \u001b[1m[chain:RunnableSequence > llm:AzureChatOpenAI] Entering LLM run with input:\n",
      "\u001b[0m{\n",
      "  \"prompts\": [\n",
      "    \"Human: Du bist ein hilfreicher Assistent, der mehrere Unterfragen zu einer Eingangsfrage erstellt.\\nDas Ziel ist es, die Eingabe in eine Reihe von Unterproblemen/Unterfragen zu zerlegen, die isoliert beantwortet werden können.\\nGeneriere mehrere Suchanfragen mit Bezug zu: Wer ist der Rektor der Universität Graz und in welchem Jahr wurde er geboren?\\nAusgabe (5 Abfragen):\"\n",
      "  ]\n",
      "}\n",
      "\u001b[36;1m\u001b[1;3m[llm/end]\u001b[0m \u001b[1m[chain:RunnableSequence > llm:AzureChatOpenAI] [3.90s] Exiting LLM run with output:\n",
      "\u001b[0m{\n",
      "  \"generations\": [\n",
      "    [\n",
      "      {\n",
      "        \"text\": \"1. Wer ist der aktuelle Rektor der Universität Graz?\\n2. Welche Personen haben in den letzten Jahren das Amt des Rektors an der Universität Graz innegehabt?\\n3. In welchem Jahr wurde der derzeitige Rektor der Universität Graz geboren?\\n4. Gibt es offizielle Biografien oder Profile des aktuellen Rektors der Universität Graz?\\n5. Wo kann man Informationen über die Amtszeiten und biografischen Details früherer und aktueller Rektoren der Universität Graz finden?\",\n",
      "        \"generation_info\": {\n",
      "          \"finish_reason\": \"stop\",\n",
      "          \"logprobs\": null,\n",
      "          \"content_filter_results\": {}\n",
      "        },\n",
      "        \"type\": \"ChatGeneration\",\n",
      "        \"message\": {\n",
      "          \"lc\": 1,\n",
      "          \"type\": \"constructor\",\n",
      "          \"id\": [\n",
      "            \"langchain\",\n",
      "            \"schema\",\n",
      "            \"messages\",\n",
      "            \"AIMessage\"\n",
      "          ],\n",
      "          \"kwargs\": {\n",
      "            \"content\": \"1. Wer ist der aktuelle Rektor der Universität Graz?\\n2. Welche Personen haben in den letzten Jahren das Amt des Rektors an der Universität Graz innegehabt?\\n3. In welchem Jahr wurde der derzeitige Rektor der Universität Graz geboren?\\n4. Gibt es offizielle Biografien oder Profile des aktuellen Rektors der Universität Graz?\\n5. Wo kann man Informationen über die Amtszeiten und biografischen Details früherer und aktueller Rektoren der Universität Graz finden?\",\n",
      "            \"response_metadata\": {\n",
      "              \"token_usage\": {\n",
      "                \"completion_tokens\": 99,\n",
      "                \"prompt_tokens\": 88,\n",
      "                \"total_tokens\": 187\n",
      "              },\n",
      "              \"model_name\": \"gpt-4o-2024-05-13\",\n",
      "              \"system_fingerprint\": \"fp_abc28019ad\",\n",
      "              \"finish_reason\": \"stop\",\n",
      "              \"logprobs\": null,\n",
      "              \"content_filter_results\": {}\n",
      "            },\n",
      "            \"type\": \"ai\",\n",
      "            \"id\": \"run-dee930b7-0630-4e9a-bdee-d4f7186e5095-0\",\n",
      "            \"usage_metadata\": {\n",
      "              \"input_tokens\": 88,\n",
      "              \"output_tokens\": 99,\n",
      "              \"total_tokens\": 187\n",
      "            },\n",
      "            \"tool_calls\": [],\n",
      "            \"invalid_tool_calls\": []\n",
      "          }\n",
      "        }\n",
      "      }\n",
      "    ]\n",
      "  ],\n",
      "  \"llm_output\": {\n",
      "    \"token_usage\": {\n",
      "      \"completion_tokens\": 99,\n",
      "      \"prompt_tokens\": 88,\n",
      "      \"total_tokens\": 187\n",
      "    },\n",
      "    \"model_name\": \"gpt-4o-2024-05-13\",\n",
      "    \"system_fingerprint\": \"fp_abc28019ad\"\n",
      "  },\n",
      "  \"run\": null\n",
      "}\n",
      "\u001b[32;1m\u001b[1;3m[chain/start]\u001b[0m \u001b[1m[chain:RunnableSequence > parser:StrOutputParser] Entering Parser run with input:\n",
      "\u001b[0m[inputs]\n",
      "\u001b[36;1m\u001b[1;3m[chain/end]\u001b[0m \u001b[1m[chain:RunnableSequence > parser:StrOutputParser] [0ms] Exiting Parser run with output:\n",
      "\u001b[0m{\n",
      "  \"output\": \"1. Wer ist der aktuelle Rektor der Universität Graz?\\n2. Welche Personen haben in den letzten Jahren das Amt des Rektors an der Universität Graz innegehabt?\\n3. In welchem Jahr wurde der derzeitige Rektor der Universität Graz geboren?\\n4. Gibt es offizielle Biografien oder Profile des aktuellen Rektors der Universität Graz?\\n5. Wo kann man Informationen über die Amtszeiten und biografischen Details früherer und aktueller Rektoren der Universität Graz finden?\"\n",
      "}\n",
      "\u001b[32;1m\u001b[1;3m[chain/start]\u001b[0m \u001b[1m[chain:RunnableSequence > chain:RunnableLambda] Entering Chain run with input:\n",
      "\u001b[0m{\n",
      "  \"input\": \"1. Wer ist der aktuelle Rektor der Universität Graz?\\n2. Welche Personen haben in den letzten Jahren das Amt des Rektors an der Universität Graz innegehabt?\\n3. In welchem Jahr wurde der derzeitige Rektor der Universität Graz geboren?\\n4. Gibt es offizielle Biografien oder Profile des aktuellen Rektors der Universität Graz?\\n5. Wo kann man Informationen über die Amtszeiten und biografischen Details früherer und aktueller Rektoren der Universität Graz finden?\"\n",
      "}\n",
      "\u001b[36;1m\u001b[1;3m[chain/end]\u001b[0m \u001b[1m[chain:RunnableSequence > chain:RunnableLambda] [1ms] Exiting Chain run with output:\n",
      "\u001b[0m{\n",
      "  \"output\": [\n",
      "    \"1. Wer ist der aktuelle Rektor der Universität Graz?\",\n",
      "    \"2. Welche Personen haben in den letzten Jahren das Amt des Rektors an der Universität Graz innegehabt?\",\n",
      "    \"3. In welchem Jahr wurde der derzeitige Rektor der Universität Graz geboren?\",\n",
      "    \"4. Gibt es offizielle Biografien oder Profile des aktuellen Rektors der Universität Graz?\",\n",
      "    \"5. Wo kann man Informationen über die Amtszeiten und biografischen Details früherer und aktueller Rektoren der Universität Graz finden?\"\n",
      "  ]\n",
      "}\n",
      "\u001b[36;1m\u001b[1;3m[chain/end]\u001b[0m \u001b[1m[chain:RunnableSequence] [3.90s] Exiting Chain run with output:\n",
      "\u001b[0m{\n",
      "  \"output\": [\n",
      "    \"1. Wer ist der aktuelle Rektor der Universität Graz?\",\n",
      "    \"2. Welche Personen haben in den letzten Jahren das Amt des Rektors an der Universität Graz innegehabt?\",\n",
      "    \"3. In welchem Jahr wurde der derzeitige Rektor der Universität Graz geboren?\",\n",
      "    \"4. Gibt es offizielle Biografien oder Profile des aktuellen Rektors der Universität Graz?\",\n",
      "    \"5. Wo kann man Informationen über die Amtszeiten und biografischen Details früherer und aktueller Rektoren der Universität Graz finden?\"\n",
      "  ]\n",
      "}\n",
      "['1. Wer ist der aktuelle Rektor der Universität Graz?', '2. Welche Personen haben in den letzten Jahren das Amt des Rektors an der Universität Graz innegehabt?', '3. In welchem Jahr wurde der derzeitige Rektor der Universität Graz geboren?', '4. Gibt es offizielle Biografien oder Profile des aktuellen Rektors der Universität Graz?', '5. Wo kann man Informationen über die Amtszeiten und biografischen Details früherer und aktueller Rektoren der Universität Graz finden?']\n"
     ]
    }
   ],
   "source": [
    "# Chain\n",
    "generate_queries_decomposition = ( decomposition_prompt | llm | StrOutputParser() | (lambda x: x.split(\"\\n\")))\n",
    "\n",
    "# Run\n",
    "questions = generate_queries_decomposition.invoke({\"Frage\":query})\n",
    "\n",
    "print(questions)"
   ]
  },
  {
   "cell_type": "code",
   "execution_count": null,
   "id": "e1c53f6a-a2bd-4ba6-a3e7-84ab24ef9044",
   "metadata": {},
   "outputs": [],
   "source": []
  },
  {
   "cell_type": "code",
   "execution_count": 338,
   "id": "222089a9-ac5a-4245-809c-0ca087de8699",
   "metadata": {},
   "outputs": [],
   "source": [
    "#### multi-query retrieval"
   ]
  },
  {
   "cell_type": "code",
   "execution_count": 339,
   "id": "6c6996b3-eadd-460e-b791-04a04584eaae",
   "metadata": {},
   "outputs": [],
   "source": [
    "import logging\n",
    "logging.basicConfig()\n",
    "logging.getLogger(\"langchain.retrievers.multi_query\").setLevel(logging.INFO)"
   ]
  },
  {
   "cell_type": "code",
   "execution_count": 340,
   "id": "347706ed-249d-4263-ba2c-59dd520ab500",
   "metadata": {},
   "outputs": [],
   "source": [
    "from langchain.retrievers.multi_query import MultiQueryRetriever\n",
    "from langchain.schema.runnable import RunnablePassthrough\n",
    "\n",
    "\n",
    "final_retriever = MultiQueryRetriever.from_llm(retriever_rerank, llm)"
   ]
  },
  {
   "cell_type": "code",
   "execution_count": 341,
   "id": "f9fe2f25-f177-4a04-a1f7-4e39ac8bb729",
   "metadata": {},
   "outputs": [
    {
     "name": "stdout",
     "output_type": "stream",
     "text": [
      "Wer ist der Rektor der Universität Graz und in welchem Jahr wurde er geboren?\n"
     ]
    }
   ],
   "source": [
    "print(query)"
   ]
  },
  {
   "cell_type": "code",
   "execution_count": 342,
   "id": "32f3e718-13d4-41a4-81de-1b2f87f0f5a6",
   "metadata": {},
   "outputs": [
    {
     "name": "stdout",
     "output_type": "stream",
     "text": [
      "\u001b[32;1m\u001b[1;3m[chain/start]\u001b[0m \u001b[1m[chain:RunnableSequence] Entering Chain run with input:\n",
      "\u001b[0m{\n",
      "  \"input\": \"Wer ist der Rektor der Universität Graz und in welchem Jahr wurde er geboren?\"\n",
      "}\n",
      "\u001b[32;1m\u001b[1;3m[chain/start]\u001b[0m \u001b[1m[chain:RunnableSequence > chain:RunnableParallel<Frage,Kontext>] Entering Chain run with input:\n",
      "\u001b[0m{\n",
      "  \"input\": \"Wer ist der Rektor der Universität Graz und in welchem Jahr wurde er geboren?\"\n",
      "}\n",
      "\u001b[32;1m\u001b[1;3m[chain/start]\u001b[0m \u001b[1m[chain:RunnableSequence > chain:RunnableParallel<Frage,Kontext> > chain:RunnablePassthrough] Entering Chain run with input:\n",
      "\u001b[0m{\n",
      "  \"input\": \"Wer ist der Rektor der Universität Graz und in welchem Jahr wurde er geboren?\"\n",
      "}\n",
      "\u001b[36;1m\u001b[1;3m[chain/end]\u001b[0m \u001b[1m[chain:RunnableSequence > chain:RunnableParallel<Frage,Kontext> > chain:RunnablePassthrough] [1ms] Exiting Chain run with output:\n",
      "\u001b[0m{\n",
      "  \"output\": \"Wer ist der Rektor der Universität Graz und in welchem Jahr wurde er geboren?\"\n",
      "}\n",
      "\u001b[32;1m\u001b[1;3m[chain/start]\u001b[0m \u001b[1m[chain:RunnableSequence > chain:RunnableParallel<Frage,Kontext> > retriever:Retriever > chain:RunnableSequence] Entering Chain run with input:\n",
      "\u001b[0m{\n",
      "  \"question\": \"Wer ist der Rektor der Universität Graz und in welchem Jahr wurde er geboren?\"\n",
      "}\n",
      "\u001b[32;1m\u001b[1;3m[chain/start]\u001b[0m \u001b[1m[chain:RunnableSequence > chain:RunnableParallel<Frage,Kontext> > retriever:Retriever > chain:RunnableSequence > prompt:PromptTemplate] Entering Prompt run with input:\n",
      "\u001b[0m{\n",
      "  \"question\": \"Wer ist der Rektor der Universität Graz und in welchem Jahr wurde er geboren?\"\n",
      "}\n",
      "\u001b[36;1m\u001b[1;3m[chain/end]\u001b[0m \u001b[1m[chain:RunnableSequence > chain:RunnableParallel<Frage,Kontext> > retriever:Retriever > chain:RunnableSequence > prompt:PromptTemplate] [1ms] Exiting Prompt run with output:\n",
      "\u001b[0m[outputs]\n",
      "\u001b[32;1m\u001b[1;3m[llm/start]\u001b[0m \u001b[1m[chain:RunnableSequence > chain:RunnableParallel<Frage,Kontext> > retriever:Retriever > chain:RunnableSequence > llm:AzureChatOpenAI] Entering LLM run with input:\n",
      "\u001b[0m{\n",
      "  \"prompts\": [\n",
      "    \"Human: You are an AI language model assistant. Your task is \\n    to generate 3 different versions of the given user \\n    question to retrieve relevant documents from a vector  database. \\n    By generating multiple perspectives on the user question, \\n    your goal is to help the user overcome some of the limitations \\n    of distance-based similarity search. Provide these alternative \\n    questions separated by newlines. Original question: Wer ist der Rektor der Universität Graz und in welchem Jahr wurde er geboren?\"\n",
      "  ]\n",
      "}\n"
     ]
    },
    {
     "name": "stderr",
     "output_type": "stream",
     "text": [
      "INFO:langchain.retrievers.multi_query:Generated queries: ['Wer ist der aktuelle Rektor der Universität Graz und wann ist sein Geburtsjahr?', 'Könnten Sie mir den Namen und das Geburtsjahr des derzeitigen Rektors der Universität Graz mitteilen?', 'Wer bekleidet das Amt des Rektors an der Universität Graz und welches Geburtsdatum hat diese Person?']\n"
     ]
    },
    {
     "name": "stdout",
     "output_type": "stream",
     "text": [
      "\u001b[36;1m\u001b[1;3m[llm/end]\u001b[0m \u001b[1m[chain:RunnableSequence > chain:RunnableParallel<Frage,Kontext> > retriever:Retriever > chain:RunnableSequence > llm:AzureChatOpenAI] [1.45s] Exiting LLM run with output:\n",
      "\u001b[0m{\n",
      "  \"generations\": [\n",
      "    [\n",
      "      {\n",
      "        \"text\": \"Wer ist der aktuelle Rektor der Universität Graz und wann ist sein Geburtsjahr?\\n\\nKönnten Sie mir den Namen und das Geburtsjahr des derzeitigen Rektors der Universität Graz mitteilen?\\n\\nWer bekleidet das Amt des Rektors an der Universität Graz und welches Geburtsdatum hat diese Person?\",\n",
      "        \"generation_info\": {\n",
      "          \"finish_reason\": \"stop\",\n",
      "          \"logprobs\": null,\n",
      "          \"content_filter_results\": {}\n",
      "        },\n",
      "        \"type\": \"ChatGeneration\",\n",
      "        \"message\": {\n",
      "          \"lc\": 1,\n",
      "          \"type\": \"constructor\",\n",
      "          \"id\": [\n",
      "            \"langchain\",\n",
      "            \"schema\",\n",
      "            \"messages\",\n",
      "            \"AIMessage\"\n",
      "          ],\n",
      "          \"kwargs\": {\n",
      "            \"content\": \"Wer ist der aktuelle Rektor der Universität Graz und wann ist sein Geburtsjahr?\\n\\nKönnten Sie mir den Namen und das Geburtsjahr des derzeitigen Rektors der Universität Graz mitteilen?\\n\\nWer bekleidet das Amt des Rektors an der Universität Graz und welches Geburtsdatum hat diese Person?\",\n",
      "            \"response_metadata\": {\n",
      "              \"token_usage\": {\n",
      "                \"completion_tokens\": 64,\n",
      "                \"prompt_tokens\": 106,\n",
      "                \"total_tokens\": 170\n",
      "              },\n",
      "              \"model_name\": \"gpt-4o-2024-05-13\",\n",
      "              \"system_fingerprint\": \"fp_abc28019ad\",\n",
      "              \"finish_reason\": \"stop\",\n",
      "              \"logprobs\": null,\n",
      "              \"content_filter_results\": {}\n",
      "            },\n",
      "            \"type\": \"ai\",\n",
      "            \"id\": \"run-0010a312-5eef-4b3d-8ced-59fba46760b5-0\",\n",
      "            \"usage_metadata\": {\n",
      "              \"input_tokens\": 106,\n",
      "              \"output_tokens\": 64,\n",
      "              \"total_tokens\": 170\n",
      "            },\n",
      "            \"tool_calls\": [],\n",
      "            \"invalid_tool_calls\": []\n",
      "          }\n",
      "        }\n",
      "      }\n",
      "    ]\n",
      "  ],\n",
      "  \"llm_output\": {\n",
      "    \"token_usage\": {\n",
      "      \"completion_tokens\": 64,\n",
      "      \"prompt_tokens\": 106,\n",
      "      \"total_tokens\": 170\n",
      "    },\n",
      "    \"model_name\": \"gpt-4o-2024-05-13\",\n",
      "    \"system_fingerprint\": \"fp_abc28019ad\"\n",
      "  },\n",
      "  \"run\": null\n",
      "}\n",
      "\u001b[32;1m\u001b[1;3m[chain/start]\u001b[0m \u001b[1m[chain:RunnableSequence > chain:RunnableParallel<Frage,Kontext> > retriever:Retriever > chain:RunnableSequence > parser:LineListOutputParser] Entering Parser run with input:\n",
      "\u001b[0m[inputs]\n",
      "\u001b[36;1m\u001b[1;3m[chain/end]\u001b[0m \u001b[1m[chain:RunnableSequence > chain:RunnableParallel<Frage,Kontext> > retriever:Retriever > chain:RunnableSequence > parser:LineListOutputParser] [1ms] Exiting Parser run with output:\n",
      "\u001b[0m{\n",
      "  \"output\": [\n",
      "    \"Wer ist der aktuelle Rektor der Universität Graz und wann ist sein Geburtsjahr?\",\n",
      "    \"Könnten Sie mir den Namen und das Geburtsjahr des derzeitigen Rektors der Universität Graz mitteilen?\",\n",
      "    \"Wer bekleidet das Amt des Rektors an der Universität Graz und welches Geburtsdatum hat diese Person?\"\n",
      "  ]\n",
      "}\n",
      "\u001b[36;1m\u001b[1;3m[chain/end]\u001b[0m \u001b[1m[chain:RunnableSequence > chain:RunnableParallel<Frage,Kontext> > retriever:Retriever > chain:RunnableSequence] [1.46s] Exiting Chain run with output:\n",
      "\u001b[0m{\n",
      "  \"output\": [\n",
      "    \"Wer ist der aktuelle Rektor der Universität Graz und wann ist sein Geburtsjahr?\",\n",
      "    \"Könnten Sie mir den Namen und das Geburtsjahr des derzeitigen Rektors der Universität Graz mitteilen?\",\n",
      "    \"Wer bekleidet das Amt des Rektors an der Universität Graz und welches Geburtsdatum hat diese Person?\"\n",
      "  ]\n",
      "}\n",
      "\u001b[36;1m\u001b[1;3m[chain/end]\u001b[0m \u001b[1m[chain:RunnableSequence > chain:RunnableParallel<Frage,Kontext>] [2.52s] Exiting Chain run with output:\n",
      "\u001b[0m[outputs]\n",
      "\u001b[32;1m\u001b[1;3m[chain/start]\u001b[0m \u001b[1m[chain:RunnableSequence > prompt:ChatPromptTemplate] Entering Prompt run with input:\n",
      "\u001b[0m[inputs]\n",
      "\u001b[36;1m\u001b[1;3m[chain/end]\u001b[0m \u001b[1m[chain:RunnableSequence > prompt:ChatPromptTemplate] [0ms] Exiting Prompt run with output:\n",
      "\u001b[0m[outputs]\n",
      "\u001b[32;1m\u001b[1;3m[llm/start]\u001b[0m \u001b[1m[chain:RunnableSequence > llm:AzureChatOpenAI] Entering LLM run with input:\n",
      "\u001b[0m{\n",
      "  \"prompts\": [\n",
      "    \"Human: \\nDu bist ein hilfreicher Assistent. Gib Antworten auf die Fragen der Benutzer auf der Grundlage des bereitgestellten Kontexts.\\n\\nKontext:\\n[Document(metadata={'source': 'C:/Pruebas/RAG Search/demo_docu/Broschuere_Int-Mitarbeitende_2023_WEB.pdf', 'start_index': 0, 'pk': 451633302904136368}, page_content='um Ihr Arbeitsverhältnis 12 Häufig gestellte Fragen 14 Services & Infos im Überblick Ein Überblick für den Start 16 Über die Uni Graz © Uni Graz/Konstantinov 5 Über die Universität Die Universität Graz, gegründet 1585, ist Österreichs zweitälteste Universität und eine der größten des Landes. Zahlreiche herausragende Wissenschafter:innen, unter ihnen sechs Nobelpreisträger, haben hier gelehrt und geforscht. Mit rund 30.000 Studierenden und 4.500 Mitarbeitenden trägt sie entscheidend zum pulsierenden Leben'), Document(metadata={'source': 'C:/Pruebas/RAG Search/demo_docu/Broschuere_Int-Mitarbeitende_2023_WEB.pdf', 'start_index': 0, 'pk': 451633302904136376}, page_content='Graz. Seine beruflichen Stationen führten ihn unter anderem ins Europäische Parlament in Brüssel, in die Steiermärki\\\\xad sche Landesregierung, 2002 ins Bundeskanzleramt, mit den Schwerpunkten Wirtschaft und Forschung, sowie 2007 als Director of Public Affairs zur AVL List GmbH in Graz. 2011 wurde Riedler Vizerektor, im Dezember 2021 geschäftsfüh\\\\xad render Rektor der Universität Graz. Seit Oktober 2022 ist er Rektor. Vizerektor für Forschung Univ.-Prof. Dr. Joachim Reidl Joachim Reidl ist seit 2007'), Document(metadata={'source': 'C:/Pruebas/RAG Search/demo_docu/Broschuere_Int-Mitarbeitende_2023_WEB.pdf', 'start_index': 417, 'pk': 451633302904136390}, page_content='am Institut für Öffentliches Recht und Politikwissenschaft und leitete bis September 2022 die Abteilung Finanzen, Personal und Recht der Universität für Weiterbildung Krems. © Uni Graz/WildundWunderbar © Uni Graz/WildundWunderbar Organigramm FAKULTÄTEN* UNIRAT Der Unirat besteht aus 9'), Document(metadata={'source': 'C:/Pruebas/RAG Search/demo_docu/Broschuere_Int-Mitarbeitende_2023_WEB.pdf', 'start_index': 400, 'pk': 451633302904136494}, page_content='akgl.uni-graz.at Universitätsbibliothek ub.uni-graz.at Studienabteilung +43 316 380 1162 / 2192 zulassung.international@uni-graz.at 17 Early stage researchers (PhDs & PostDocs) Der Universität Graz ist die Unterstützung, Aus- und Weiterbildung ihrer „early stage researcher“'), Document(metadata={'source': 'C:/Pruebas/RAG Search/demo_docu/Broschuere_Int-Mitarbeitende_2023_WEB.pdf', 'start_index': 0, 'pk': 451633302904136372}, page_content='Austausch mit dem südöstlichen Europa, von dem die Stadt ebenso profi\\\\xad tiert wie ihre Bildungseinrichtungen. Mehr über die Universität Graz erfahren Sie online unter: uni-graz.at/de/universitaet/die-uni-graz-im-portrait/ Zahlen und Fakten im Überblick – 6 Fakultäten – rund 30.000 Studierende – rund 120 Studien – rund 4.500 Mitarbeitende – 180.000 Quadratmeter Nutzfläche – 268 Millionen Euro Budget pro Jahr © Uni Graz/Schreyer 6 Die Universitätsleitung Rektor Peter Riedler Dr. Peter Riedler, 1969 in Graz'), Document(metadata={'source': 'C:/Pruebas/RAG Search/demo_docu/Broschuere_Int-Mitarbeitende_2023_WEB.pdf', 'start_index': 0, 'pk': 451633302904136548}, page_content='professionelle Unterstützung, durch die ich meine berufliche Laufbahn in Graz fort\\\\xad setzen kann.“ IMPRESSUM: Universität Graz © 2023 Layout: Kommunikation & Öffentlichkeitsarbeit, Universität Graz')]\\n\\nFrage:\\nWer ist der Rektor der Universität Graz und in welchem Jahr wurde er geboren?\"\n",
      "  ]\n",
      "}\n",
      "\u001b[36;1m\u001b[1;3m[llm/end]\u001b[0m \u001b[1m[chain:RunnableSequence > llm:AzureChatOpenAI] [863ms] Exiting LLM run with output:\n",
      "\u001b[0m{\n",
      "  \"generations\": [\n",
      "    [\n",
      "      {\n",
      "        \"text\": \"Der Rektor der Universität Graz ist Dr. Peter Riedler, und er wurde im Jahr 1969 in Graz geboren.\",\n",
      "        \"generation_info\": {\n",
      "          \"finish_reason\": \"stop\",\n",
      "          \"logprobs\": null,\n",
      "          \"content_filter_results\": {}\n",
      "        },\n",
      "        \"type\": \"ChatGeneration\",\n",
      "        \"message\": {\n",
      "          \"lc\": 1,\n",
      "          \"type\": \"constructor\",\n",
      "          \"id\": [\n",
      "            \"langchain\",\n",
      "            \"schema\",\n",
      "            \"messages\",\n",
      "            \"AIMessage\"\n",
      "          ],\n",
      "          \"kwargs\": {\n",
      "            \"content\": \"Der Rektor der Universität Graz ist Dr. Peter Riedler, und er wurde im Jahr 1969 in Graz geboren.\",\n",
      "            \"response_metadata\": {\n",
      "              \"token_usage\": {\n",
      "                \"completion_tokens\": 26,\n",
      "                \"prompt_tokens\": 945,\n",
      "                \"total_tokens\": 971\n",
      "              },\n",
      "              \"model_name\": \"gpt-4o-2024-05-13\",\n",
      "              \"system_fingerprint\": \"fp_abc28019ad\",\n",
      "              \"finish_reason\": \"stop\",\n",
      "              \"logprobs\": null,\n",
      "              \"content_filter_results\": {}\n",
      "            },\n",
      "            \"type\": \"ai\",\n",
      "            \"id\": \"run-002cb516-0252-4ff6-a7cc-2bd6675cc5ab-0\",\n",
      "            \"usage_metadata\": {\n",
      "              \"input_tokens\": 945,\n",
      "              \"output_tokens\": 26,\n",
      "              \"total_tokens\": 971\n",
      "            },\n",
      "            \"tool_calls\": [],\n",
      "            \"invalid_tool_calls\": []\n",
      "          }\n",
      "        }\n",
      "      }\n",
      "    ]\n",
      "  ],\n",
      "  \"llm_output\": {\n",
      "    \"token_usage\": {\n",
      "      \"completion_tokens\": 26,\n",
      "      \"prompt_tokens\": 945,\n",
      "      \"total_tokens\": 971\n",
      "    },\n",
      "    \"model_name\": \"gpt-4o-2024-05-13\",\n",
      "    \"system_fingerprint\": \"fp_abc28019ad\"\n",
      "  },\n",
      "  \"run\": null\n",
      "}\n",
      "\u001b[32;1m\u001b[1;3m[chain/start]\u001b[0m \u001b[1m[chain:RunnableSequence > parser:StrOutputParser] Entering Parser run with input:\n",
      "\u001b[0m[inputs]\n",
      "\u001b[36;1m\u001b[1;3m[chain/end]\u001b[0m \u001b[1m[chain:RunnableSequence > parser:StrOutputParser] [0ms] Exiting Parser run with output:\n",
      "\u001b[0m{\n",
      "  \"output\": \"Der Rektor der Universität Graz ist Dr. Peter Riedler, und er wurde im Jahr 1969 in Graz geboren.\"\n",
      "}\n",
      "\u001b[36;1m\u001b[1;3m[chain/end]\u001b[0m \u001b[1m[chain:RunnableSequence] [3.39s] Exiting Chain run with output:\n",
      "\u001b[0m{\n",
      "  \"output\": \"Der Rektor der Universität Graz ist Dr. Peter Riedler, und er wurde im Jahr 1969 in Graz geboren.\"\n",
      "}\n",
      "Der Rektor der Universität Graz ist Dr. Peter Riedler, und er wurde im Jahr 1969 in Graz geboren.\n"
     ]
    }
   ],
   "source": [
    "prompt_template = \"\"\"\n",
    "Du bist ein hilfreicher Assistent. Gib Antworten auf die Fragen der Benutzer auf der Grundlage des bereitgestellten Kontexts.\n",
    "\n",
    "Kontext:\n",
    "{Kontext}\n",
    "\n",
    "Frage:\n",
    "{Frage}\n",
    "\n",
    "\n",
    "\"\"\"\n",
    "prompt = ChatPromptTemplate.from_template(prompt_template)\n",
    "\n",
    "chain = {\"Frage\": RunnablePassthrough(), \"Kontext\": final_retriever} \\\n",
    "        | prompt \\\n",
    "        | llm \\\n",
    "        | StrOutputParser() \\\n",
    "\n",
    "result = chain.invoke(query)\n",
    "\n",
    "# display(HTML(result))\n",
    "print(result)"
   ]
  },
  {
   "cell_type": "code",
   "execution_count": null,
   "id": "50a971fa-0626-47a8-bc1d-fd8d6bd18c28",
   "metadata": {},
   "outputs": [],
   "source": []
  },
  {
   "cell_type": "code",
   "execution_count": 343,
   "id": "ca6e24e1-f900-4330-a30d-05330f732888",
   "metadata": {},
   "outputs": [],
   "source": [
    "## SECTION-4 Query Expansion -  Hypothetical Document Embeddings (HyDE)"
   ]
  },
  {
   "cell_type": "code",
   "execution_count": 344,
   "id": "93a8313b-63b6-47e4-a7e2-3f96702a1876",
   "metadata": {},
   "outputs": [],
   "source": [
    "from langchain.chains import HypotheticalDocumentEmbedder"
   ]
  },
  {
   "cell_type": "code",
   "execution_count": 345,
   "id": "39226991-0890-4852-8c1e-687ae3c5e48b",
   "metadata": {},
   "outputs": [],
   "source": [
    "# https://arxiv.org/pdf/2212.10496.pdf\n",
    "# embeddings = HypotheticalDocumentEmbedder.from_llm(llm, embedding_model, \"web_search\")\n",
    "\n",
    "from langchain.prompts import PromptTemplate\n",
    "#from langchain.embeddings import HypotheticalDocumentEmbedder\n",
    "#from langchain.chains import LLMChain\n",
    "\n",
    "CUSTOM_HYDE_PROMPT = PromptTemplate(\n",
    "    input_variables=[\"Frage\"],\n",
    "    template=\"Bitte schreib einen Text, um die Frage zu beantworten \\nFrage: {Frage}\\nPassage:\"\n",
    ")\n",
    "\n",
    "embeddings = HypotheticalDocumentEmbedder.from_llm(\n",
    "    llm,\n",
    "    embedding_model,\n",
    "    \"web_search\",\n",
    "    custom_prompt = CUSTOM_HYDE_PROMPT\n",
    ")"
   ]
  },
  {
   "cell_type": "code",
   "execution_count": 346,
   "id": "9ee91c88-11ab-463f-8599-0d5e8fbf04d5",
   "metadata": {},
   "outputs": [
    {
     "data": {
      "text/plain": [
       "'Wer ist der Rektor der Universität Graz und in welchem Jahr wurde er geboren?'"
      ]
     },
     "execution_count": 346,
     "metadata": {},
     "output_type": "execute_result"
    }
   ],
   "source": [
    "query #= \"What are the specific factors contributing to Airbnb's increased operational expenses in the last fiscal year?\""
   ]
  },
  {
   "cell_type": "code",
   "execution_count": 347,
   "id": "b1d6b8e4-a755-4fe7-a7c5-49ef7b43d651",
   "metadata": {},
   "outputs": [
    {
     "data": {
      "text/plain": [
       "HypotheticalDocumentEmbedder(base_embeddings=HuggingFaceEmbeddings(client=SentenceTransformer(\n",
       "  (0): Transformer({'max_seq_length': 512, 'do_lower_case': False}) with Transformer model: BertModel \n",
       "  (1): Pooling({'word_embedding_dimension': 1024, 'pooling_mode_cls_token': False, 'pooling_mode_mean_tokens': True, 'pooling_mode_max_tokens': False, 'pooling_mode_mean_sqrt_len_tokens': False, 'pooling_mode_weightedmean_tokens': False, 'pooling_mode_lasttoken': False, 'include_prompt': True})\n",
       "), model_name='deutsche-telekom/gbert-large-paraphrase-cosine', cache_folder=None, model_kwargs={}, encode_kwargs={}, multi_process=False, show_progress=False), llm_chain=LLMChain(prompt=PromptTemplate(input_variables=['Frage'], template='Bitte schreib einen Text, um die Frage zu beantworten \\nFrage: {Frage}\\nPassage:'), llm=AzureChatOpenAI(client=<openai.resources.chat.completions.Completions object at 0x000001DA9BBB1210>, async_client=<openai.resources.chat.completions.AsyncCompletions object at 0x000001DA9588F0D0>, openai_api_key=SecretStr('**********'), openai_proxy='', azure_endpoint='https://ai-aihubmarzluf001225029902811.openai.azure.com/openai/deployments/gpt-4o/chat/completions?api-version=2023-03-15-preview', openai_api_version='2023-05-15', openai_api_type='azure')))"
      ]
     },
     "execution_count": 347,
     "metadata": {},
     "output_type": "execute_result"
    }
   ],
   "source": [
    "embeddings"
   ]
  },
  {
   "cell_type": "code",
   "execution_count": 348,
   "id": "97395e4c-8a54-47d4-9661-794ffafa4535",
   "metadata": {},
   "outputs": [
    {
     "name": "stdout",
     "output_type": "stream",
     "text": [
      "input_variables=['Frage'] template='Bitte schreib einen Text, um die Frage zu beantworten \\nFrage: {Frage}\\nPassage:'\n"
     ]
    }
   ],
   "source": [
    "import langchain\n",
    "print(embeddings.llm_chain.prompt)\n",
    "langchain.debug = True"
   ]
  },
  {
   "cell_type": "code",
   "execution_count": 349,
   "id": "7506dbb4-fd34-440a-9772-5700dee325e4",
   "metadata": {},
   "outputs": [
    {
     "name": "stdout",
     "output_type": "stream",
     "text": [
      "\u001b[32;1m\u001b[1;3m[llm/start]\u001b[0m \u001b[1m[llm:AzureChatOpenAI] Entering LLM run with input:\n",
      "\u001b[0m{\n",
      "  \"prompts\": [\n",
      "    \"Human: Bitte schreib einen Text, um die Frage zu beantworten \\nFrage: Wer ist der Rektor der Universität Graz und in welchem Jahr wurde er geboren?\\nPassage:\"\n",
      "  ]\n",
      "}\n",
      "\u001b[36;1m\u001b[1;3m[llm/end]\u001b[0m \u001b[1m[llm:AzureChatOpenAI] [2.50s] Exiting LLM run with output:\n",
      "\u001b[0m{\n",
      "  \"generations\": [\n",
      "    [\n",
      "      {\n",
      "        \"text\": \"Es tut mir leid, aber die Passage, die du angegeben hast, enthält nicht die notwendigen Informationen, um die Frage zu beantworten. Um herauszufinden, wer der Rektor der Universität Graz ist und in welchem Jahr er geboren wurde, empfehle ich, die offizielle Website der Universität Graz zu besuchen oder aktuelle Nachrichtenquellen zu konsultieren. Websites von Universitäten haben oft eine Sektion über die Leitung, wo solche Informationen veröffentlicht werden.\",\n",
      "        \"generation_info\": {\n",
      "          \"finish_reason\": \"stop\",\n",
      "          \"logprobs\": null,\n",
      "          \"content_filter_results\": {}\n",
      "        },\n",
      "        \"type\": \"ChatGeneration\",\n",
      "        \"message\": {\n",
      "          \"lc\": 1,\n",
      "          \"type\": \"constructor\",\n",
      "          \"id\": [\n",
      "            \"langchain\",\n",
      "            \"schema\",\n",
      "            \"messages\",\n",
      "            \"AIMessage\"\n",
      "          ],\n",
      "          \"kwargs\": {\n",
      "            \"content\": \"Es tut mir leid, aber die Passage, die du angegeben hast, enthält nicht die notwendigen Informationen, um die Frage zu beantworten. Um herauszufinden, wer der Rektor der Universität Graz ist und in welchem Jahr er geboren wurde, empfehle ich, die offizielle Website der Universität Graz zu besuchen oder aktuelle Nachrichtenquellen zu konsultieren. Websites von Universitäten haben oft eine Sektion über die Leitung, wo solche Informationen veröffentlicht werden.\",\n",
      "            \"response_metadata\": {\n",
      "              \"token_usage\": {\n",
      "                \"completion_tokens\": 88,\n",
      "                \"prompt_tokens\": 41,\n",
      "                \"total_tokens\": 129\n",
      "              },\n",
      "              \"model_name\": \"gpt-4o-2024-05-13\",\n",
      "              \"system_fingerprint\": \"fp_abc28019ad\",\n",
      "              \"finish_reason\": \"stop\",\n",
      "              \"logprobs\": null,\n",
      "              \"content_filter_results\": {}\n",
      "            },\n",
      "            \"type\": \"ai\",\n",
      "            \"id\": \"run-6fe17c6b-9c0f-4f28-8422-0483f1ddfd73-0\",\n",
      "            \"usage_metadata\": {\n",
      "              \"input_tokens\": 41,\n",
      "              \"output_tokens\": 88,\n",
      "              \"total_tokens\": 129\n",
      "            },\n",
      "            \"tool_calls\": [],\n",
      "            \"invalid_tool_calls\": []\n",
      "          }\n",
      "        }\n",
      "      }\n",
      "    ]\n",
      "  ],\n",
      "  \"llm_output\": {\n",
      "    \"token_usage\": {\n",
      "      \"completion_tokens\": 88,\n",
      "      \"prompt_tokens\": 41,\n",
      "      \"total_tokens\": 129\n",
      "    },\n",
      "    \"model_name\": \"gpt-4o-2024-05-13\",\n",
      "    \"system_fingerprint\": \"fp_abc28019ad\"\n",
      "  },\n",
      "  \"run\": null\n",
      "}\n"
     ]
    }
   ],
   "source": [
    "# Now we can use it as any embedding class!\n",
    "result = embeddings.embed_query(query)"
   ]
  },
  {
   "cell_type": "code",
   "execution_count": 350,
   "id": "5481401c-188e-48eb-9f1e-df2ee1cc6d75",
   "metadata": {},
   "outputs": [],
   "source": [
    "# print(result)"
   ]
  },
  {
   "cell_type": "code",
   "execution_count": 351,
   "id": "a6f86ee3-6c08-47b8-8bc9-ac2b09d68311",
   "metadata": {},
   "outputs": [],
   "source": [
    "hyde_retriever = get_retriever(embeddings, collection_name=COLLECTION_NAME, top_k=5)"
   ]
  },
  {
   "cell_type": "code",
   "execution_count": 352,
   "id": "52394909-a62d-4ea9-b350-00913945065c",
   "metadata": {},
   "outputs": [
    {
     "name": "stdout",
     "output_type": "stream",
     "text": [
      "\u001b[32;1m\u001b[1;3m[llm/start]\u001b[0m \u001b[1m[llm:AzureChatOpenAI] Entering LLM run with input:\n",
      "\u001b[0m{\n",
      "  \"prompts\": [\n",
      "    \"Human: Bitte schreib einen Text, um die Frage zu beantworten \\nFrage: Wer ist der Rektor der Universität Graz und in welchem Jahr wurde er geboren?\\nPassage:\"\n",
      "  ]\n",
      "}\n",
      "\u001b[36;1m\u001b[1;3m[llm/end]\u001b[0m \u001b[1m[llm:AzureChatOpenAI] [560ms] Exiting LLM run with output:\n",
      "\u001b[0m{\n",
      "  \"generations\": [\n",
      "    [\n",
      "      {\n",
      "        \"text\": \"Der aktuelle Rektor der Universität Graz ist Peter Riedler. Geboren wurde er im Jahr 1967.\",\n",
      "        \"generation_info\": {\n",
      "          \"finish_reason\": \"stop\",\n",
      "          \"logprobs\": null,\n",
      "          \"content_filter_results\": {}\n",
      "        },\n",
      "        \"type\": \"ChatGeneration\",\n",
      "        \"message\": {\n",
      "          \"lc\": 1,\n",
      "          \"type\": \"constructor\",\n",
      "          \"id\": [\n",
      "            \"langchain\",\n",
      "            \"schema\",\n",
      "            \"messages\",\n",
      "            \"AIMessage\"\n",
      "          ],\n",
      "          \"kwargs\": {\n",
      "            \"content\": \"Der aktuelle Rektor der Universität Graz ist Peter Riedler. Geboren wurde er im Jahr 1967.\",\n",
      "            \"response_metadata\": {\n",
      "              \"token_usage\": {\n",
      "                \"completion_tokens\": 23,\n",
      "                \"prompt_tokens\": 41,\n",
      "                \"total_tokens\": 64\n",
      "              },\n",
      "              \"model_name\": \"gpt-4o-2024-05-13\",\n",
      "              \"system_fingerprint\": \"fp_abc28019ad\",\n",
      "              \"finish_reason\": \"stop\",\n",
      "              \"logprobs\": null,\n",
      "              \"content_filter_results\": {}\n",
      "            },\n",
      "            \"type\": \"ai\",\n",
      "            \"id\": \"run-f3514238-085e-41f4-a87f-241c6c2de1fa-0\",\n",
      "            \"usage_metadata\": {\n",
      "              \"input_tokens\": 41,\n",
      "              \"output_tokens\": 23,\n",
      "              \"total_tokens\": 64\n",
      "            },\n",
      "            \"tool_calls\": [],\n",
      "            \"invalid_tool_calls\": []\n",
      "          }\n",
      "        }\n",
      "      }\n",
      "    ]\n",
      "  ],\n",
      "  \"llm_output\": {\n",
      "    \"token_usage\": {\n",
      "      \"completion_tokens\": 23,\n",
      "      \"prompt_tokens\": 41,\n",
      "      \"total_tokens\": 64\n",
      "    },\n",
      "    \"model_name\": \"gpt-4o-2024-05-13\",\n",
      "    \"system_fingerprint\": \"fp_abc28019ad\"\n",
      "  },\n",
      "  \"run\": null\n",
      "}\n"
     ]
    }
   ],
   "source": [
    "query #= \"What are the specific factors contributing to Airbnb's increased operational expenses in the last fiscal year?\"\n",
    "similar_chunks = retrieve_context(\n",
    "        query, retriever=hyde_retriever,\n",
    "    )"
   ]
  },
  {
   "cell_type": "code",
   "execution_count": 353,
   "id": "e32b8222-5caa-48a4-81f2-eeb90a2911b4",
   "metadata": {},
   "outputs": [
    {
     "name": "stdout",
     "output_type": "stream",
     "text": [
      "--------------------------------- chunk # 0 -------------------------------------\n",
      "© Uni Graz/Schreyer 6 Die Universitätsleitung Rektor Peter Riedler Dr. Peter Riedler, 1969 in Graz geboren, promovierte im Bereich Völkerrecht und Europarecht an der Universität Graz. Seine beruflichen Stationen führten ihn unter anderem ins Europäische\n",
      "--------------------------------- chunk # 1 -------------------------------------\n",
      "Graz. Seine beruflichen Stationen führten ihn unter anderem ins Europäische Parlament in Brüssel, in die Steiermärki­ sche Landesregierung, 2002 ins Bundeskanzleramt, mit den Schwerpunkten Wirtschaft und Forschung, sowie 2007 als Director of Public Affairs zur AVL List GmbH in Graz. 2011 wurde Riedler Vizerektor, im Dezember 2021 geschäftsfüh­ render Rektor der Universität Graz. Seit Oktober 2022 ist er Rektor. Vizerektor für Forschung Univ.-Prof. Dr. Joachim Reidl Joachim Reidl ist seit 2007\n",
      "--------------------------------- chunk # 2 -------------------------------------\n",
      "Austausch mit dem südöstlichen Europa, von dem die Stadt ebenso profi­ tiert wie ihre Bildungseinrichtungen. Mehr über die Universität Graz erfahren Sie online unter: uni-graz.at/de/universitaet/die-uni-graz-im-portrait/ Zahlen und Fakten im Überblick – 6 Fakultäten – rund 30.000 Studierende – rund 120 Studien – rund 4.500 Mitarbeitende – 180.000 Quadratmeter Nutzfläche – 268 Millionen Euro Budget pro Jahr © Uni Graz/Schreyer 6 Die Universitätsleitung Rektor Peter Riedler Dr. Peter Riedler, 1969\n",
      "--------------------------------- chunk # 3 -------------------------------------\n",
      "ist er Rektor. Vizerektor für Forschung Univ.-Prof. Dr. Joachim Reidl Joachim Reidl ist seit 2007 Universitätsprofessor für Mikrobiologie im Institut für Molekulare Biowissenschaften der Universität Graz, wo er seitdem Spezialist für bakterielle Infektiologie und die Wirkungsweisen von\n"
     ]
    }
   ],
   "source": [
    "for i, chunks in enumerate(similar_chunks):\n",
    "    print(f\"--------------------------------- chunk # {i} -------------------------------------\")\n",
    "    print(chunks.page_content[:500])"
   ]
  },
  {
   "cell_type": "code",
   "execution_count": 354,
   "id": "a1eb1732-f9bb-44d9-915c-ca126286f679",
   "metadata": {},
   "outputs": [],
   "source": [
    "langchain.debug = False"
   ]
  },
  {
   "cell_type": "code",
   "execution_count": 355,
   "id": "b86e8de0-d978-48bb-aaef-7070383eb346",
   "metadata": {},
   "outputs": [
    {
     "name": "stdout",
     "output_type": "stream",
     "text": [
      "Der Rektor der Universität Graz ist Dr. Peter Riedler, geboren im Jahr 1969.\n"
     ]
    }
   ],
   "source": [
    "prompt_template = \"\"\"\n",
    "Du bist ein hilfreicher Assistent. Gib Antworten auf die Fragen der Benutzer auf der Grundlage des bereitgestellten Kontexts.\n",
    "\n",
    "Kontext:\n",
    "{Kontext}\n",
    "\n",
    "Frage:\n",
    "{Frage}\n",
    "\n",
    "\n",
    "\"\"\"\n",
    "prompt = ChatPromptTemplate.from_template(prompt_template)\n",
    "\n",
    "chain = {\"Frage\": RunnablePassthrough(), \"Kontext\": hyde_retriever} \\\n",
    "        | prompt \\\n",
    "        | llm \\\n",
    "        | StrOutputParser() \\\n",
    "\n",
    "result = chain.invoke(query)\n",
    "\n",
    "# display(HTML(result))\n",
    "print(result)"
   ]
  },
  {
   "cell_type": "code",
   "execution_count": 356,
   "id": "14067ee4-414b-415b-8d67-c365fe9908bf",
   "metadata": {},
   "outputs": [],
   "source": [
    "#### multiple llms"
   ]
  },
  {
   "cell_type": "code",
   "execution_count": 357,
   "id": "bee91363-2972-415a-b52c-b9fe6b828bc1",
   "metadata": {},
   "outputs": [],
   "source": [
    "langchain.debug=True"
   ]
  },
  {
   "cell_type": "code",
   "execution_count": 358,
   "id": "3033c340-2943-427a-aeaf-47ae633257a4",
   "metadata": {},
   "outputs": [],
   "source": [
    "multi_llm = AzureChatOpenAI(\n",
    "    openai_api_version=\"2023-05-15\",\n",
    "    azure_endpoint=os.getenv(\"AZURE_OPENAI_ENDPOINT\"),\n",
    "    openai_api_key=os.getenv(\"AZURE_OPENAI_API_KEY\"),\n",
    "    n=4\n",
    ")"
   ]
  },
  {
   "cell_type": "code",
   "execution_count": 359,
   "id": "c6ca071c-f64f-41c9-a987-c42578284eca",
   "metadata": {},
   "outputs": [
    {
     "name": "stdout",
     "output_type": "stream",
     "text": [
      "\u001b[32;1m\u001b[1;3m[llm/start]\u001b[0m \u001b[1m[llm:AzureChatOpenAI] Entering LLM run with input:\n",
      "\u001b[0m{\n",
      "  \"prompts\": [\n",
      "    \"Human: Please write a passage to answer the question \\nQuestion: Wer ist der Rektor der Universität Graz und in welchem Jahr wurde er geboren?\\nPassage:\"\n",
      "  ]\n",
      "}\n",
      "\u001b[36;1m\u001b[1;3m[llm/end]\u001b[0m \u001b[1m[llm:AzureChatOpenAI] [1.77s] Exiting LLM run with output:\n",
      "\u001b[0m{\n",
      "  \"generations\": [\n",
      "    [\n",
      "      {\n",
      "        \"text\": \"Der Rektor der Universität Graz ist derzeit Martin Polaschek. Er wurde im Jahr 1965 geboren. Polaschek hat eine beeindruckende akademische Karriere hinter sich und spielt eine zentrale Rolle in der Führung und Entwicklung der Universität Graz.\",\n",
      "        \"generation_info\": {\n",
      "          \"finish_reason\": \"stop\",\n",
      "          \"logprobs\": null,\n",
      "          \"content_filter_results\": {}\n",
      "        },\n",
      "        \"type\": \"ChatGeneration\",\n",
      "        \"message\": {\n",
      "          \"lc\": 1,\n",
      "          \"type\": \"constructor\",\n",
      "          \"id\": [\n",
      "            \"langchain\",\n",
      "            \"schema\",\n",
      "            \"messages\",\n",
      "            \"AIMessage\"\n",
      "          ],\n",
      "          \"kwargs\": {\n",
      "            \"content\": \"Der Rektor der Universität Graz ist derzeit Martin Polaschek. Er wurde im Jahr 1965 geboren. Polaschek hat eine beeindruckende akademische Karriere hinter sich und spielt eine zentrale Rolle in der Führung und Entwicklung der Universität Graz.\",\n",
      "            \"response_metadata\": {\n",
      "              \"finish_reason\": \"stop\",\n",
      "              \"logprobs\": null,\n",
      "              \"content_filter_results\": {}\n",
      "            },\n",
      "            \"type\": \"ai\",\n",
      "            \"id\": \"run-2acfe33c-a223-489c-b56c-7ae492177e20-0\",\n",
      "            \"usage_metadata\": {\n",
      "              \"input_tokens\": 37,\n",
      "              \"output_tokens\": 167,\n",
      "              \"total_tokens\": 204\n",
      "            },\n",
      "            \"tool_calls\": [],\n",
      "            \"invalid_tool_calls\": []\n",
      "          }\n",
      "        }\n",
      "      },\n",
      "      {\n",
      "        \"text\": \"Der aktuelle Rektor der Universität Graz ist Martin Polaschek. Er wurde im Jahr 1965 geboren. Polaschek hat die Rolle des Rektors übernommen und bringt eine umfangreiche Erfahrung in der akademischen Verwaltung und Lehre mit.\",\n",
      "        \"generation_info\": {\n",
      "          \"finish_reason\": \"stop\",\n",
      "          \"logprobs\": null,\n",
      "          \"content_filter_results\": {}\n",
      "        },\n",
      "        \"type\": \"ChatGeneration\",\n",
      "        \"message\": {\n",
      "          \"lc\": 1,\n",
      "          \"type\": \"constructor\",\n",
      "          \"id\": [\n",
      "            \"langchain\",\n",
      "            \"schema\",\n",
      "            \"messages\",\n",
      "            \"AIMessage\"\n",
      "          ],\n",
      "          \"kwargs\": {\n",
      "            \"content\": \"Der aktuelle Rektor der Universität Graz ist Martin Polaschek. Er wurde im Jahr 1965 geboren. Polaschek hat die Rolle des Rektors übernommen und bringt eine umfangreiche Erfahrung in der akademischen Verwaltung und Lehre mit.\",\n",
      "            \"response_metadata\": {\n",
      "              \"finish_reason\": \"stop\",\n",
      "              \"logprobs\": null,\n",
      "              \"content_filter_results\": {}\n",
      "            },\n",
      "            \"type\": \"ai\",\n",
      "            \"id\": \"run-2acfe33c-a223-489c-b56c-7ae492177e20-1\",\n",
      "            \"usage_metadata\": {\n",
      "              \"input_tokens\": 37,\n",
      "              \"output_tokens\": 167,\n",
      "              \"total_tokens\": 204\n",
      "            },\n",
      "            \"tool_calls\": [],\n",
      "            \"invalid_tool_calls\": []\n",
      "          }\n",
      "        }\n",
      "      },\n",
      "      {\n",
      "        \"text\": \"Der aktuelle Rektor der Universität Graz ist Peter Riedler. Er wurde im Jahr 1965 geboren.\",\n",
      "        \"generation_info\": {\n",
      "          \"finish_reason\": \"stop\",\n",
      "          \"logprobs\": null,\n",
      "          \"content_filter_results\": {}\n",
      "        },\n",
      "        \"type\": \"ChatGeneration\",\n",
      "        \"message\": {\n",
      "          \"lc\": 1,\n",
      "          \"type\": \"constructor\",\n",
      "          \"id\": [\n",
      "            \"langchain\",\n",
      "            \"schema\",\n",
      "            \"messages\",\n",
      "            \"AIMessage\"\n",
      "          ],\n",
      "          \"kwargs\": {\n",
      "            \"content\": \"Der aktuelle Rektor der Universität Graz ist Peter Riedler. Er wurde im Jahr 1965 geboren.\",\n",
      "            \"response_metadata\": {\n",
      "              \"finish_reason\": \"stop\",\n",
      "              \"logprobs\": null,\n",
      "              \"content_filter_results\": {}\n",
      "            },\n",
      "            \"type\": \"ai\",\n",
      "            \"id\": \"run-2acfe33c-a223-489c-b56c-7ae492177e20-2\",\n",
      "            \"usage_metadata\": {\n",
      "              \"input_tokens\": 37,\n",
      "              \"output_tokens\": 167,\n",
      "              \"total_tokens\": 204\n",
      "            },\n",
      "            \"tool_calls\": [],\n",
      "            \"invalid_tool_calls\": []\n",
      "          }\n",
      "        }\n",
      "      },\n",
      "      {\n",
      "        \"text\": \"Der aktuelle Rektor der Universität Graz ist Martin Polaschek. Er wurde im Jahr 1965 geboren. Polaschek hat eine lange Karriere in der akademischen Welt hinter sich und ist seit 2019 Rektor der Universität Graz.\",\n",
      "        \"generation_info\": {\n",
      "          \"finish_reason\": \"stop\",\n",
      "          \"logprobs\": null,\n",
      "          \"content_filter_results\": {}\n",
      "        },\n",
      "        \"type\": \"ChatGeneration\",\n",
      "        \"message\": {\n",
      "          \"lc\": 1,\n",
      "          \"type\": \"constructor\",\n",
      "          \"id\": [\n",
      "            \"langchain\",\n",
      "            \"schema\",\n",
      "            \"messages\",\n",
      "            \"AIMessage\"\n",
      "          ],\n",
      "          \"kwargs\": {\n",
      "            \"content\": \"Der aktuelle Rektor der Universität Graz ist Martin Polaschek. Er wurde im Jahr 1965 geboren. Polaschek hat eine lange Karriere in der akademischen Welt hinter sich und ist seit 2019 Rektor der Universität Graz.\",\n",
      "            \"response_metadata\": {\n",
      "              \"finish_reason\": \"stop\",\n",
      "              \"logprobs\": null,\n",
      "              \"content_filter_results\": {}\n",
      "            },\n",
      "            \"type\": \"ai\",\n",
      "            \"id\": \"run-2acfe33c-a223-489c-b56c-7ae492177e20-3\",\n",
      "            \"usage_metadata\": {\n",
      "              \"input_tokens\": 37,\n",
      "              \"output_tokens\": 167,\n",
      "              \"total_tokens\": 204\n",
      "            },\n",
      "            \"tool_calls\": [],\n",
      "            \"invalid_tool_calls\": []\n",
      "          }\n",
      "        }\n",
      "      }\n",
      "    ]\n",
      "  ],\n",
      "  \"llm_output\": {\n",
      "    \"token_usage\": {\n",
      "      \"completion_tokens\": 167,\n",
      "      \"prompt_tokens\": 37,\n",
      "      \"total_tokens\": 204\n",
      "    },\n",
      "    \"model_name\": \"gpt-4o-2024-05-13\",\n",
      "    \"system_fingerprint\": \"fp_abc28019ad\"\n",
      "  },\n",
      "  \"run\": null\n",
      "}\n"
     ]
    }
   ],
   "source": [
    "embeddings = HypotheticalDocumentEmbedder.from_llm(\n",
    "    multi_llm, embedding_model, \"web_search\"\n",
    ")\n",
    "\n",
    "result = embeddings.embed_query(query)"
   ]
  },
  {
   "cell_type": "code",
   "execution_count": null,
   "id": "077a9a09-3e09-4fe1-81fc-93fbbff676d6",
   "metadata": {},
   "outputs": [],
   "source": []
  },
  {
   "cell_type": "code",
   "execution_count": null,
   "id": "cb57072d-a12d-4174-bae6-72f2f203c4cf",
   "metadata": {},
   "outputs": [],
   "source": []
  },
  {
   "cell_type": "code",
   "execution_count": 360,
   "id": "e8613b8c-85f7-4b1c-bccc-b4df4144633f",
   "metadata": {},
   "outputs": [],
   "source": [
    "## SECTION-5 Fusion Retriever / Hybrid Search"
   ]
  },
  {
   "cell_type": "code",
   "execution_count": 372,
   "id": "d9069ff9-7256-4cd5-ad22-97eda3f1f90b",
   "metadata": {},
   "outputs": [],
   "source": [
    "from langchain_milvus import Milvus\n",
    "\n",
    "def get_retriever(embedding_model, collection_name, top_k=3):\n",
    "    \"\"\"\n",
    "    Initializes a retriever object to fetch the top_k most relevant documents based on cosine similarity.\n",
    "\n",
    "    Parameters:\n",
    "    - docs: A list of documents to be indexed and retrieved.\n",
    "    - embedding_model: The embedding model to use for generating document embeddings.\n",
    "    - top_k: The number of top relevant documents to retrieve. Defaults to 3.\n",
    "\n",
    "    Returns:\n",
    "    - A retriever object configured to retrieve the top_k relevant documents.\n",
    "\n",
    "    Raises:\n",
    "    - ValueError: If any input parameter is invalid.\n",
    "    \"\"\"\n",
    "    # Example of parameter validation (optional)\n",
    "    if top_k < 1:\n",
    "        raise ValueError(\"top_k must be at least 1\")\n",
    "\n",
    "    try:\n",
    "        vector_store = Milvus(collection_name=collection_name, embedding_function=embedding_model)\n",
    "\n",
    "        retriever = vector_store.as_retriever(k=top_k)\n",
    "        # retriever.k = top_k\n",
    "\n",
    "        return retriever\n",
    "    except Exception as e:\n",
    "        print(f\"An error occurred while initializing the retriever: {e}\")\n",
    "        raise"
   ]
  },
  {
   "cell_type": "code",
   "execution_count": 373,
   "id": "8a00e154-f469-4ff1-ab4d-f00e230ffd84",
   "metadata": {},
   "outputs": [],
   "source": [
    "\n",
    "from langchain_community.retrievers import BM25Retriever\n",
    "from langchain.retrievers import EnsembleRetriever\n",
    "from langchain_milvus import Milvus\n",
    "\n",
    "\n",
    "def get_ensemble_retriever(docs, embedding_model, collection_name=COLLECTION_NAME, top_k=3):\n",
    "    \"\"\"\n",
    "    Initializes a retriever object to fetch the top_k most relevant documents based on cosine similarity.\n",
    "\n",
    "    Parameters:\n",
    "    - docs: A list of documents to be indexed and retrieved.\n",
    "    - embedding_model: The embedding model to use for generating document embeddings.\n",
    "    - top_k: The number of top relevant documents to retrieve. Defaults to 3.\n",
    "\n",
    "    Returns:\n",
    "    - A retriever object configured to retrieve the top_k relevant documents.\n",
    "\n",
    "    Raises:\n",
    "    - ValueError: If any input parameter is invalid.\n",
    "    \"\"\"\n",
    "\n",
    "    # Hybrid search\n",
    "    # Example of parameter validation (optional)\n",
    "    if top_k < 1:\n",
    "        raise ValueError(\"top_k must be at least 1\")\n",
    "\n",
    "    try:\n",
    "        vector_store = Milvus(collection_name=collection_name, embedding_function=embedding_model)\n",
    "\n",
    "        retriever = vector_store.as_retriever(search_kwargs={\"k\":top_k})\n",
    "        # retriever.k = top_k\n",
    "\n",
    "        # add keyword search\n",
    "        keyword_retriever = BM25Retriever.from_documents(docs)\n",
    "        keyword_retriever.k =  3\n",
    "\n",
    "        ensemble_retriever = EnsembleRetriever(retrievers=[retriever,\n",
    "                                                    keyword_retriever],\n",
    "                                        weights=[0.5, 0.5])\n",
    "\n",
    "        return ensemble_retriever\n",
    "    except Exception as e:\n",
    "        print(f\"An error occurred while initializing the retriever: {e}\")\n",
    "        raise"
   ]
  },
  {
   "cell_type": "code",
   "execution_count": 374,
   "id": "1e067238-f9bc-4b9a-8620-b0b426a350af",
   "metadata": {},
   "outputs": [],
   "source": [
    "hybrid_retriever = get_ensemble_retriever(all_splits, embedding_model, collection_name=COLLECTION_NAME, top_k=5)"
   ]
  },
  {
   "cell_type": "code",
   "execution_count": 375,
   "id": "0dd4eb80-4f9a-4f93-95ed-821f081a7f3a",
   "metadata": {},
   "outputs": [
    {
     "data": {
      "text/plain": [
       "EnsembleRetriever(retrievers=[VectorStoreRetriever(tags=['Milvus', 'HuggingFaceEmbeddings'], vectorstore=<langchain_milvus.vectorstores.milvus.Milvus object at 0x000001DA9B7ABA60>, search_kwargs={'k': 5}), BM25Retriever(vectorizer=<rank_bm25.BM25Okapi object at 0x000001DA9B7AB730>, k=3)], weights=[0.5, 0.5])"
      ]
     },
     "execution_count": 375,
     "metadata": {},
     "output_type": "execute_result"
    }
   ],
   "source": [
    "hybrid_retriever"
   ]
  },
  {
   "cell_type": "code",
   "execution_count": 376,
   "id": "1887f07c-4363-41e9-bc6e-43e292d336b5",
   "metadata": {},
   "outputs": [],
   "source": [
    "query #= \"What are the specific factors contributing to Airbnb's increased operational expenses in the last fiscal year?\"\n",
    "similar_chunks = retrieve_context(\n",
    "        query, retriever=hybrid_retriever,\n",
    "    )"
   ]
  },
  {
   "cell_type": "code",
   "execution_count": 377,
   "id": "75d20468-207d-4e57-873e-15fe77ee4900",
   "metadata": {},
   "outputs": [
    {
     "name": "stdout",
     "output_type": "stream",
     "text": [
      "--------------------------------- chunk # 0 -------------------------------------\n",
      "Graz. Seine beruflichen Stationen führten ihn unter anderem ins Europäische Parlament in Brüssel, in die Steiermärki­ sche Landesregierung, 2002 ins Bundeskanzleramt, mit den Schwerpunkten Wirtschaft und Forschung, sowie 2007 als Director of Public Affairs zur AVL List GmbH in Graz. 2011 wurde Riedler Vizerektor, im Dezember 2021 geschäftsfüh­ render Rektor der Universität Graz. Seit Oktober 2022 ist er Rektor. Vizerektor für Forschung Univ.-Prof. Dr. Joachim Reidl Joachim Reidl ist seit 2007\n",
      "--------------------------------- chunk # 1 -------------------------------------\n",
      "um Ihr Arbeitsverhältnis 12 Häufig gestellte Fragen 14 Services & Infos im Überblick Ein Überblick für den Start 16 Über die Uni Graz © Uni Graz/Konstantinov 5 Über die Universität Die Universität Graz, gegründet 1585, ist Österreichs zweitälteste Universität und eine der größten des Landes. Zahlreiche herausragende Wissenschafter:innen, unter ihnen sechs Nobelpreisträger, haben hier gelehrt und geforscht. Mit rund 30.000 Studierenden und 4.500 Mitarbeitenden trägt sie entscheidend zum pulsieren\n",
      "--------------------------------- chunk # 2 -------------------------------------\n",
      "am Institut für Öffentliches Recht und Politikwissenschaft und leitete bis September 2022 die Abteilung Finanzen, Personal und Recht der Universität für Weiterbildung Krems. © Uni Graz/WildundWunderbar © Uni Graz/WildundWunderbar Organigramm FAKULTÄTEN* UNIRAT Der Unirat besteht aus 9\n",
      "--------------------------------- chunk # 3 -------------------------------------\n",
      "10.10.23, 11:31 Papamonat – Frühkarenzurlaub für Väter https://intranet.uni-graz.at/strategie/Pages/ma_erfolge_papamonat.aspx 1/1 Copyright © 2023 Universität Graz | Feedback | Intranet-Redaktion | Datenschutzerklärung Zuletzt geändert am Feb 14, 2020 Papamonat – Frühkarenzurlaub für Väter Uni Graz bietet allen Mitarbeitern „Väter-Urlaub“ seit fast einem Jahr Österreichweit ist er derzeit heftig in Diskussion, an der Uni Graz gibt es ihn für alle bereits seit fast einem Jahr: den „Papamonat“. Um\n",
      "--------------------------------- chunk # 4 -------------------------------------\n",
      "ist er Rektor. Vizerektor für Forschung Univ.-Prof. Dr. Joachim Reidl Joachim Reidl ist seit 2007 Universitätsprofessor für Mikrobiologie im Institut für Molekulare Biowissenschaften der Universität Graz, wo er seitdem Spezialist für bakterielle Infektiologie und die Wirkungsweisen von\n",
      "--------------------------------- chunk # 5 -------------------------------------\n",
      "akgl.uni-graz.at Universitätsbibliothek ub.uni-graz.at Studienabteilung +43 316 380 1162 / 2192 zulassung.international@uni-graz.at 17 Early stage researchers (PhDs & PostDocs) Der Universität Graz ist die Unterstützung, Aus- und Weiterbildung ihrer „early stage researcher“\n",
      "--------------------------------- chunk # 6 -------------------------------------\n",
      "© Uni Graz/Schreyer 6 Die Universitätsleitung Rektor Peter Riedler Dr. Peter Riedler, 1969 in Graz geboren, promovierte im Bereich Völkerrecht und Europarecht an der Universität Graz. Seine beruflichen Stationen führten ihn unter anderem ins Europäische\n"
     ]
    }
   ],
   "source": [
    "query #= \"What are the specific factors contributing to Airbnb's increased operational expenses in the last fiscal year?\"\n",
    "similar_chunks = retrieve_context(\n",
    "        query, retriever=hybrid_retriever,\n",
    "    )\n",
    "\n",
    "for i, chunks in enumerate(similar_chunks):\n",
    "    print(f\"--------------------------------- chunk # {i} -------------------------------------\")\n",
    "    print(chunks.page_content[:500])"
   ]
  },
  {
   "cell_type": "code",
   "execution_count": 378,
   "id": "8fd7ac8b-beb7-4967-86c2-6e5825ea9f35",
   "metadata": {},
   "outputs": [
    {
     "name": "stdout",
     "output_type": "stream",
     "text": [
      "--------------------------------- chunk # 0 -------------------------------------\n",
      "Graz. Seine beruflichen Stationen führten ihn unter anderem ins Europäische Parlament in Brüssel, in die Steiermärki­ sche Landesregierung, 2002 ins Bundeskanzleramt, mit den Schwerpunkten Wirtschaft und Forschung, sowie 2007 als Director of Public Affairs zur AVL List GmbH in Graz. 2011 wurde Riedler Vizerektor, im Dezember 2021 geschäftsfüh­ render Rektor der Universität Graz. Seit Oktober 2022 ist er Rektor. Vizerektor für Forschung Univ.-Prof. Dr. Joachim Reidl Joachim Reidl ist seit 2007\n",
      "--------------------------------- chunk # 1 -------------------------------------\n",
      "um Ihr Arbeitsverhältnis 12 Häufig gestellte Fragen 14 Services & Infos im Überblick Ein Überblick für den Start 16 Über die Uni Graz © Uni Graz/Konstantinov 5 Über die Universität Die Universität Graz, gegründet 1585, ist Österreichs zweitälteste Universität und eine der größten des Landes. Zahlreiche herausragende Wissenschafter:innen, unter ihnen sechs Nobelpreisträger, haben hier gelehrt und geforscht. Mit rund 30.000 Studierenden und 4.500 Mitarbeitenden trägt sie entscheidend zum pulsieren\n",
      "--------------------------------- chunk # 2 -------------------------------------\n",
      "am Institut für Öffentliches Recht und Politikwissenschaft und leitete bis September 2022 die Abteilung Finanzen, Personal und Recht der Universität für Weiterbildung Krems. © Uni Graz/WildundWunderbar © Uni Graz/WildundWunderbar Organigramm FAKULTÄTEN* UNIRAT Der Unirat besteht aus 9\n",
      "--------------------------------- chunk # 3 -------------------------------------\n",
      "10.10.23, 11:31 Papamonat – Frühkarenzurlaub für Väter https://intranet.uni-graz.at/strategie/Pages/ma_erfolge_papamonat.aspx 1/1 Copyright © 2023 Universität Graz | Feedback | Intranet-Redaktion | Datenschutzerklärung Zuletzt geändert am Feb 14, 2020 Papamonat – Frühkarenzurlaub für Väter Uni Graz bietet allen Mitarbeitern „Väter-Urlaub“ seit fast einem Jahr Österreichweit ist er derzeit heftig in Diskussion, an der Uni Graz gibt es ihn für alle bereits seit fast einem Jahr: den „Papamonat“. Um\n",
      "--------------------------------- chunk # 4 -------------------------------------\n",
      "ist er Rektor. Vizerektor für Forschung Univ.-Prof. Dr. Joachim Reidl Joachim Reidl ist seit 2007 Universitätsprofessor für Mikrobiologie im Institut für Molekulare Biowissenschaften der Universität Graz, wo er seitdem Spezialist für bakterielle Infektiologie und die Wirkungsweisen von\n",
      "--------------------------------- chunk # 5 -------------------------------------\n",
      "akgl.uni-graz.at Universitätsbibliothek ub.uni-graz.at Studienabteilung +43 316 380 1162 / 2192 zulassung.international@uni-graz.at 17 Early stage researchers (PhDs & PostDocs) Der Universität Graz ist die Unterstützung, Aus- und Weiterbildung ihrer „early stage researcher“\n",
      "--------------------------------- chunk # 6 -------------------------------------\n",
      "© Uni Graz/Schreyer 6 Die Universitätsleitung Rektor Peter Riedler Dr. Peter Riedler, 1969 in Graz geboren, promovierte im Bereich Völkerrecht und Europarecht an der Universität Graz. Seine beruflichen Stationen führten ihn unter anderem ins Europäische\n"
     ]
    }
   ],
   "source": [
    "for i, chunks in enumerate(similar_chunks):\n",
    "    print(f\"--------------------------------- chunk # {i} -------------------------------------\")\n",
    "    print(chunks.page_content[:500])"
   ]
  },
  {
   "cell_type": "code",
   "execution_count": 379,
   "id": "c7347e66-c755-4a26-b6ad-04c7ea86b3de",
   "metadata": {},
   "outputs": [
    {
     "name": "stdout",
     "output_type": "stream",
     "text": [
      "\u001b[32;1m\u001b[1;3m[chain/start]\u001b[0m \u001b[1m[chain:RunnableSequence] Entering Chain run with input:\n",
      "\u001b[0m{\n",
      "  \"input\": \"Wer ist der Rektor der Universität Graz und in welchem Jahr wurde er geboren?\"\n",
      "}\n",
      "\u001b[32;1m\u001b[1;3m[chain/start]\u001b[0m \u001b[1m[chain:RunnableSequence > chain:RunnableParallel<Frage,Kontext>] Entering Chain run with input:\n",
      "\u001b[0m{\n",
      "  \"input\": \"Wer ist der Rektor der Universität Graz und in welchem Jahr wurde er geboren?\"\n",
      "}\n",
      "\u001b[32;1m\u001b[1;3m[chain/start]\u001b[0m \u001b[1m[chain:RunnableSequence > chain:RunnableParallel<Frage,Kontext> > chain:RunnablePassthrough] Entering Chain run with input:\n",
      "\u001b[0m{\n",
      "  \"input\": \"Wer ist der Rektor der Universität Graz und in welchem Jahr wurde er geboren?\"\n",
      "}\n",
      "\u001b[36;1m\u001b[1;3m[chain/end]\u001b[0m \u001b[1m[chain:RunnableSequence > chain:RunnableParallel<Frage,Kontext> > chain:RunnablePassthrough] [1ms] Exiting Chain run with output:\n",
      "\u001b[0m{\n",
      "  \"output\": \"Wer ist der Rektor der Universität Graz und in welchem Jahr wurde er geboren?\"\n",
      "}\n",
      "\u001b[36;1m\u001b[1;3m[chain/end]\u001b[0m \u001b[1m[chain:RunnableSequence > chain:RunnableParallel<Frage,Kontext>] [338ms] Exiting Chain run with output:\n",
      "\u001b[0m[outputs]\n",
      "\u001b[32;1m\u001b[1;3m[chain/start]\u001b[0m \u001b[1m[chain:RunnableSequence > prompt:ChatPromptTemplate] Entering Prompt run with input:\n",
      "\u001b[0m[inputs]\n",
      "\u001b[36;1m\u001b[1;3m[chain/end]\u001b[0m \u001b[1m[chain:RunnableSequence > prompt:ChatPromptTemplate] [0ms] Exiting Prompt run with output:\n",
      "\u001b[0m[outputs]\n",
      "\u001b[32;1m\u001b[1;3m[llm/start]\u001b[0m \u001b[1m[chain:RunnableSequence > llm:AzureChatOpenAI] Entering LLM run with input:\n",
      "\u001b[0m{\n",
      "  \"prompts\": [\n",
      "    \"Human: \\nDu bist ein hilfreicher Assistent. Gib Antworten auf die Fragen der Benutzer auf der Grundlage des bereitgestellten Kontexts.\\n\\nKontext:\\n[Document(metadata={'source': 'C:/Pruebas/RAG Search/demo_docu/Broschuere_Int-Mitarbeitende_2023_WEB.pdf', 'start_index': 0, 'pk': 451633302904136376}, page_content='Graz. Seine beruflichen Stationen führten ihn unter anderem ins Europäische Parlament in Brüssel, in die Steiermärki\\\\xad sche Landesregierung, 2002 ins Bundeskanzleramt, mit den Schwerpunkten Wirtschaft und Forschung, sowie 2007 als Director of Public Affairs zur AVL List GmbH in Graz. 2011 wurde Riedler Vizerektor, im Dezember 2021 geschäftsfüh\\\\xad render Rektor der Universität Graz. Seit Oktober 2022 ist er Rektor. Vizerektor für Forschung Univ.-Prof. Dr. Joachim Reidl Joachim Reidl ist seit 2007'), Document(metadata={'source': 'C:/Pruebas/RAG Search/demo_docu/Broschuere_Int-Mitarbeitende_2023_WEB.pdf', 'start_index': 0, 'pk': 451633302904136368}, page_content='um Ihr Arbeitsverhältnis 12 Häufig gestellte Fragen 14 Services & Infos im Überblick Ein Überblick für den Start 16 Über die Uni Graz © Uni Graz/Konstantinov 5 Über die Universität Die Universität Graz, gegründet 1585, ist Österreichs zweitälteste Universität und eine der größten des Landes. Zahlreiche herausragende Wissenschafter:innen, unter ihnen sechs Nobelpreisträger, haben hier gelehrt und geforscht. Mit rund 30.000 Studierenden und 4.500 Mitarbeitenden trägt sie entscheidend zum pulsierenden Leben'), Document(metadata={'source': 'C:/Pruebas/RAG Search/demo_docu/Broschuere_Int-Mitarbeitende_2023_WEB.pdf', 'start_index': 417, 'pk': 451633302904136390}, page_content='am Institut für Öffentliches Recht und Politikwissenschaft und leitete bis September 2022 die Abteilung Finanzen, Personal und Recht der Universität für Weiterbildung Krems. © Uni Graz/WildundWunderbar © Uni Graz/WildundWunderbar Organigramm FAKULTÄTEN* UNIRAT Der Unirat besteht aus 9'), Document(metadata={'source': 'C:/Pruebas/RAG Search/demo_docu/Papamonat_Frühkarenzurlaub_für_Väter.pdf', 'start_index': 0}, page_content='10.10.23, 11:31 Papamonat – Frühkarenzurlaub für Väter https://intranet.uni-graz.at/strategie/Pages/ma_erfolge_papamonat.aspx 1/1 Copyright © 2023 Universität Graz | Feedback | Intranet-Redaktion | Datenschutzerklärung Zuletzt geändert am Feb 14, 2020 Papamonat – Frühkarenzurlaub für Väter Uni Graz bietet allen Mitarbeitern „Väter-Urlaub“ seit fast einem Jahr Österreichweit ist er derzeit heftig in Diskussion, an der Uni Graz gibt es ihn für alle bereits seit fast einem Jahr: den „Papamonat“. Um direkt nach'), Document(metadata={'source': 'C:/Pruebas/RAG Search/demo_docu/Broschuere_Int-Mitarbeitende_2023_WEB.pdf', 'start_index': 400}, page_content='ist er Rektor. Vizerektor für Forschung Univ.-Prof. Dr. Joachim Reidl Joachim Reidl ist seit 2007 Universitätsprofessor für Mikrobiologie im Institut für Molekulare Biowissenschaften der Universität Graz, wo er seitdem Spezialist für bakterielle Infektiologie und die Wirkungsweisen von'), Document(metadata={'source': 'C:/Pruebas/RAG Search/demo_docu/Broschuere_Int-Mitarbeitende_2023_WEB.pdf', 'start_index': 400, 'pk': 451633302904136494}, page_content='akgl.uni-graz.at Universitätsbibliothek ub.uni-graz.at Studienabteilung +43 316 380 1162 / 2192 zulassung.international@uni-graz.at 17 Early stage researchers (PhDs & PostDocs) Der Universität Graz ist die Unterstützung, Aus- und Weiterbildung ihrer „early stage researcher“'), Document(metadata={'source': 'C:/Pruebas/RAG Search/demo_docu/Broschuere_Int-Mitarbeitende_2023_WEB.pdf', 'start_index': 410, 'pk': 451633302904136374}, page_content='© Uni Graz/Schreyer 6 Die Universitätsleitung Rektor Peter Riedler Dr. Peter Riedler, 1969 in Graz geboren, promovierte im Bereich Völkerrecht und Europarecht an der Universität Graz. Seine beruflichen Stationen führten ihn unter anderem ins Europäische')]\\n\\nFrage:\\nWer ist der Rektor der Universität Graz und in welchem Jahr wurde er geboren?\"\n",
      "  ]\n",
      "}\n",
      "\u001b[36;1m\u001b[1;3m[llm/end]\u001b[0m \u001b[1m[chain:RunnableSequence > llm:AzureChatOpenAI] [984ms] Exiting LLM run with output:\n",
      "\u001b[0m{\n",
      "  \"generations\": [\n",
      "    [\n",
      "      {\n",
      "        \"text\": \"Der Rektor der Universität Graz ist Dr. Peter Riedler. Er wurde im Jahr 1969 in Graz geboren.\",\n",
      "        \"generation_info\": {\n",
      "          \"finish_reason\": \"stop\",\n",
      "          \"logprobs\": null,\n",
      "          \"content_filter_results\": {}\n",
      "        },\n",
      "        \"type\": \"ChatGeneration\",\n",
      "        \"message\": {\n",
      "          \"lc\": 1,\n",
      "          \"type\": \"constructor\",\n",
      "          \"id\": [\n",
      "            \"langchain\",\n",
      "            \"schema\",\n",
      "            \"messages\",\n",
      "            \"AIMessage\"\n",
      "          ],\n",
      "          \"kwargs\": {\n",
      "            \"content\": \"Der Rektor der Universität Graz ist Dr. Peter Riedler. Er wurde im Jahr 1969 in Graz geboren.\",\n",
      "            \"response_metadata\": {\n",
      "              \"token_usage\": {\n",
      "                \"completion_tokens\": 25,\n",
      "                \"prompt_tokens\": 1073,\n",
      "                \"total_tokens\": 1098\n",
      "              },\n",
      "              \"model_name\": \"gpt-4o-2024-05-13\",\n",
      "              \"system_fingerprint\": \"fp_abc28019ad\",\n",
      "              \"finish_reason\": \"stop\",\n",
      "              \"logprobs\": null,\n",
      "              \"content_filter_results\": {}\n",
      "            },\n",
      "            \"type\": \"ai\",\n",
      "            \"id\": \"run-acaee34d-d2f5-4a7f-b6a3-f7b222d85fbe-0\",\n",
      "            \"usage_metadata\": {\n",
      "              \"input_tokens\": 1073,\n",
      "              \"output_tokens\": 25,\n",
      "              \"total_tokens\": 1098\n",
      "            },\n",
      "            \"tool_calls\": [],\n",
      "            \"invalid_tool_calls\": []\n",
      "          }\n",
      "        }\n",
      "      }\n",
      "    ]\n",
      "  ],\n",
      "  \"llm_output\": {\n",
      "    \"token_usage\": {\n",
      "      \"completion_tokens\": 25,\n",
      "      \"prompt_tokens\": 1073,\n",
      "      \"total_tokens\": 1098\n",
      "    },\n",
      "    \"model_name\": \"gpt-4o-2024-05-13\",\n",
      "    \"system_fingerprint\": \"fp_abc28019ad\"\n",
      "  },\n",
      "  \"run\": null\n",
      "}\n",
      "\u001b[32;1m\u001b[1;3m[chain/start]\u001b[0m \u001b[1m[chain:RunnableSequence > parser:StrOutputParser] Entering Parser run with input:\n",
      "\u001b[0m[inputs]\n",
      "\u001b[36;1m\u001b[1;3m[chain/end]\u001b[0m \u001b[1m[chain:RunnableSequence > parser:StrOutputParser] [0ms] Exiting Parser run with output:\n",
      "\u001b[0m{\n",
      "  \"output\": \"Der Rektor der Universität Graz ist Dr. Peter Riedler. Er wurde im Jahr 1969 in Graz geboren.\"\n",
      "}\n",
      "\u001b[36;1m\u001b[1;3m[chain/end]\u001b[0m \u001b[1m[chain:RunnableSequence] [1.33s] Exiting Chain run with output:\n",
      "\u001b[0m{\n",
      "  \"output\": \"Der Rektor der Universität Graz ist Dr. Peter Riedler. Er wurde im Jahr 1969 in Graz geboren.\"\n",
      "}\n",
      "Der Rektor der Universität Graz ist Dr. Peter Riedler. Er wurde im Jahr 1969 in Graz geboren.\n"
     ]
    }
   ],
   "source": [
    "prompt_template = \"\"\"\n",
    "Du bist ein hilfreicher Assistent. Gib Antworten auf die Fragen der Benutzer auf der Grundlage des bereitgestellten Kontexts.\n",
    "\n",
    "Kontext:\n",
    "{Kontext}\n",
    "\n",
    "Frage:\n",
    "{Frage}\n",
    "\n",
    "\n",
    "\"\"\"\n",
    "prompt = ChatPromptTemplate.from_template(prompt_template)\n",
    "\n",
    "chain = {\"Frage\": RunnablePassthrough(), \"Kontext\": hybrid_retriever} \\\n",
    "        | prompt \\\n",
    "        | llm \\\n",
    "        | StrOutputParser() \\\n",
    "\n",
    "result = chain.invoke(query)\n",
    "\n",
    "# display(HTML(result))\n",
    "print(result)"
   ]
  },
  {
   "cell_type": "code",
   "execution_count": null,
   "id": "0c3a4f4e-1d21-434b-bba4-9482646b24bc",
   "metadata": {},
   "outputs": [],
   "source": []
  },
  {
   "cell_type": "code",
   "execution_count": 468,
   "id": "0c6d1e93-6087-4f54-8cd5-41308cb0af0b",
   "metadata": {},
   "outputs": [],
   "source": [
    "## SECTION-6 Context Expansion - Parent Document Retriever"
   ]
  },
  {
   "cell_type": "code",
   "execution_count": 469,
   "id": "8780e295-3977-41d1-b167-d8125143a4c1",
   "metadata": {},
   "outputs": [],
   "source": [
    "from langchain_milvus import Milvus\n",
    "\n",
    "def get_retriever(docs, embedding_model, top_k=3):\n",
    "    \"\"\"\n",
    "    Initializes a retriever object to fetch the top_k most relevant documents based on cosine similarity.\n",
    "\n",
    "    Parameters:\n",
    "    - docs: A list of documents to be indexed and retrieved.\n",
    "    - embedding_model: The embedding model to use for generating document embeddings.\n",
    "    - top_k: The number of top relevant documents to retrieve. Defaults to 3.\n",
    "\n",
    "    Returns:\n",
    "    - A retriever object configured to retrieve the top_k relevant documents.\n",
    "\n",
    "    Raises:\n",
    "    - ValueError: If any input parameter is invalid.\n",
    "    \"\"\"\n",
    "    # Example of parameter validation (optional)\n",
    "    if top_k < 1:\n",
    "        raise ValueError(\"top_k must be at least 1\")\n",
    "\n",
    "    try:\n",
    "        vector_store = Milvus(collection_name=collection_name, embedding_function=embedding_model)\n",
    "\n",
    "        retriever = vector_store.as_retriever(k=top_k)\n",
    "        # retriever.k = top_k\n",
    "\n",
    "        return retriever\n",
    "    except Exception as e:\n",
    "        print(f\"An error occurred while initializing the retriever: {e}\")\n",
    "        raise\n"
   ]
  },
  {
   "cell_type": "code",
   "execution_count": 470,
   "id": "4fd872e4-a6c4-4516-8e3f-49f5dbea3b32",
   "metadata": {},
   "outputs": [],
   "source": [
    "from langchain.storage import InMemoryStore\n",
    "from langchain.retrievers import ParentDocumentRetriever\n",
    "\n",
    "tokenizer_name= EMBEDDING_MODEL_NAME\n",
    "chunk_size = 512\n",
    "\n",
    "def create_parent_retriever(\n",
    "    docs,\n",
    "    embeddings_model,\n",
    "    collection_name=\"split_documents\",\n",
    "    top_k=5,\n",
    "#    persist_directory=None,\n",
    "):\n",
    "\n",
    "    \"\"\"\n",
    "    Initializes a retriever object to fetch the top_k most relevant documents based on cosine similarity.\n",
    "\n",
    "    Parameters:\n",
    "    - docs: A list of documents to be indexed and retrieved.\n",
    "    - embedding_model: The embedding model to use for generating document embeddings.\n",
    "    - collection_name: The name of the collection\n",
    "    - top_k: The number of top relevant documents to retrieve. Defaults to 3.\n",
    "    - persist_directory: directory where you want to store your vectorDB\n",
    "\n",
    "    Returns:\n",
    "    - A retriever object configured to retrieve the top_k relevant documents.\n",
    "\n",
    "    Raises:\n",
    "    - ValueError: If any input parameter is invalid.\n",
    "    \"\"\"\n",
    "\n",
    "    parent_splitter = RecursiveCharacterTextSplitter.from_huggingface_tokenizer(\n",
    "        AutoTokenizer.from_pretrained(tokenizer_name),\n",
    "        chunk_size=chunk_size,\n",
    "        chunk_overlap=int(chunk_size / 10),\n",
    "        add_start_index=True,\n",
    "        strip_whitespace=True,\n",
    "        separators=[\"\\n\\n\\n\", \"\\n\\n\", \"\\n\", \".\", \"\"],\n",
    "        is_separator_regex=False,\n",
    "    )\n",
    "\n",
    "    # This text splitter is used to create the child documents\n",
    "    child_splitter = RecursiveCharacterTextSplitter.from_huggingface_tokenizer(\n",
    "        AutoTokenizer.from_pretrained(tokenizer_name),\n",
    "        chunk_size=int(chunk_size / 2),\n",
    "        chunk_overlap=int(chunk_size / 10),\n",
    "        add_start_index=True,\n",
    "        strip_whitespace=True,\n",
    "        separators=[\"\\n\\n\\n\", \"\\n\\n\", \"\\n\", \".\", \"\"],\n",
    "        is_separator_regex=False,\n",
    "    )\n",
    "\n",
    "    # The vectorstore to use to index the child chunks\n",
    "    vector_store = Milvus(collection_name=collection_name, embedding_function=embedding_model, auto_id=True) #, persist_directory=persist_directory)\n",
    "\n",
    "    # The storage layer for the parent documents\n",
    "    store = InMemoryStore()\n",
    "    retriever = ParentDocumentRetriever(\n",
    "        vectorstore=vector_store,\n",
    "        docstore=store,\n",
    "        child_splitter=child_splitter,\n",
    "        parent_splitter=parent_splitter,\n",
    "        k=10,\n",
    "    )\n",
    "    retriever.add_documents(docs)\n",
    "\n",
    "\n",
    "    return retriever, vectorstore.as_retriever()"
   ]
  },
  {
   "cell_type": "code",
   "execution_count": null,
   "id": "a96ead5b-dd7d-4a9c-9393-c39decc9ad37",
   "metadata": {},
   "outputs": [],
   "source": [
    "''' ESTE MÉTODO FUNCIONA Y PERMITE MOSTRAR UNA BARRA DE PROGRESO AL AGREGAR DOCUMENTOS, PERO DESPUÉS AL USARLO NO ENTREGA LOS MISMOS CHUNKS QUE CON EL MÉTODO DE ARRIBA\n",
    "import logging\n",
    "logging.basicConfig(level=logging.INFO)\n",
    "\n",
    "from langchain.storage import InMemoryStore\n",
    "from langchain.retrievers import ParentDocumentRetriever\n",
    "from tqdm import tqdm\n",
    "import logging\n",
    "\n",
    "tokenizer_name = EMBEDDING_MODEL_NAME\n",
    "chunk_size = 512\n",
    "\n",
    "logging.basicConfig(level=logging.INFO)\n",
    "logger = logging.getLogger(__name__)\n",
    "\n",
    "def create_parent_retriever(\n",
    "    docs,\n",
    "    embeddings_model,\n",
    "    collection_name=\"split_documents\",\n",
    "    top_k=5,\n",
    "):\n",
    "    \"\"\"\n",
    "    Initializes a retriever object to fetch the top_k most relevant documents based on cosine similarity.\n",
    "\n",
    "    Parameters:\n",
    "    - docs: A list of documents to be indexed and retrieved.\n",
    "    - embedding_model: The embedding model to use for generating document embeddings.\n",
    "    - collection_name: The name of the collection\n",
    "    - top_k: The number of top relevant documents to retrieve. Defaults to 3.\n",
    "\n",
    "    Returns:\n",
    "    - A retriever object configured to retrieve the top_k relevant documents.\n",
    "\n",
    "    Raises:\n",
    "    - ValueError: If any input parameter is invalid.\n",
    "    \"\"\"\n",
    "\n",
    "    parent_splitter = RecursiveCharacterTextSplitter.from_huggingface_tokenizer(\n",
    "        AutoTokenizer.from_pretrained(tokenizer_name),\n",
    "        chunk_size=chunk_size,\n",
    "        chunk_overlap=int(chunk_size / 10),\n",
    "        add_start_index=True,\n",
    "        strip_whitespace=True,\n",
    "        separators=[\"\\n\\n\\n\", \"\\n\\n\", \"\\n\", \".\", \"\"],\n",
    "        is_separator_regex=False,\n",
    "    )\n",
    "\n",
    "    child_splitter = RecursiveCharacterTextSplitter.from_huggingface_tokenizer(\n",
    "        AutoTokenizer.from_pretrained(tokenizer_name),\n",
    "        chunk_size=int(chunk_size / 2),\n",
    "        chunk_overlap=int(chunk_size / 10),\n",
    "        add_start_index=True,\n",
    "        strip_whitespace=True,\n",
    "        separators=[\"\\n\\n\\n\", \"\\n\\n\", \"\\n\", \".\", \"\"],\n",
    "        is_separator_regex=False,\n",
    "    )\n",
    "\n",
    "    vector_store = Milvus(collection_name=collection_name, embedding_function=embeddings_model, auto_id=True)\n",
    "\n",
    "    store = InMemoryStore()\n",
    "    retriever = ParentDocumentRetriever(\n",
    "        vectorstore=vector_store,\n",
    "        docstore=store,\n",
    "        child_splitter=child_splitter,\n",
    "        parent_splitter=parent_splitter,\n",
    "        k=10,\n",
    "    )\n",
    "\n",
    "    for i, doc in enumerate(tqdm(docs, desc=\"Añadiendo documentos al retriever\")):\n",
    "        try:\n",
    "            if not doc.page_content.strip():\n",
    "                logger.warning(f\"Documento vacío encontrado en el índice {i}. Saltando...\")\n",
    "                continue\n",
    "            \n",
    "            retriever.add_documents([doc])\n",
    "        except Exception as e:\n",
    "            logger.error(f\"Error al procesar el documento {i}: {str(e)}\")\n",
    "            logger.error(f\"Contenido del documento: {doc.page_content[:100]}...\")  # Muestra los primeros 100 caracteres\n",
    "            raise\n",
    "\n",
    "    return retriever, vector_store.as_retriever()\n",
    "'''"
   ]
  },
  {
   "cell_type": "code",
   "execution_count": 471,
   "id": "d540107a-e2f6-436b-a13f-e0a0ccf4aa18",
   "metadata": {},
   "outputs": [
    {
     "data": {
      "text/plain": [
       "6"
      ]
     },
     "execution_count": 471,
     "metadata": {},
     "output_type": "execute_result"
    }
   ],
   "source": [
    "len(documents)"
   ]
  },
  {
   "cell_type": "code",
   "execution_count": 472,
   "id": "d9d7c62a-c9a4-4b69-a789-75aa1112ea2c",
   "metadata": {},
   "outputs": [],
   "source": [
    "parent_retriever, child_retriever = create_parent_retriever(documents, embedding_model)"
   ]
  },
  {
   "cell_type": "code",
   "execution_count": 473,
   "id": "f677d878-dfd3-417e-888b-a27dca883b3b",
   "metadata": {},
   "outputs": [
    {
     "data": {
      "text/plain": [
       "[]"
      ]
     },
     "execution_count": 473,
     "metadata": {},
     "output_type": "execute_result"
    }
   ],
   "source": [
    "#parent_retriever.get_relevant_documents(query=query)\n",
    "parent_retriever.invoke(input=query)"
   ]
  },
  {
   "cell_type": "code",
   "execution_count": 474,
   "id": "8eb5c2f0-97e0-4d27-b81b-125ab9f916d3",
   "metadata": {},
   "outputs": [
    {
     "data": {
      "text/plain": [
       "'Wer ist der Rektor der Universität Graz und in welchem Jahr wurde er geboren?'"
      ]
     },
     "execution_count": 474,
     "metadata": {},
     "output_type": "execute_result"
    }
   ],
   "source": [
    "query"
   ]
  },
  {
   "cell_type": "code",
   "execution_count": 475,
   "id": "6ca69de4-7a7e-41ce-9449-1b2957693b96",
   "metadata": {},
   "outputs": [
    {
     "name": "stdout",
     "output_type": "stream",
     "text": [
      "--------------------------------- chunk # 0 -------------------------------------\n",
      "um Ihr Arbeitsverhältnis 12 Häufig gestellte Fragen 14 Services & Infos im Überblick Ein Überblick für den Start 16 Über die Uni Graz © Uni Graz/Konstantinov 5 Über die Universität Die Universität Graz, gegründet 1585, ist Österreichs zweitälteste Universität und eine der größten des Landes. Zahlreiche herausragende Wissenschafter:innen, unter ihnen sechs Nobelpreisträger, haben hier gelehrt und geforscht. Mit rund 30.000 Studierenden und 4.500 Mitarbeitenden trägt sie entscheidend zum pulsierenden Leben\n",
      "--------------------------------- chunk # 1 -------------------------------------\n",
      "am Institut für Öffentliches Recht und Politikwissenschaft und leitete bis September 2022 die Abteilung Finanzen, Personal und Recht der Universität für Weiterbildung Krems. © Uni Graz/WildundWunderbar © Uni Graz/WildundWunderbar Organigramm FAKULTÄTEN* UNIRAT Der Unirat besteht aus 9\n",
      "--------------------------------- chunk # 2 -------------------------------------\n",
      "Graz. Seine beruflichen Stationen führten ihn unter anderem ins Europäische Parlament in Brüssel, in die Steiermärki­ sche Landesregierung, 2002 ins Bundeskanzleramt, mit den Schwerpunkten Wirtschaft und Forschung, sowie 2007 als Director of Public Affairs zur AVL List GmbH in Graz. 2011 wurde Riedler Vizerektor, im Dezember 2021 geschäftsfüh­ render Rektor der Universität Graz. Seit Oktober 2022 ist er Rektor. Vizerektor für Forschung Univ.-Prof. Dr. Joachim Reidl Joachim Reidl ist seit 2007\n",
      "--------------------------------- chunk # 3 -------------------------------------\n",
      "akgl.uni-graz.at Universitätsbibliothek ub.uni-graz.at Studienabteilung +43 316 380 1162 / 2192 zulassung.international@uni-graz.at 17 Early stage researchers (PhDs & PostDocs) Der Universität Graz ist die Unterstützung, Aus- und Weiterbildung ihrer „early stage researcher“\n"
     ]
    }
   ],
   "source": [
    "similar_chunks = retrieve_context(\n",
    "        query, retriever=child_retriever,\n",
    "    )\n",
    "for i, chunks in enumerate(similar_chunks):\n",
    "    print(f\"--------------------------------- chunk # {i} -------------------------------------\")\n",
    "    print(chunks.page_content)"
   ]
  },
  {
   "cell_type": "code",
   "execution_count": 478,
   "id": "e1c7c1f2-fc32-4126-af5d-43d48879af49",
   "metadata": {},
   "outputs": [],
   "source": [
    "similar_chunks = retrieve_context(\n",
    "        query, retriever=parent_retriever,\n",
    "    )\n",
    "for i, chunks in enumerate(similar_chunks):\n",
    "    print(f\"--------------------------------- chunk # {i} -------------------------------------\")\n",
    "    print(chunks.page_content)"
   ]
  },
  {
   "cell_type": "code",
   "execution_count": 477,
   "id": "b64ed888-1e43-495b-9961-6e1ad12964c9",
   "metadata": {},
   "outputs": [
    {
     "name": "stdout",
     "output_type": "stream",
     "text": [
      "\u001b[32;1m\u001b[1;3m[chain/start]\u001b[0m \u001b[1m[chain:RunnableSequence] Entering Chain run with input:\n",
      "\u001b[0m{\n",
      "  \"input\": \"Wer ist der Rektor der Universität Graz und in welchem Jahr wurde er geboren?\"\n",
      "}\n",
      "\u001b[32;1m\u001b[1;3m[chain/start]\u001b[0m \u001b[1m[chain:RunnableSequence > chain:RunnableParallel<Frage,Kontext>] Entering Chain run with input:\n",
      "\u001b[0m{\n",
      "  \"input\": \"Wer ist der Rektor der Universität Graz und in welchem Jahr wurde er geboren?\"\n",
      "}\n",
      "\u001b[32;1m\u001b[1;3m[chain/start]\u001b[0m \u001b[1m[chain:RunnableSequence > chain:RunnableParallel<Frage,Kontext> > chain:RunnablePassthrough] Entering Chain run with input:\n",
      "\u001b[0m{\n",
      "  \"input\": \"Wer ist der Rektor der Universität Graz und in welchem Jahr wurde er geboren?\"\n",
      "}\n",
      "\u001b[36;1m\u001b[1;3m[chain/end]\u001b[0m \u001b[1m[chain:RunnableSequence > chain:RunnableParallel<Frage,Kontext> > chain:RunnablePassthrough] [1ms] Exiting Chain run with output:\n",
      "\u001b[0m{\n",
      "  \"output\": \"Wer ist der Rektor der Universität Graz und in welchem Jahr wurde er geboren?\"\n",
      "}\n",
      "\u001b[36;1m\u001b[1;3m[chain/end]\u001b[0m \u001b[1m[chain:RunnableSequence > chain:RunnableParallel<Frage,Kontext>] [422ms] Exiting Chain run with output:\n",
      "\u001b[0m{\n",
      "  \"Frage\": \"Wer ist der Rektor der Universität Graz und in welchem Jahr wurde er geboren?\",\n",
      "  \"Kontext\": []\n",
      "}\n",
      "\u001b[32;1m\u001b[1;3m[chain/start]\u001b[0m \u001b[1m[chain:RunnableSequence > prompt:ChatPromptTemplate] Entering Prompt run with input:\n",
      "\u001b[0m{\n",
      "  \"Frage\": \"Wer ist der Rektor der Universität Graz und in welchem Jahr wurde er geboren?\",\n",
      "  \"Kontext\": []\n",
      "}\n",
      "\u001b[36;1m\u001b[1;3m[chain/end]\u001b[0m \u001b[1m[chain:RunnableSequence > prompt:ChatPromptTemplate] [1ms] Exiting Prompt run with output:\n",
      "\u001b[0m[outputs]\n",
      "\u001b[32;1m\u001b[1;3m[llm/start]\u001b[0m \u001b[1m[chain:RunnableSequence > llm:AzureChatOpenAI] Entering LLM run with input:\n",
      "\u001b[0m{\n",
      "  \"prompts\": [\n",
      "    \"Human: \\nDu bist ein hilfreicher Assistent. Gib Antworten auf die Fragen der Benutzer auf der Grundlage des bereitgestellten Kontexts.\\n\\nKontext:\\n[]\\n\\nFrage:\\nWer ist der Rektor der Universität Graz und in welchem Jahr wurde er geboren?\"\n",
      "  ]\n",
      "}\n",
      "\u001b[36;1m\u001b[1;3m[llm/end]\u001b[0m \u001b[1m[chain:RunnableSequence > llm:AzureChatOpenAI] [1.66s] Exiting LLM run with output:\n",
      "\u001b[0m{\n",
      "  \"generations\": [\n",
      "    [\n",
      "      {\n",
      "        \"text\": \"Derzeit habe ich keine spezifischen Informationen über den Rektor der Universität Graz oder das Geburtsjahr dieser Person. Um diese Informationen zu erhalten, empfehle ich, die offizielle Website der Universität Graz zu besuchen oder direkt Kontakt mit der Universität aufzunehmen.\",\n",
      "        \"generation_info\": {\n",
      "          \"finish_reason\": \"stop\",\n",
      "          \"logprobs\": null,\n",
      "          \"content_filter_results\": {}\n",
      "        },\n",
      "        \"type\": \"ChatGeneration\",\n",
      "        \"message\": {\n",
      "          \"lc\": 1,\n",
      "          \"type\": \"constructor\",\n",
      "          \"id\": [\n",
      "            \"langchain\",\n",
      "            \"schema\",\n",
      "            \"messages\",\n",
      "            \"AIMessage\"\n",
      "          ],\n",
      "          \"kwargs\": {\n",
      "            \"content\": \"Derzeit habe ich keine spezifischen Informationen über den Rektor der Universität Graz oder das Geburtsjahr dieser Person. Um diese Informationen zu erhalten, empfehle ich, die offizielle Website der Universität Graz zu besuchen oder direkt Kontakt mit der Universität aufzunehmen.\",\n",
      "            \"response_metadata\": {\n",
      "              \"token_usage\": {\n",
      "                \"completion_tokens\": 51,\n",
      "                \"prompt_tokens\": 56,\n",
      "                \"total_tokens\": 107\n",
      "              },\n",
      "              \"model_name\": \"gpt-4o-2024-05-13\",\n",
      "              \"system_fingerprint\": \"fp_abc28019ad\",\n",
      "              \"finish_reason\": \"stop\",\n",
      "              \"logprobs\": null,\n",
      "              \"content_filter_results\": {}\n",
      "            },\n",
      "            \"type\": \"ai\",\n",
      "            \"id\": \"run-d8283f5f-91ea-4240-a870-d8df115decfd-0\",\n",
      "            \"usage_metadata\": {\n",
      "              \"input_tokens\": 56,\n",
      "              \"output_tokens\": 51,\n",
      "              \"total_tokens\": 107\n",
      "            },\n",
      "            \"tool_calls\": [],\n",
      "            \"invalid_tool_calls\": []\n",
      "          }\n",
      "        }\n",
      "      }\n",
      "    ]\n",
      "  ],\n",
      "  \"llm_output\": {\n",
      "    \"token_usage\": {\n",
      "      \"completion_tokens\": 51,\n",
      "      \"prompt_tokens\": 56,\n",
      "      \"total_tokens\": 107\n",
      "    },\n",
      "    \"model_name\": \"gpt-4o-2024-05-13\",\n",
      "    \"system_fingerprint\": \"fp_abc28019ad\"\n",
      "  },\n",
      "  \"run\": null\n",
      "}\n",
      "\u001b[32;1m\u001b[1;3m[chain/start]\u001b[0m \u001b[1m[chain:RunnableSequence > parser:StrOutputParser] Entering Parser run with input:\n",
      "\u001b[0m[inputs]\n",
      "\u001b[36;1m\u001b[1;3m[chain/end]\u001b[0m \u001b[1m[chain:RunnableSequence > parser:StrOutputParser] [1ms] Exiting Parser run with output:\n",
      "\u001b[0m{\n",
      "  \"output\": \"Derzeit habe ich keine spezifischen Informationen über den Rektor der Universität Graz oder das Geburtsjahr dieser Person. Um diese Informationen zu erhalten, empfehle ich, die offizielle Website der Universität Graz zu besuchen oder direkt Kontakt mit der Universität aufzunehmen.\"\n",
      "}\n",
      "\u001b[36;1m\u001b[1;3m[chain/end]\u001b[0m \u001b[1m[chain:RunnableSequence] [2.09s] Exiting Chain run with output:\n",
      "\u001b[0m{\n",
      "  \"output\": \"Derzeit habe ich keine spezifischen Informationen über den Rektor der Universität Graz oder das Geburtsjahr dieser Person. Um diese Informationen zu erhalten, empfehle ich, die offizielle Website der Universität Graz zu besuchen oder direkt Kontakt mit der Universität aufzunehmen.\"\n",
      "}\n",
      "Derzeit habe ich keine spezifischen Informationen über den Rektor der Universität Graz oder das Geburtsjahr dieser Person. Um diese Informationen zu erhalten, empfehle ich, die offizielle Website der Universität Graz zu besuchen oder direkt Kontakt mit der Universität aufzunehmen.\n"
     ]
    }
   ],
   "source": [
    "prompt_template = \"\"\"\n",
    "Du bist ein hilfreicher Assistent. Gib Antworten auf die Fragen der Benutzer auf der Grundlage des bereitgestellten Kontexts.\n",
    "\n",
    "Kontext:\n",
    "{Kontext}\n",
    "\n",
    "Frage:\n",
    "{Frage}\n",
    "\n",
    "\n",
    "\"\"\"\n",
    "prompt = ChatPromptTemplate.from_template(prompt_template)\n",
    "\n",
    "chain = {\"Frage\": RunnablePassthrough(), \"Kontext\": parent_retriever} \\\n",
    "        | prompt \\\n",
    "        | llm \\\n",
    "        | StrOutputParser() \\\n",
    "\n",
    "result = chain.invoke(query)\n",
    "\n",
    "# display(HTML(result))\n",
    "print(result)"
   ]
  },
  {
   "cell_type": "code",
   "execution_count": null,
   "id": "d1e490ec-22f8-42ec-bc0e-059185786443",
   "metadata": {},
   "outputs": [],
   "source": []
  }
 ],
 "metadata": {
  "kernelspec": {
   "display_name": "course_rag",
   "language": "python",
   "name": "course_rag"
  },
  "language_info": {
   "codemirror_mode": {
    "name": "ipython",
    "version": 3
   },
   "file_extension": ".py",
   "mimetype": "text/x-python",
   "name": "python",
   "nbconvert_exporter": "python",
   "pygments_lexer": "ipython3",
   "version": "3.10.14"
  }
 },
 "nbformat": 4,
 "nbformat_minor": 5
}
