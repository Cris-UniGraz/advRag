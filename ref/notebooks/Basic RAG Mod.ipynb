{
 "cells": [
  {
   "cell_type": "code",
   "execution_count": 38,
   "id": "daa847c7-ffc1-4f40-8159-745d52c0809c",
   "metadata": {},
   "outputs": [],
   "source": [
    "EMBEDDING_MODEL_NAME = 'deutsche-telekom/gbert-large-paraphrase-cosine'"
   ]
  },
  {
   "cell_type": "code",
   "execution_count": 39,
   "id": "c6ed4779-582b-44c0-aa1c-7778b25a93a3",
   "metadata": {},
   "outputs": [],
   "source": [
    "### SECTION 1.1 Load PDF files"
   ]
  },
  {
   "cell_type": "code",
   "execution_count": 40,
   "id": "95d8b20f-b701-4155-b4e7-6481cf221995",
   "metadata": {},
   "outputs": [],
   "source": [
    "import fitz  # PyMuPDF\n",
    "from langchain.docstore.document import Document\n",
    "import docx\n",
    "import openpyxl\n",
    "import os\n",
    "\n",
    "def load_documents(files):\n",
    "    \"\"\"\n",
    "    Loads documents from PDF, DOCX, and XLSX files.\n",
    "\n",
    "    Parameters:\n",
    "    - files: A string representing a single file path or a list of strings representing multiple file paths.\n",
    "\n",
    "    Returns:\n",
    "    - A list of Document objects loaded from the provided files.\n",
    "\n",
    "    Raises:\n",
    "    - FileNotFoundError: If any of the provided file paths do not exist.\n",
    "    - Exception: For any other issues encountered during file loading.\n",
    "    \"\"\"\n",
    "    if not isinstance(files, list):\n",
    "        files = [files]  # Ensure 'files' is always a list\n",
    "\n",
    "    documents = []\n",
    "    for file_path in files:\n",
    "        try:\n",
    "            file_extension = os.path.splitext(file_path)[1].lower()\n",
    "            if file_extension == '.pdf':\n",
    "                documents.extend(load_pdf(file_path))\n",
    "            elif file_extension == '.docx':\n",
    "                documents.extend(load_docx(file_path))\n",
    "            elif file_extension == '.xlsx':\n",
    "                documents.extend(load_xlsx(file_path))\n",
    "            else:\n",
    "                print(f\"Unsupported file type: {file_extension}\")\n",
    "        except FileNotFoundError as e:\n",
    "            print(f\"File not found: {e.filename}\")\n",
    "            raise\n",
    "        except Exception as e:\n",
    "            print(f\"An error occurred while loading {file_path}: {e}\")\n",
    "            raise\n",
    "\n",
    "    return documents\n",
    "\n",
    "def load_docx(file_path):\n",
    "    \"\"\"\n",
    "    Loads text from a DOCX file.\n",
    "    \"\"\"\n",
    "    doc = docx.Document(file_path)\n",
    "    text = \"\\n\".join([paragraph.text for paragraph in doc.paragraphs])\n",
    "    text = clean_extra_whitespace(text)\n",
    "    text = group_broken_paragraphs(text)\n",
    "    return [Document(page_content=text, metadata={\"source\": file_path})]\n",
    "\n",
    "def load_xlsx(file_path):\n",
    "    \"\"\"\n",
    "    Loads text from an XLSX file.\n",
    "    \"\"\"\n",
    "    wb = openpyxl.load_workbook(file_path)\n",
    "    text = \"\"\n",
    "    for sheet in wb.sheetnames:\n",
    "        ws = wb[sheet]\n",
    "        for row in ws.iter_rows(values_only=True):\n",
    "            text += \" \".join([str(cell) for cell in row if cell is not None]) + \"\\n\"\n",
    "    text = clean_extra_whitespace(text)\n",
    "    text = group_broken_paragraphs(text)\n",
    "    return [Document(page_content=text, metadata={\"source\": file_path})]\n",
    "    \n",
    "def load_pdf(file_path):\n",
    "    \"\"\"\n",
    "    Loads documents from a PDF file using PyMuPDF.\n",
    "\n",
    "    Parameters:\n",
    "    - file_path: A string representing the path to the PDF file.\n",
    "\n",
    "    Returns:\n",
    "    - A list containing a single Document object loaded from the provided PDF file.\n",
    "\n",
    "    Raises:\n",
    "    - FileNotFoundError: If the provided file path does not exist.\n",
    "    - Exception: For any other issues encountered during file loading.\n",
    "\n",
    "    The function applies post-processing steps such as cleaning extra whitespace and grouping broken paragraphs.\n",
    "    \"\"\"\n",
    "    try:\n",
    "        # Open the PDF file\n",
    "        doc = fitz.open(file_path)\n",
    "        text = \"\"\n",
    "        # Extract text from each page\n",
    "        for page_num in range(len(doc)):\n",
    "            page = doc.load_page(page_num)\n",
    "            text += page.get_text(\"text\")\n",
    "\n",
    "        # Apply post-processing steps\n",
    "        text = clean_extra_whitespace(text)\n",
    "        text = group_broken_paragraphs(text)\n",
    "\n",
    "        # Create a Document object\n",
    "        document = Document(\n",
    "            page_content=text,\n",
    "            metadata={\"source\": file_path}\n",
    "        )\n",
    "        return [document]\n",
    "    except FileNotFoundError:\n",
    "        print(f\"File not found: {file_path}\")\n",
    "        raise\n",
    "    except Exception as e:\n",
    "        print(f\"An error occurred while loading {file_path}: {e}\")\n",
    "        raise\n",
    "\n",
    "def clean_extra_whitespace(text):\n",
    "    \"\"\"\n",
    "    Cleans extra whitespace from the provided text.\n",
    "\n",
    "    Parameters:\n",
    "    - text: A string representing the text to be cleaned.\n",
    "\n",
    "    Returns:\n",
    "    - A string with extra whitespace removed.\n",
    "    \"\"\"\n",
    "    return ' '.join(text.split())\n",
    "\n",
    "def group_broken_paragraphs(text):\n",
    "    \"\"\"\n",
    "    Groups broken paragraphs in the provided text.\n",
    "\n",
    "    Parameters:\n",
    "    - text: A string representing the text to be processed.\n",
    "\n",
    "    Returns:\n",
    "    - A string with broken paragraphs grouped.\n",
    "    \"\"\"\n",
    "    return text.replace(\"\\n\", \" \").replace(\"\\r\", \" \")\n"
   ]
  },
  {
   "cell_type": "code",
   "execution_count": 41,
   "id": "7dbdaba1-d49b-4073-a935-d9b4122eedef",
   "metadata": {},
   "outputs": [
    {
     "name": "stdout",
     "output_type": "stream",
     "text": [
      "['C:/Pruebas/RAG Search/demo_docu/Ansuchen Bildungskarenz.docx', 'C:/Pruebas/RAG Search/demo_docu/Broschuere_Int-Mitarbeitende_2023_WEB.pdf', 'C:/Pruebas/RAG Search/demo_docu/BV_Sonderurlaube_2014-02.pdf', 'C:/Pruebas/RAG Search/demo_docu/BV_Sonderurlaube_Dienstverhinderungen.pdf', 'C:/Pruebas/RAG Search/demo_docu/Doku-An-Abwesenheit-Corona-Krise.xlsx', 'C:/Pruebas/RAG Search/demo_docu/Papamonat_Frühkarenzurlaub_für_Väter.pdf']\n"
     ]
    }
   ],
   "source": [
    "directory = \"C:/Pruebas/RAG Search/demo_docu\"\n",
    "# Get all files in the directory\n",
    "files = os.listdir(directory)\n",
    "# Filter out PDF, DOCX, and XLSX files\n",
    "document_files = [f\"{directory}/{file}\" for file in files if file.endswith(('.pdf', '.docx', '.xlsx'))]\n",
    "print(document_files)"
   ]
  },
  {
   "cell_type": "code",
   "execution_count": 42,
   "id": "741ff86d-a95a-4bcb-a4d8-9b4ddacfad65",
   "metadata": {},
   "outputs": [],
   "source": [
    "documents = load_documents(files=document_files)"
   ]
  },
  {
   "cell_type": "code",
   "execution_count": 43,
   "id": "00900bb7-4a10-4bce-bcfe-bbde44300a29",
   "metadata": {},
   "outputs": [
    {
     "data": {
      "text/plain": [
       "6"
      ]
     },
     "execution_count": 43,
     "metadata": {},
     "output_type": "execute_result"
    }
   ],
   "source": [
    "len(documents)"
   ]
  },
  {
   "cell_type": "code",
   "execution_count": 70,
   "id": "54aeb403-eca3-485f-abc8-c286e53caf7a",
   "metadata": {},
   "outputs": [],
   "source": [
    "### SECTION 1.3 Experimenting with Chunk Sizes using RecursiveCharacterTextSplitter\n",
    "\n",
    "#### Introduction\n",
    "#We are exploring the effects of various chunk sizes on text segmentation using the RecursiveCharacterTextSplitter from Langchain. This experiment is designed to refine our methods for optimally dividing text.\n",
    "\n",
    "#### Parameters Explained\n",
    "#- **Chunk Size**: This parameter sets the length of each text chunk, typically measured in characters. We begin with a predetermined chunk size to monitor how the text is segmented.\n",
    "#- **Chunk Overlap**: This allows for a slight overlap between consecutive chunks to prevent ideas from being split across two chunks. Initially, the overlap is set to 10% of the chunk size, but adjustments may lead to different results.\n",
    "\n",
    "#### Purpose\n",
    "#The objective of this experiment is to investigate how varying chunk size and overlap affect text division. By testing different configurations, we seek to discover a strategy that maintains the coherence of ideas while effectively segmenting the text.\n"
   ]
  },
  {
   "cell_type": "code",
   "execution_count": 45,
   "id": "741d0ca5-169c-44fd-b857-d9b6b4061df9",
   "metadata": {},
   "outputs": [],
   "source": [
    "def split_documents(\n",
    "    chunk_size: int,\n",
    "    knowledge_base,\n",
    "    tokenizer_name= EMBEDDING_MODEL_NAME,\n",
    "):\n",
    "    \"\"\"\n",
    "    Splits documents into chunks of maximum size `chunk_size` tokens, using a specified tokenizer.\n",
    "\n",
    "    Parameters:\n",
    "    - chunk_size: The maximum number of tokens for each chunk.\n",
    "    - knowledge_base: A list of LangchainDocument objects to be split.\n",
    "    - tokenizer_name: (Optional) The name of the tokenizer to use. Defaults to `EMBEDDING_MODEL_NAME`.\n",
    "\n",
    "    Returns:\n",
    "    - A list of LangchainDocument objects, each representing a chunk. Duplicates are removed based on `page_content`.\n",
    "\n",
    "    Raises:\n",
    "    - ImportError: If necessary modules for tokenization are not available.\n",
    "    \"\"\"\n",
    "    text_splitter = RecursiveCharacterTextSplitter.from_huggingface_tokenizer(\n",
    "        AutoTokenizer.from_pretrained(tokenizer_name),\n",
    "        chunk_size=chunk_size,\n",
    "        chunk_overlap=int(chunk_size / 10),\n",
    "        add_start_index=True,\n",
    "        strip_whitespace=True,\n",
    "    )\n",
    "\n",
    "    docs_processed = (text_splitter.split_documents([doc]) for doc in knowledge_base)\n",
    "    # Flatten list and remove duplicates more efficiently\n",
    "    unique_texts = set()\n",
    "    docs_processed_unique = []\n",
    "    for doc_chunk in docs_processed:\n",
    "        for doc in doc_chunk:\n",
    "            if doc.page_content not in unique_texts:\n",
    "                unique_texts.add(doc.page_content)\n",
    "                docs_processed_unique.append(doc)\n",
    "\n",
    "    return docs_processed_unique"
   ]
  },
  {
   "cell_type": "code",
   "execution_count": 46,
   "id": "d89f64b8-f84b-47a9-aeeb-cbf335daf826",
   "metadata": {},
   "outputs": [
    {
     "name": "stdout",
     "output_type": "stream",
     "text": [
      "Number of chunks: 88\n"
     ]
    }
   ],
   "source": [
    "from langchain.text_splitter import RecursiveCharacterTextSplitter\n",
    "from transformers import AutoTokenizer\n",
    "\n",
    "docs_processed = split_documents(\n",
    "    512,  # We choose a chunk size adapted to our model\n",
    "    documents,\n",
    "    tokenizer_name=EMBEDDING_MODEL_NAME,\n",
    ")\n",
    "\n",
    "print(f\"Number of chunks: {len(docs_processed)}\")"
   ]
  },
  {
   "cell_type": "code",
   "execution_count": 47,
   "id": "3503aa35-bb2b-4ea6-97c0-b485dbe363ef",
   "metadata": {},
   "outputs": [],
   "source": [
    "#### SECTION 1.4 The Embedding Model"
   ]
  },
  {
   "cell_type": "code",
   "execution_count": 48,
   "id": "00799f2c-c856-4c3f-a2bc-b5b3c2e7e5ef",
   "metadata": {},
   "outputs": [],
   "source": [
    "from langchain_huggingface import HuggingFaceEmbeddings\n",
    "from tqdm.autonotebook import tqdm, trange\n",
    "\n",
    "embedding_model = HuggingFaceEmbeddings(model_name=\"deutsche-telekom/gbert-large-paraphrase-cosine\")"
   ]
  },
  {
   "cell_type": "code",
   "execution_count": 49,
   "id": "f0885a24-5550-420a-814f-795625d49120",
   "metadata": {},
   "outputs": [
    {
     "data": {
      "text/plain": [
       "HuggingFaceEmbeddings(client=SentenceTransformer(\n",
       "  (0): Transformer({'max_seq_length': 512, 'do_lower_case': False}) with Transformer model: BertModel \n",
       "  (1): Pooling({'word_embedding_dimension': 1024, 'pooling_mode_cls_token': False, 'pooling_mode_mean_tokens': True, 'pooling_mode_max_tokens': False, 'pooling_mode_mean_sqrt_len_tokens': False, 'pooling_mode_weightedmean_tokens': False, 'pooling_mode_lasttoken': False, 'include_prompt': True})\n",
       "), model_name='deutsche-telekom/gbert-large-paraphrase-cosine', cache_folder=None, model_kwargs={}, encode_kwargs={}, multi_process=False, show_progress=False)"
      ]
     },
     "execution_count": 49,
     "metadata": {},
     "output_type": "execute_result"
    }
   ],
   "source": [
    "embedding_model"
   ]
  },
  {
   "cell_type": "code",
   "execution_count": 50,
   "id": "a820a77d-5b80-49f9-98b3-90fe4c88d5e3",
   "metadata": {},
   "outputs": [],
   "source": [
    "### Vector Store"
   ]
  },
  {
   "cell_type": "code",
   "execution_count": 51,
   "id": "4cc83890-594f-446f-b563-e75c221cd92a",
   "metadata": {},
   "outputs": [],
   "source": [
    "# Ruta a la carpeta local con archivos PDF, DOCX y XLSX\n",
    "#folder_path = \"C:/Pruebas/RAG Search/demo_docu_3\" #\"C:/Users/hernandc/RAG Test/RAG Advanced/data\" #\"C:/Pruebas/RAG Search/Documentos\" #demo_docu_2\" #demo_docu\" #Documentos\"\n",
    "\n",
    "# Lista para almacenar los datos de todos los documentos\n",
    "data = []"
   ]
  },
  {
   "cell_type": "code",
   "execution_count": 53,
   "id": "8d589bfa-4f28-4adf-ae8e-631bc23fc66b",
   "metadata": {},
   "outputs": [
    {
     "name": "stderr",
     "output_type": "stream",
     "text": [
      "Procesando documentos: 100%|█████████████████████████████████████████████████████████████████| 168/168 [00:00<?, ?it/s]\n",
      "Insertando documentos en Milvus: 100%|███████████████████████████████████████████████| 168/168 [03:44<00:00,  1.34s/it]\n"
     ]
    }
   ],
   "source": [
    "from langchain.text_splitter import RecursiveCharacterTextSplitter\n",
    "from tqdm import tqdm\n",
    "#from langchain.vectorstores.milvus import Milvus\n",
    "from langchain_milvus import Milvus\n",
    "from pymilvus import MilvusClient\n",
    "import os\n",
    "\n",
    "# Inicializar el cliente de Milvus\n",
    "client = MilvusClient()\n",
    "\n",
    "# Nombre de la colección\n",
    "collection_name = \"uni_test_5_1\" #\"uni_test\" \"rag_milvus_webinar\"\n",
    "\n",
    "# Verificar si la colección ya existe\n",
    "if client.has_collection(collection_name):\n",
    "    print(f\"Cargando la colección existente: {collection_name}\")\n",
    "\n",
    "    # Crear una lista para almacenar los documentos procesados\n",
    "else:\n",
    "    text_splitter = RecursiveCharacterTextSplitter(\n",
    "        chunk_size=512,  # the maximum number of characters in a chunk: we selected this value arbitrarily\n",
    "        chunk_overlap=100,  # the number of characters to overlap between chunks\n",
    "        add_start_index=True,  # If `True`, includes chunk's start index in metadata\n",
    "        strip_whitespace=True,  # If `True`, strips whitespace from the start and end of every document\n",
    "    )\n",
    "    all_splits = text_splitter.split_documents(docs_processed)\n",
    "\n",
    "    docs_processed = []\n",
    "    \n",
    "    # Iterar sobre los documentos y mostrar el progreso\n",
    "    for doc in tqdm(all_splits, desc=\"Procesando documentos\"):\n",
    "        docs_processed.append(doc)\n",
    "\n",
    "    # Supongamos que Milvus.from_documents permite la inserción en lotes\n",
    "    batch_size = 1  # Tamaño del lote\n",
    "    num_batches = len(docs_processed) // batch_size + (1 if len(docs_processed) % batch_size != 0 else 0)\n",
    "\n",
    "    # Crear el vectorstore con los documentos procesados en lotes\n",
    "    for i in tqdm(range(num_batches), desc=\"Insertando documentos en Milvus\"):\n",
    "        batch = docs_processed[i * batch_size:(i + 1) * batch_size]\n",
    "        Milvus.from_documents(documents=batch, embedding=embedding_model, collection_name=collection_name)\n",
    "\n",
    "vectorstore = Milvus(collection_name=collection_name, embedding_function=embedding_model)"
   ]
  },
  {
   "cell_type": "code",
   "execution_count": 54,
   "id": "57d43ba2-7b9d-4682-a378-d200c620f787",
   "metadata": {},
   "outputs": [],
   "source": [
    "retriever = vectorstore.as_retriever()"
   ]
  },
  {
   "cell_type": "code",
   "execution_count": 55,
   "id": "b0c663cb-6a77-4133-91d1-a349eb6d80a6",
   "metadata": {},
   "outputs": [
    {
     "data": {
      "text/plain": [
       "[Document(metadata={'source': 'C:/Pruebas/RAG Search/demo_docu/BV_Sonderurlaube_Dienstverhinderungen.pdf', 'start_index': 0, 'pk': 451633302904136280}, page_content='Abs. 2 Arbeitsruhegesetz [ARG]) für die gemäß ihren religiösen Vorschriften festgelegten Feiertage die unbedingt erforderliche freie Zeit unter Fortzahlung des Entgeltes im Höchstausmaß von zwei Arbeitstagen pro Kalenderjahr zwei Arbeitstagen pro Kalenderjahr zwei Arbeitstagen pro Kalenderjahr zwei Arbeitstagen pro Kalenderjahr. Diese Feiertage sind vom/von der Dienstnehmer/in unverzüglich nach Abschluss des Arbeitsvertrages (bzw bei bestehenden Dienst- /Arbeitsverhältnissen innerhalb eines Monats nach'),\n",
       " Document(metadata={'source': 'C:/Pruebas/RAG Search/demo_docu/BV_Sonderurlaube_Dienstverhinderungen.pdf', 'start_index': 0, 'pk': 451633302904136276}, page_content='f. f. f. f. Teilnahme an der Bestattung naher Angehöriger, die nicht im gemeinsamen Haushalt gelebt haben ein Arbeitstag ein Arbeitstag ein Arbeitstag ein Arbeitstag Seite 5 von 7 g. g. g. g. Teilnahme an der Bestattung der Eltern des Ehepartners/eingetragenen Partners/Lebensgefährten ein Arbeitstag ein Arbeitstag ein Arbeitstag ein Arbeitstag h. h. h. h. Wohnungswechsel zwei Arbeitstage zwei Arbeitstage zwei Arbeitstage zwei Arbeitstage i. i. i. i. Dienstnehmer/innen, die einer staatlich anerkannten'),\n",
       " Document(metadata={'source': 'C:/Pruebas/RAG Search/demo_docu/Papamonat_Frühkarenzurlaub_für_Väter.pdf', 'start_index': 0, 'pk': 451633302904136344}, page_content='– zusätzlich zur Karenz – den Frühkarenzurlaub oder sogenannten „Papamonat“ beantragen. Dabei handelt es sich um einen bis zu vierwöchigen unbezahlten Urlaub, der von der Geburt des Kindes bis längstens zum Ende des Mutterschutzes in Anspruch genommen werden kann. Der Sozialversicherungsschutz bleibt aufrecht. Im März des Vorjahres haben Rektorin Christa Neuper, Isabelle Pircher (Betriebsrat für das allgemeine Universitätspersonal) und Ingo Kropac (Betriebsrat für das wissenschaftliche Universitätspersonal)'),\n",
       " Document(metadata={'source': 'C:/Pruebas/RAG Search/demo_docu/Papamonat_Frühkarenzurlaub_für_Väter.pdf', 'start_index': 0, 'pk': 451633302904136348}, page_content='und Vertragsbedienstete bestand diese Regelung bereits. „Väterkarenz und Papamonat sind Teile des universitären Schwerpunktprogrammes ,Work-Life-Balance‘, das die Vereinbarkeit von Beruf, Kinderbetreuung, Familie und Pflege umfasst“, erklärt Vizerektorin Renate Dworczak. Ein Uni-Mitarbeiter, der die Möglichkeit der Väterkarenz genutzt hat, ist Jakob Putz, am Foto mit Sohn Philipp. „Als wir erfahren haben, dass wir ein Kind bekommen, stand es für mich fest, zuhause zu bleiben“, erzählt der Mitarbeiter vom')]"
      ]
     },
     "execution_count": 55,
     "metadata": {},
     "output_type": "execute_result"
    }
   ],
   "source": [
    "#similar_chunks = retriever.get_relevant_documents(query=\"﻿﻿Mein Vater ist gestorben, wie viel Tage Sonderurlaub bekomme ich?\")\n",
    "similar_chunks = retriever.invoke(input=\"﻿﻿Mein Vater ist gestorben, wie viel Tage Sonderurlaub bekomme ich?\")\n",
    "similar_chunks"
   ]
  },
  {
   "cell_type": "code",
   "execution_count": 56,
   "id": "ee97a96f-e9f2-43fc-ac65-dd84915427cd",
   "metadata": {},
   "outputs": [
    {
     "name": "stdout",
     "output_type": "stream",
     "text": [
      "--------------------------------- chunk # 0 -------------------------------------\n",
      "Abs. 2 Arbeitsruhegesetz [ARG]) für die gemäß ihren religiösen Vorschriften festgelegten Feiertage die unbedingt erforderliche freie Zeit unter Fortzahlung des Entgeltes im Höchstausmaß von zwei Arbeitstagen pro Kalenderjahr zwei Arbeitstagen pro Kalenderjahr zwei Arbeitstagen pro Kalenderjahr zwei Arbeitstagen pro Kalenderjahr. Diese Feiertage sind vom/von der Dienstnehmer/in unverzüglich nach Abschluss des Arbeitsvertrages (bzw bei bestehenden Dienst- /Arbeitsverhältnissen innerhalb eines Monats nach\n",
      "--------------------------------- chunk # 1 -------------------------------------\n",
      "f. f. f. f. Teilnahme an der Bestattung naher Angehöriger, die nicht im gemeinsamen Haushalt gelebt haben ein Arbeitstag ein Arbeitstag ein Arbeitstag ein Arbeitstag Seite 5 von 7 g. g. g. g. Teilnahme an der Bestattung der Eltern des Ehepartners/eingetragenen Partners/Lebensgefährten ein Arbeitstag ein Arbeitstag ein Arbeitstag ein Arbeitstag h. h. h. h. Wohnungswechsel zwei Arbeitstage zwei Arbeitstage zwei Arbeitstage zwei Arbeitstage i. i. i. i. Dienstnehmer/innen, die einer staatlich anerkannten\n",
      "--------------------------------- chunk # 2 -------------------------------------\n",
      "– zusätzlich zur Karenz – den Frühkarenzurlaub oder sogenannten „Papamonat“ beantragen. Dabei handelt es sich um einen bis zu vierwöchigen unbezahlten Urlaub, der von der Geburt des Kindes bis längstens zum Ende des Mutterschutzes in Anspruch genommen werden kann. Der Sozialversicherungsschutz bleibt aufrecht. Im März des Vorjahres haben Rektorin Christa Neuper, Isabelle Pircher (Betriebsrat für das allgemeine Universitätspersonal) und Ingo Kropac (Betriebsrat für das wissenschaftliche Universitätspersonal)\n",
      "--------------------------------- chunk # 3 -------------------------------------\n",
      "und Vertragsbedienstete bestand diese Regelung bereits. „Väterkarenz und Papamonat sind Teile des universitären Schwerpunktprogrammes ,Work-Life-Balance‘, das die Vereinbarkeit von Beruf, Kinderbetreuung, Familie und Pflege umfasst“, erklärt Vizerektorin Renate Dworczak. Ein Uni-Mitarbeiter, der die Möglichkeit der Väterkarenz genutzt hat, ist Jakob Putz, am Foto mit Sohn Philipp. „Als wir erfahren haben, dass wir ein Kind bekommen, stand es für mich fest, zuhause zu bleiben“, erzählt der Mitarbeiter vom\n"
     ]
    }
   ],
   "source": [
    "for i, chunks in enumerate(similar_chunks):\n",
    "    print(f\"--------------------------------- chunk # {i} -------------------------------------\")\n",
    "    print(chunks.page_content)"
   ]
  },
  {
   "cell_type": "code",
   "execution_count": 57,
   "id": "dacb840b-ddda-4258-95ee-c43e93e64a11",
   "metadata": {},
   "outputs": [],
   "source": [
    "def retrieve_context(query, retriever):\n",
    "    \"\"\"\n",
    "    Retrieves and reranks documents relevant to a given query.\n",
    "\n",
    "    Parameters:\n",
    "    - query: The search query as a string.\n",
    "    - retriever: An instance of a Retriever class used to fetch initial documents.\n",
    "\n",
    "    Returns:\n",
    "    - A list of reranked documents deemed relevant to the query.\n",
    "\n",
    "    \"\"\"\n",
    "    retrieved_docs = retriever.get_relevant_documents(query)\n",
    "\n",
    "    return retrieved_docs"
   ]
  },
  {
   "cell_type": "code",
   "execution_count": 58,
   "id": "e929bffb-2c40-473d-9d19-db4a5d776292",
   "metadata": {},
   "outputs": [],
   "source": [
    "### SECTION 1.5 Putting Everything Together"
   ]
  },
  {
   "cell_type": "code",
   "execution_count": 71,
   "id": "e0c1a1e5-e7ed-4b79-94d7-5e67a1fcd085",
   "metadata": {},
   "outputs": [],
   "source": [
    "### Using AZURE OPENAI API\n",
    "\n",
    "#Moving forward, we will be using both openai LLM and Embedding model."
   ]
  },
  {
   "cell_type": "code",
   "execution_count": 60,
   "id": "986e1352-c727-4da2-acd9-aa3698ed659d",
   "metadata": {},
   "outputs": [],
   "source": [
    "from langchain.prompts import ChatPromptTemplate\n",
    "prompt_template = ChatPromptTemplate.from_template(\n",
    "        (\n",
    "            \"Bitte beantworte die folgende Anfrage auf der Grundlage des angegebenen `Kontext`, der auf die Anfrage folgt.\\n\"\n",
    "            \"Wenn du die Antwort nicht weißt, dann sag einfach 'Ich weiß es nicht'.\\n\"\n",
    "            \"Anfrage: {question}\\n\"\n",
    "            \"Kontext: ```{context}```\\n\"\n",
    "        )\n",
    "    )"
   ]
  },
  {
   "cell_type": "code",
   "execution_count": 61,
   "id": "3c87c90c-6d29-4662-8f37-a9d76b3610a5",
   "metadata": {},
   "outputs": [
    {
     "data": {
      "text/plain": [
       "True"
      ]
     },
     "execution_count": 61,
     "metadata": {},
     "output_type": "execute_result"
    }
   ],
   "source": [
    "from dotenv import load_dotenv\n",
    "import os\n",
    "from pathlib import Path\n",
    "\n",
    "dotenv_path = Path(r'C:\\Users\\hernandc\\RAG Test\\apikeys.env')\n",
    "load_dotenv(dotenv_path=dotenv_path)"
   ]
  },
  {
   "cell_type": "code",
   "execution_count": 62,
   "id": "672a2d22-cda9-4d06-bb8f-5b2d12649a05",
   "metadata": {},
   "outputs": [],
   "source": [
    "from openai import AzureOpenAI\n",
    "\n",
    "# Configurar el cliente de Azure OpenAI\n",
    "client = AzureOpenAI(\n",
    "    api_key=os.getenv(\"AZURE_OPENAI_API_KEY\"),  \n",
    "    api_version=\"2023-05-15\",\n",
    "    azure_endpoint=os.getenv(\"AZURE_OPENAI_ENDPOINT\")\n",
    ")\n",
    "\n",
    "MODEL = \"gpt-4-turbo\" # \"gpt-4\"  # Reemplaza esto con el nombre de tu despliegue de GPT-4 en Azure"
   ]
  },
  {
   "cell_type": "code",
   "execution_count": 63,
   "id": "842a6fb2-051a-40e6-9357-225076c75d68",
   "metadata": {},
   "outputs": [],
   "source": [
    "from langchain_core.runnables import RunnablePassthrough\n",
    "from langchain_core.output_parsers import StrOutputParser\n",
    "from langchain.schema import HumanMessage\n",
    "\n",
    "def azure_openai_call(prompt):\n",
    "    # Si el prompt es un objeto HumanMessage, extraemos su contenido\n",
    "    if isinstance(prompt, HumanMessage):\n",
    "        prompt_content = prompt.content\n",
    "    else:\n",
    "        prompt_content = str(prompt)\n",
    "    \n",
    "    response = client.chat.completions.create(\n",
    "        model=MODEL,\n",
    "        messages=[\n",
    "            {\"role\": \"system\", \"content\": \"You are a helpful assistant.\"},\n",
    "            {\"role\": \"user\", \"content\": prompt_content}\n",
    "        ]\n",
    "    )\n",
    "    return response.choices[0].message.content\n",
    "\n",
    "llm = (lambda x: azure_openai_call(x))  # Envolver la llamada en una función lambda\n",
    "chain = prompt_template | llm | StrOutputParser()"
   ]
  },
  {
   "cell_type": "code",
   "execution_count": 64,
   "id": "ba89e99a-ba9f-4c60-8204-4205018653e3",
   "metadata": {},
   "outputs": [],
   "source": [
    "query = \"Wer ist der Rektor der Universität Graz und in welchem Jahr wurde er geboren?\"\n",
    "\n",
    "context = retrieve_context(\n",
    "        query, retriever=retriever,\n",
    "    )"
   ]
  },
  {
   "cell_type": "code",
   "execution_count": 65,
   "id": "cad28085-bebc-4de7-ba03-6623df276388",
   "metadata": {},
   "outputs": [
    {
     "data": {
      "text/plain": [
       "[Document(metadata={'source': 'C:/Pruebas/RAG Search/demo_docu/Broschuere_Int-Mitarbeitende_2023_WEB.pdf', 'start_index': 0, 'pk': 451633302904136032}, page_content='um Ihr Arbeitsverhältnis 12 Häufig gestellte Fragen 14 Services & Infos im Überblick Ein Überblick für den Start 16 Über die Uni Graz © Uni Graz/Konstantinov 5 Über die Universität Die Universität Graz, gegründet 1585, ist Österreichs zweitälteste Universität und eine der größten des Landes. Zahlreiche herausragende Wissenschafter:innen, unter ihnen sechs Nobelpreisträger, haben hier gelehrt und geforscht. Mit rund 30.000 Studierenden und 4.500 Mitarbeitenden trägt sie entscheidend zum pulsierenden Leben'),\n",
       " Document(metadata={'source': 'C:/Pruebas/RAG Search/demo_docu/Broschuere_Int-Mitarbeitende_2023_WEB.pdf', 'start_index': 417, 'pk': 451633302904136054}, page_content='am Institut für Öffentliches Recht und Politikwissenschaft und leitete bis September 2022 die Abteilung Finanzen, Personal und Recht der Universität für Weiterbildung Krems. © Uni Graz/WildundWunderbar © Uni Graz/WildundWunderbar Organigramm FAKULTÄTEN* UNIRAT Der Unirat besteht aus 9'),\n",
       " Document(metadata={'source': 'C:/Pruebas/RAG Search/demo_docu/Broschuere_Int-Mitarbeitende_2023_WEB.pdf', 'start_index': 0, 'pk': 451633302904136040}, page_content='Graz. Seine beruflichen Stationen führten ihn unter anderem ins Europäische Parlament in Brüssel, in die Steiermärki\\xad sche Landesregierung, 2002 ins Bundeskanzleramt, mit den Schwerpunkten Wirtschaft und Forschung, sowie 2007 als Director of Public Affairs zur AVL List GmbH in Graz. 2011 wurde Riedler Vizerektor, im Dezember 2021 geschäftsfüh\\xad render Rektor der Universität Graz. Seit Oktober 2022 ist er Rektor. Vizerektor für Forschung Univ.-Prof. Dr. Joachim Reidl Joachim Reidl ist seit 2007'),\n",
       " Document(metadata={'source': 'C:/Pruebas/RAG Search/demo_docu/Broschuere_Int-Mitarbeitende_2023_WEB.pdf', 'start_index': 400, 'pk': 451633302904136158}, page_content='akgl.uni-graz.at Universitätsbibliothek ub.uni-graz.at Studienabteilung +43 316 380 1162 / 2192 zulassung.international@uni-graz.at 17 Early stage researchers (PhDs & PostDocs) Der Universität Graz ist die Unterstützung, Aus- und Weiterbildung ihrer „early stage researcher“')]"
      ]
     },
     "execution_count": 65,
     "metadata": {},
     "output_type": "execute_result"
    }
   ],
   "source": [
    "context"
   ]
  },
  {
   "cell_type": "code",
   "execution_count": 66,
   "id": "c47f984b-1635-4106-91ff-ed8066dbf23e",
   "metadata": {},
   "outputs": [],
   "source": [
    "text = \"\"\n",
    "for ch in context:\n",
    "    text += ch.page_content"
   ]
  },
  {
   "cell_type": "code",
   "execution_count": 67,
   "id": "efdafdbb-07cf-4de0-b952-b9c19d878c61",
   "metadata": {},
   "outputs": [
    {
     "name": "stdout",
     "output_type": "stream",
     "text": [
      "um Ihr Arbeitsverhältnis 12 Häufig gestellte Fragen 14 Services & Infos im Überblick Ein Überblick für den Start 16 Über die Uni Graz © Uni Graz/Konstantinov 5 Über die Universität Die Universität Graz, gegründet 1585, ist Österreichs zweitälteste Universität und eine der größten des Landes. Zahlreiche herausragende Wissenschafter:innen, unter ihnen sechs Nobelpreisträger, haben hier gelehrt und geforscht. Mit rund 30.000 Studierenden und 4.500 Mitarbeitenden trägt sie entscheidend zum pulsierenden Lebenam Institut für Öffentliches Recht und Politikwissenschaft und leitete bis September 2022 die Abteilung Finanzen, Personal und Recht der Universität für Weiterbildung Krems. © Uni Graz/WildundWunderbar © Uni Graz/WildundWunderbar Organigramm FAKULTÄTEN* UNIRAT Der Unirat besteht aus 9Graz. Seine beruflichen Stationen führten ihn unter anderem ins Europäische Parlament in Brüssel, in die Steiermärki­ sche Landesregierung, 2002 ins Bundeskanzleramt, mit den Schwerpunkten Wirtschaft und Forschung, sowie 2007 als Director of Public Affairs zur AVL List GmbH in Graz. 2011 wurde Riedler Vizerektor, im Dezember 2021 geschäftsfüh­ render Rektor der Universität Graz. Seit Oktober 2022 ist er Rektor. Vizerektor für Forschung Univ.-Prof. Dr. Joachim Reidl Joachim Reidl ist seit 2007akgl.uni-graz.at Universitätsbibliothek ub.uni-graz.at Studienabteilung +43 316 380 1162 / 2192 zulassung.international@uni-graz.at 17 Early stage researchers (PhDs & PostDocs) Der Universität Graz ist die Unterstützung, Aus- und Weiterbildung ihrer „early stage researcher“\n"
     ]
    }
   ],
   "source": [
    "print(text)"
   ]
  },
  {
   "cell_type": "code",
   "execution_count": 68,
   "id": "8b2086aa-2ae8-4784-a482-383ab7e5c632",
   "metadata": {},
   "outputs": [],
   "source": [
    "response = chain.invoke({\"context\": context, \"question\": query})"
   ]
  },
  {
   "cell_type": "code",
   "execution_count": 69,
   "id": "cd0f632c-ae32-4299-a946-8d67d2ddf45d",
   "metadata": {},
   "outputs": [
    {
     "name": "stdout",
     "output_type": "stream",
     "text": [
      "Der Rektor der Universität Graz ist seit Oktober 2022 Peter Riedler. Das Geburtsjahr wird im bereitgestellten Kontext nicht angegeben.\n"
     ]
    }
   ],
   "source": [
    "print(response)"
   ]
  },
  {
   "cell_type": "code",
   "execution_count": null,
   "id": "32240b88-9b0e-467e-9933-8ee091dc70aa",
   "metadata": {},
   "outputs": [],
   "source": []
  }
 ],
 "metadata": {
  "kernelspec": {
   "display_name": "course_rag",
   "language": "python",
   "name": "course_rag"
  },
  "language_info": {
   "codemirror_mode": {
    "name": "ipython",
    "version": 3
   },
   "file_extension": ".py",
   "mimetype": "text/x-python",
   "name": "python",
   "nbconvert_exporter": "python",
   "pygments_lexer": "ipython3",
   "version": "3.10.14"
  }
 },
 "nbformat": 4,
 "nbformat_minor": 5
}
